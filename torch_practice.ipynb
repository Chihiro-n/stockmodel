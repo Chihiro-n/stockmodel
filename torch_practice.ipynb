{
 "cells": [
  {
   "cell_type": "markdown",
   "metadata": {},
   "source": [
    "# NNで株価を予測モデルを作成する"
   ]
  },
  {
   "cell_type": "code",
   "execution_count": 1,
   "metadata": {},
   "outputs": [],
   "source": [
    "import numpy as np\n",
    "import pandas as pd\n",
    "import matplotlib.pyplot as plt\n",
    "#import pandas_profiling as pdp\n",
    "import seaborn as sns\n",
    "%matplotlib inline\n",
    "\n",
    "# tsvファイルの読み込み csvではないので、delimiterオプションを設定\n",
    "#df_train_law = pd.read_csv('/Users/apple/python/stock/StockModelpytorch/data/2017_1321.csv' ,index_col=0)\n"
   ]
  },
  {
   "cell_type": "markdown",
   "metadata": {},
   "source": [
    "# NNを組んで見る"
   ]
  },
  {
   "cell_type": "code",
   "execution_count": 2,
   "metadata": {},
   "outputs": [],
   "source": [
    "import torch\n",
    "import torch.nn as nn\n",
    "import torch.nn.functional as F\n",
    "import torch.optim as optim\n",
    "from torch.utils.data import Dataset, DataLoader\n",
    "from sklearn.model_selection import train_test_split\n",
    "import numpy as np"
   ]
  },
  {
   "cell_type": "markdown",
   "metadata": {},
   "source": [
    "# データセットを作る\n",
    "## PytorchのLSTMに学習させるためのデータは次元の工夫が必要であり、二重リストのようなかたちになる"
   ]
  },
  {
   "cell_type": "code",
   "execution_count": 4,
   "metadata": {},
   "outputs": [],
   "source": [
    "window = 6\n",
    "\n",
    "df_train_law = pd.read_csv('./data/three_year_stock_data.csv' ,index_col=0)\n",
    "df_train_law.head()\n",
    "inp_dim = len(df_train_law)\n",
    "\n",
    "open = df_train_law.open.values\n",
    "nd_cast = open.astype(np.float32)\n",
    "\n",
    "X_train, y_train, X_test, y_test= [], [], [], []\n",
    "tmp = []\n",
    "\n",
    "for i in nd_cast:\n",
    "    tmp.append([i])\n",
    "\n",
    "for i in range(inp_dim - window):\n",
    "    X_train.append(tmp[i:i+window])\n",
    "    y_train.append(tmp[i+window])"
   ]
  },
  {
   "cell_type": "code",
   "execution_count": 5,
   "metadata": {},
   "outputs": [
    {
     "name": "stdout",
     "output_type": "stream",
     "text": [
      "6\n",
      "698\n",
      "[[19790.0], [20100.0], [19850.0], [19910.0], [19860.0], [19760.0]]\n",
      "[[20100.0], [19850.0], [19910.0], [19860.0], [19760.0], [19660.0]]\n",
      "[[19850.0], [19910.0], [19860.0], [19760.0], [19660.0], [19710.0]]\n",
      "[19660.0]\n",
      "[19710.0]\n"
     ]
    }
   ],
   "source": [
    "print( len(X_train[0]) )\n",
    "print( len(X_train) )\n",
    "\n",
    "print(X_train[0])\n",
    "print(X_train[1])\n",
    "print(X_train[2])\n",
    "print(y_train[0])\n",
    "print(y_train[1])"
   ]
  },
  {
   "cell_type": "code",
   "execution_count": 6,
   "metadata": {},
   "outputs": [],
   "source": [
    "X_train = torch.tensor(X_train)\n",
    "y_train = torch.tensor(y_train)"
   ]
  },
  {
   "cell_type": "markdown",
   "metadata": {},
   "source": [
    "## Dataを組むまでの流れ\n",
    "1. Datasetクラスを作成する \n",
    "    1. 入力データと正解データにわける tensorにすること pd->np->tensorに変換する必要がある\n",
    "    1. \\__len__と\\__getitem__を用意すること\n",
    "1. Dataloaderを準備  \n",
    "Datasetクラスで作ったやつをinputするだけなので難易度は低い\n",
    "    "
   ]
  },
  {
   "cell_type": "markdown",
   "metadata": {},
   "source": [
    " ### datasetクラスを作成する"
   ]
  },
  {
   "cell_type": "code",
   "execution_count": 7,
   "metadata": {},
   "outputs": [],
   "source": [
    "class Dataset(torch.utils.data.Dataset):\n",
    "    def __init__(self,  X , y , mode='train' ,transform = None):\n",
    "        self.data = X\n",
    "        self.label = y\n",
    "        self.num = len(X)\n",
    "        self.mode= mode\n",
    "        self.transform = transform\n",
    "       \n",
    "    \n",
    "    def __len__(self):                         ###データの大きさをreturn するlenメソッドを必ず作成する必要がある\n",
    "        return self.num\n",
    "    \n",
    "    def __getitem__(self, idx):           ###正解データと入力データが対となるようなgetitemメソッドを必ず作成する必要がある\n",
    "        \n",
    "        out_data = self.data[idx]\n",
    "        out_label =  self.label[idx]\n",
    "        \n",
    "        return out_data, out_label\n",
    "        "
   ]
  },
  {
   "cell_type": "markdown",
   "metadata": {},
   "source": [
    "### XとyをDatasetクラスを継承させて作った自作クラスにinput"
   ]
  },
  {
   "cell_type": "code",
   "execution_count": 48,
   "metadata": {},
   "outputs": [],
   "source": [
    "trainset = Dataset( X_train , y_train )"
   ]
  },
  {
   "cell_type": "code",
   "execution_count": 49,
   "metadata": {},
   "outputs": [],
   "source": [
    "dataloader = torch.utils.data.DataLoader(dataset=trainset, batch_size = 4, shuffle=True)   "
   ]
  },
  {
   "cell_type": "markdown",
   "metadata": {},
   "source": [
    "### 中身の確認"
   ]
  },
  {
   "cell_type": "code",
   "execution_count": 50,
   "metadata": {},
   "outputs": [],
   "source": [
    "dataiter = iter(dataloader)\n",
    "\n",
    "X, labal = dataiter.next()"
   ]
  },
  {
   "cell_type": "code",
   "execution_count": 51,
   "metadata": {},
   "outputs": [
    {
     "data": {
      "text/plain": [
       "torch.Size([4, 6, 1])"
      ]
     },
     "execution_count": 51,
     "metadata": {},
     "output_type": "execute_result"
    }
   ],
   "source": [
    "X.shape"
   ]
  },
  {
   "cell_type": "code",
   "execution_count": 52,
   "metadata": {},
   "outputs": [
    {
     "name": "stdout",
     "output_type": "stream",
     "text": [
      "torch.Size([6, 1])\n",
      "tensor([[22800.],\n",
      "        [22700.],\n",
      "        [22580.],\n",
      "        [22700.],\n",
      "        [22870.],\n",
      "        [22950.]])\n",
      "tensor([23150.])\n"
     ]
    }
   ],
   "source": [
    "print(X[1].shape)\n",
    "print(X[1])\n",
    "print(labal[1])"
   ]
  },
  {
   "cell_type": "markdown",
   "metadata": {},
   "source": [
    "## モデルの構築"
   ]
  },
  {
   "cell_type": "code",
   "execution_count": 61,
   "metadata": {},
   "outputs": [],
   "source": [
    "import torch\n",
    "import torch.nn as nn\n",
    "\n",
    "\n",
    "class Predictor(nn.Module):\n",
    "    def __init__(self, inputDim, hiddenDim, outputDim):\n",
    "        super(Predictor, self).__init__()\n",
    "\n",
    "        self.lstm = nn.LSTM(input_size = inputDim,\n",
    "                            hidden_size = hiddenDim,\n",
    "                            batch_first = True)\n",
    "        self.output_layer = nn.Linear(hiddenDim, outputDim)\n",
    "    \n",
    "    def forward(self, inputs, hidden0=None):\n",
    "        \n",
    "        output, (hidden, cell) = self.lstm(inputs, hidden0) #LSTM層\n",
    "        output = self.output_layer(output[:, -1, :]) #全結合層\n",
    "\n",
    "        return output\n"
   ]
  },
  {
   "cell_type": "code",
   "execution_count": 62,
   "metadata": {},
   "outputs": [
    {
     "data": {
      "text/plain": [
       "Predictor(\n",
       "  (lstm): LSTM(1, 100, batch_first=True)\n",
       "  (output_layer): Linear(in_features=100, out_features=1, bias=True)\n",
       ")"
      ]
     },
     "execution_count": 62,
     "metadata": {},
     "output_type": "execute_result"
    }
   ],
   "source": [
    "model = Predictor(1,100,1)    # inputの次元は? 株価onlyだから1次元となるのか、それとも時間を5個分とってくるから 5次元？？\n",
    "model"
   ]
  },
  {
   "cell_type": "code",
   "execution_count": 55,
   "metadata": {},
   "outputs": [],
   "source": [
    "# 損失関数\n",
    "criterion = nn.MSELoss()      ### 損失化関数は二乗誤差を設定。　回帰モデルなのでOK\n",
    "# 最適化関数\n",
    "optimizer = torch.optim.SGD(model.parameters(), lr=0.01)     ### lrは学習率"
   ]
  },
  {
   "cell_type": "code",
   "execution_count": 56,
   "metadata": {},
   "outputs": [
    {
     "name": "stdout",
     "output_type": "stream",
     "text": [
      "=======\n",
      "tensor([[[20420.],\n",
      "         [20460.],\n",
      "         [20280.],\n",
      "         [20460.],\n",
      "         [20470.],\n",
      "         [20520.]],\n",
      "\n",
      "        [[19840.],\n",
      "         [20120.],\n",
      "         [20270.],\n",
      "         [20270.],\n",
      "         [20170.],\n",
      "         [20530.]],\n",
      "\n",
      "        [[19560.],\n",
      "         [19240.],\n",
      "         [19550.],\n",
      "         [19540.],\n",
      "         [19450.],\n",
      "         [19290.]],\n",
      "\n",
      "        [[24490.],\n",
      "         [24330.],\n",
      "         [24410.],\n",
      "         [24460.],\n",
      "         [24390.],\n",
      "         [24430.]]])\n"
     ]
    },
    {
     "ename": "NameError",
     "evalue": "name 'hidden0' is not defined",
     "output_type": "error",
     "traceback": [
      "\u001b[0;31m---------------------------------------------------------------------------\u001b[0m",
      "\u001b[0;31mNameError\u001b[0m                                 Traceback (most recent call last)",
      "\u001b[0;32m<ipython-input-56-2ea22c8b7ef2>\u001b[0m in \u001b[0;36m<module>\u001b[0;34m\u001b[0m\n\u001b[1;32m     15\u001b[0m         \u001b[0moptimizer\u001b[0m\u001b[0;34m.\u001b[0m\u001b[0mzero_grad\u001b[0m\u001b[0;34m(\u001b[0m\u001b[0;34m)\u001b[0m\u001b[0;34m\u001b[0m\u001b[0;34m\u001b[0m\u001b[0m\n\u001b[1;32m     16\u001b[0m \u001b[0;34m\u001b[0m\u001b[0m\n\u001b[0;32m---> 17\u001b[0;31m         \u001b[0my_pred\u001b[0m \u001b[0;34m=\u001b[0m \u001b[0mmodel\u001b[0m\u001b[0;34m(\u001b[0m \u001b[0mX\u001b[0m \u001b[0;34m)\u001b[0m          \u001b[0;31m### ニューラルネットで計算したoutputを保存\u001b[0m\u001b[0;34m\u001b[0m\u001b[0;34m\u001b[0m\u001b[0m\n\u001b[0m\u001b[1;32m     18\u001b[0m \u001b[0;34m\u001b[0m\u001b[0m\n\u001b[1;32m     19\u001b[0m         \u001b[0mprint\u001b[0m\u001b[0;34m(\u001b[0m\u001b[0;34m\"y_pred : \"\u001b[0m\u001b[0;34m,\u001b[0m\u001b[0my_pred\u001b[0m\u001b[0;34m)\u001b[0m\u001b[0;34m\u001b[0m\u001b[0;34m\u001b[0m\u001b[0m\n",
      "\u001b[0;32m/Library/Frameworks/Python.framework/Versions/3.7/lib/python3.7/site-packages/torch/nn/modules/module.py\u001b[0m in \u001b[0;36m__call__\u001b[0;34m(self, *input, **kwargs)\u001b[0m\n\u001b[1;32m    530\u001b[0m             \u001b[0mresult\u001b[0m \u001b[0;34m=\u001b[0m \u001b[0mself\u001b[0m\u001b[0;34m.\u001b[0m\u001b[0m_slow_forward\u001b[0m\u001b[0;34m(\u001b[0m\u001b[0;34m*\u001b[0m\u001b[0minput\u001b[0m\u001b[0;34m,\u001b[0m \u001b[0;34m**\u001b[0m\u001b[0mkwargs\u001b[0m\u001b[0;34m)\u001b[0m\u001b[0;34m\u001b[0m\u001b[0;34m\u001b[0m\u001b[0m\n\u001b[1;32m    531\u001b[0m         \u001b[0;32melse\u001b[0m\u001b[0;34m:\u001b[0m\u001b[0;34m\u001b[0m\u001b[0;34m\u001b[0m\u001b[0m\n\u001b[0;32m--> 532\u001b[0;31m             \u001b[0mresult\u001b[0m \u001b[0;34m=\u001b[0m \u001b[0mself\u001b[0m\u001b[0;34m.\u001b[0m\u001b[0mforward\u001b[0m\u001b[0;34m(\u001b[0m\u001b[0;34m*\u001b[0m\u001b[0minput\u001b[0m\u001b[0;34m,\u001b[0m \u001b[0;34m**\u001b[0m\u001b[0mkwargs\u001b[0m\u001b[0;34m)\u001b[0m\u001b[0;34m\u001b[0m\u001b[0;34m\u001b[0m\u001b[0m\n\u001b[0m\u001b[1;32m    533\u001b[0m         \u001b[0;32mfor\u001b[0m \u001b[0mhook\u001b[0m \u001b[0;32min\u001b[0m \u001b[0mself\u001b[0m\u001b[0;34m.\u001b[0m\u001b[0m_forward_hooks\u001b[0m\u001b[0;34m.\u001b[0m\u001b[0mvalues\u001b[0m\u001b[0;34m(\u001b[0m\u001b[0;34m)\u001b[0m\u001b[0;34m:\u001b[0m\u001b[0;34m\u001b[0m\u001b[0;34m\u001b[0m\u001b[0m\n\u001b[1;32m    534\u001b[0m             \u001b[0mhook_result\u001b[0m \u001b[0;34m=\u001b[0m \u001b[0mhook\u001b[0m\u001b[0;34m(\u001b[0m\u001b[0mself\u001b[0m\u001b[0;34m,\u001b[0m \u001b[0minput\u001b[0m\u001b[0;34m,\u001b[0m \u001b[0mresult\u001b[0m\u001b[0;34m)\u001b[0m\u001b[0;34m\u001b[0m\u001b[0;34m\u001b[0m\u001b[0m\n",
      "\u001b[0;32m<ipython-input-53-96ba49d84689>\u001b[0m in \u001b[0;36mforward\u001b[0;34m(self, inputs)\u001b[0m\n\u001b[1;32m     29\u001b[0m     \u001b[0;32mdef\u001b[0m \u001b[0mforward\u001b[0m\u001b[0;34m(\u001b[0m\u001b[0mself\u001b[0m\u001b[0;34m,\u001b[0m \u001b[0minputs\u001b[0m\u001b[0;34m)\u001b[0m\u001b[0;34m:\u001b[0m\u001b[0;34m\u001b[0m\u001b[0;34m\u001b[0m\u001b[0m\n\u001b[1;32m     30\u001b[0m \u001b[0;34m\u001b[0m\u001b[0m\n\u001b[0;32m---> 31\u001b[0;31m         \u001b[0moutput\u001b[0m\u001b[0;34m,\u001b[0m \u001b[0;34m(\u001b[0m\u001b[0mhidden\u001b[0m\u001b[0;34m,\u001b[0m \u001b[0mcell\u001b[0m\u001b[0;34m)\u001b[0m \u001b[0;34m=\u001b[0m \u001b[0mself\u001b[0m\u001b[0;34m.\u001b[0m\u001b[0mlstm\u001b[0m\u001b[0;34m(\u001b[0m\u001b[0minputs\u001b[0m\u001b[0;34m,\u001b[0m \u001b[0mhidden0\u001b[0m\u001b[0;34m)\u001b[0m \u001b[0;31m#LSTM層\u001b[0m\u001b[0;34m\u001b[0m\u001b[0;34m\u001b[0m\u001b[0m\n\u001b[0m\u001b[1;32m     32\u001b[0m         \u001b[0moutput\u001b[0m \u001b[0;34m=\u001b[0m \u001b[0mself\u001b[0m\u001b[0;34m.\u001b[0m\u001b[0moutput_layer\u001b[0m\u001b[0;34m(\u001b[0m\u001b[0moutput\u001b[0m\u001b[0;34m[\u001b[0m\u001b[0;34m:\u001b[0m\u001b[0;34m,\u001b[0m \u001b[0;34m-\u001b[0m\u001b[0;36m1\u001b[0m\u001b[0;34m,\u001b[0m \u001b[0;34m:\u001b[0m\u001b[0;34m]\u001b[0m\u001b[0;34m)\u001b[0m \u001b[0;31m#全結合層\u001b[0m\u001b[0;34m\u001b[0m\u001b[0;34m\u001b[0m\u001b[0m\n\u001b[1;32m     33\u001b[0m \u001b[0;34m\u001b[0m\u001b[0m\n",
      "\u001b[0;31mNameError\u001b[0m: name 'hidden0' is not defined"
     ]
    }
   ],
   "source": [
    "ls_loss = []\n",
    "\n",
    "for epoch in range(3):\n",
    "    \n",
    "    model.train()\n",
    "    for i, (X, label) in enumerate(dataloader):\n",
    "\n",
    "        X.long()\n",
    "        label.long()\n",
    "\n",
    "        print(\"=======\")\n",
    "        print(X)\n",
    "        \n",
    "        # 勾配の初期化\n",
    "        optimizer.zero_grad()     \n",
    "        \n",
    "        y_pred = model( X )          ### ニューラルネットで計算したoutputを保存\n",
    "        \n",
    "        print(\"y_pred : \",y_pred)\n",
    "        \n",
    "        loss = criterion(y_pred, label) ###教師データとoutputから損失関数を計算\n",
    "        \n",
    "        # バッチごとのロスを記録する\n",
    "        ls_loss.append(loss)\n",
    "        \n",
    "        # 勾配の計算\n",
    "        loss.backward()           ### 損失関数を微分 = 勾配の計算\n",
    "        \n",
    "        # パラメータの更新\n",
    "        optimizer.step()           \n",
    "        \n",
    "        #print('*** by optimizer.step()')\n",
    "       # print(model.lstm.weight)\n",
    "    "
   ]
  },
  {
   "cell_type": "markdown",
   "metadata": {},
   "source": [
    "### ロスの確認"
   ]
  },
  {
   "cell_type": "code",
   "execution_count": 21,
   "metadata": {},
   "outputs": [
    {
     "data": {
      "image/png": "[encoded data removed]",
      "text/plain": [
       "<Figure size 432x288 with 1 Axes>"
      ]
     },
     "metadata": {
      "needs_background": "light"
     },
     "output_type": "display_data"
    }
   ],
   "source": [
    "plt.figure()\n",
    "plt.plot(ls_loss,label=\"loss\")\n",
    "plt.title('Optimization function error') # 最適化関数の誤差\n",
    "plt.legend()\n",
    "plt.grid()"
   ]
  },
  {
   "cell_type": "markdown",
   "metadata": {},
   "source": [
    "## できあがったmodelでテストを行ってみる"
   ]
  },
  {
   "cell_type": "code",
   "execution_count": 112,
   "metadata": {},
   "outputs": [
    {
     "ename": "NameError",
     "evalue": "name 'test' is not defined",
     "output_type": "error",
     "traceback": [
      "\u001b[0;31m---------------------------------------------------------------------------\u001b[0m",
      "\u001b[0;31mNameError\u001b[0m                                 Traceback (most recent call last)",
      "\u001b[0;32m<ipython-input-112-4e1243bd22c6>\u001b[0m in \u001b[0;36m<module>\u001b[0;34m\u001b[0m\n\u001b[0;32m----> 1\u001b[0;31m \u001b[0mtest\u001b[0m\u001b[0;34m\u001b[0m\u001b[0;34m\u001b[0m\u001b[0m\n\u001b[0m",
      "\u001b[0;31mNameError\u001b[0m: name 'test' is not defined"
     ]
    }
   ],
   "source": [
    "test"
   ]
  },
  {
   "cell_type": "code",
   "execution_count": 87,
   "metadata": {},
   "outputs": [],
   "source": [
    "X_pd_test = test.drop('log_price',  axis=1)\n",
    "y_pd_test = test['log_price']"
   ]
  },
  {
   "cell_type": "code",
   "execution_count": 88,
   "metadata": {},
   "outputs": [],
   "source": [
    "X_pd_test = X_pd_test.values\n",
    "y_pd_test = y_pd_test.values\n",
    "\n",
    "X_pd_test = torch.from_numpy(X_pd_test.astype(np.float32)).clone()\n",
    "y_pd_test = torch.from_numpy(y_pd_test.astype(np.float32)).clone()"
   ]
  },
  {
   "cell_type": "code",
   "execution_count": 89,
   "metadata": {},
   "outputs": [],
   "source": [
    "testset = PdDataset( X_pd_test , y_pd_test )\n",
    "dataloader = torch.utils.data.DataLoader(dataset=testset, batch_size = 32, shuffle=True)"
   ]
  },
  {
   "cell_type": "code",
   "execution_count": 90,
   "metadata": {},
   "outputs": [
    {
     "name": "stdout",
     "output_type": "stream",
     "text": [
      "@@@@@@@@@@@@ 0\n",
      "tensor([0.0000, 0.1539, 0.0000, 0.9425, 0.1905, 0.0315])\n",
      "y_pred :  tensor([2.9495], grad_fn=<SqueezeBackward3>)\n",
      "@@@@@@@@@@@@ 1\n",
      "tensor([1.0000, 0.0402, 0.0000, 0.0637, 0.0000, 0.9484])\n",
      "y_pred :  tensor([3.1888], grad_fn=<SqueezeBackward3>)\n",
      "@@@@@@@@@@@@ 2\n",
      "tensor([0.0000, 0.8875, 0.0000, 1.0000, 0.9368, 0.1176])\n",
      "y_pred :  tensor([3.5809], grad_fn=<SqueezeBackward3>)\n",
      "@@@@@@@@@@@@ 3\n",
      "tensor([1.0000, 0.9762, 0.0000, 0.0622, 0.0000, 0.1023])\n",
      "y_pred :  tensor([3.0982], grad_fn=<SqueezeBackward3>)\n",
      "@@@@@@@@@@@@ 4\n",
      "tensor([1.0000, 0.2645, 0.0000, 0.0249, 0.7989, 0.2553])\n",
      "y_pred :  tensor([2.7945], grad_fn=<SqueezeBackward3>)\n"
     ]
    }
   ],
   "source": [
    "#model.train()\n",
    "for i, (inputPd, pricePd) in enumerate(testset):\n",
    "\n",
    "    print(\"@@@@@@@@@@@@\", i)\n",
    "    \n",
    "    print(inputPd)\n",
    "    \n",
    "    y = model(inputPd)\n",
    "\n",
    "    print(\"y_pred : \",y)\n",
    "    \n",
    "    if i==4:\n",
    "        break"
   ]
  },
  {
   "cell_type": "code",
   "execution_count": null,
   "metadata": {},
   "outputs": [],
   "source": []
  }
 ],
 "metadata": {
  "file_extension": ".py",
  "kernelspec": {
   "display_name": "Python 3.7.5 64-bit",
   "language": "python",
   "name": "python37564bit8eca2ece5df347009757f05252a386a2"
  },
  "language_info": {
   "codemirror_mode": {
    "name": "ipython",
    "version": 3
   },
   "file_extension": ".py",
   "mimetype": "text/x-python",
   "name": "python",
   "nbconvert_exporter": "python",
   "pygments_lexer": "ipython3",
   "version": "3.7.5"
  },
  "mimetype": "text/x-python",
  "name": "python",
  "npconvert_exporter": "python",
  "pygments_lexer": "ipython3",
  "version": 3
 },
 "nbformat": 4,
 "nbformat_minor": 2
}
