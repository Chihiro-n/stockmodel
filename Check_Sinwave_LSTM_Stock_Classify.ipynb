{
  "nbformat": 4,
  "nbformat_minor": 0,
  "metadata": {
    "file_extension": ".py",
    "kernelspec": {
      "display_name": "Python 3.7.5 64-bit",
      "language": "python",
      "name": "python37564bit8eca2ece5df347009757f05252a386a2"
    },
    "language_info": {
      "codemirror_mode": {
        "name": "ipython",
        "version": 3
      },
      "file_extension": ".py",
      "mimetype": "text/x-python",
      "name": "python",
      "nbconvert_exporter": "python",
      "pygments_lexer": "ipython3",
      "version": "3.7.5"
    },
    "mimetype": "text/x-python",
    "name": "python",
    "npconvert_exporter": "python",
    "pygments_lexer": "ipython3",
    "version": 3,
    "colab": {
      "name": "Check_Sinwave_LSTM_Stock_Classify.ipynb",
      "provenance": [],
      "collapsed_sections": [],
      "include_colab_link": true
    }
  },
  "cells": [
    {
      "cell_type": "markdown",
      "metadata": {
        "id": "view-in-github",
        "colab_type": "text"
      },
      "source": [
        "<a href=\"https://colab.research.google.com/github/Chihiro-n/stockmodel/blob/master/Check_Sinwave_LSTM_Stock_Classify.ipynb\" target=\"_parent\"><img src=\"https://colab.research.google.com/assets/colab-badge.svg\" alt=\"Open In Colab\"/></a>"
      ]
    },
    {
      "cell_type": "markdown",
      "metadata": {
        "id": "k01qC0e6kAKw",
        "colab_type": "text"
      },
      "source": [
        "# NNで株価を予測モデルを作成する\n",
        "rev2:入力データを一次元に限定"
      ]
    },
    {
      "cell_type": "code",
      "metadata": {
        "id": "eKdxHDxXkAKx",
        "colab_type": "code",
        "colab": {
          "base_uri": "https://localhost:8080/",
          "height": 51
        },
        "outputId": "b150a285-6e74-4d57-c21d-f9c224e81907"
      },
      "source": [
        "import numpy as np\n",
        "import pandas as pd\n",
        "import matplotlib.pyplot as plt\n",
        "import seaborn as sns\n",
        "%matplotlib inline\n"
      ],
      "execution_count": 1,
      "outputs": [
        {
          "output_type": "stream",
          "text": [
            "/usr/local/lib/python3.6/dist-packages/statsmodels/tools/_testing.py:19: FutureWarning: pandas.util.testing is deprecated. Use the functions in the public API at pandas.testing instead.\n",
            "  import pandas.util.testing as tm\n"
          ],
          "name": "stderr"
        }
      ]
    },
    {
      "cell_type": "markdown",
      "metadata": {
        "id": "ww8iAWfUkAK2",
        "colab_type": "text"
      },
      "source": [
        "# LSTMモデルを組む"
      ]
    },
    {
      "cell_type": "code",
      "metadata": {
        "id": "St3RbwyhkAK3",
        "colab_type": "code",
        "colab": {}
      },
      "source": [
        "import torch\n",
        "import torch.nn as nn\n",
        "import torch.nn.functional as F\n",
        "import torch.optim as optim\n",
        "from torch.utils.data import Dataset, DataLoader\n",
        "from sklearn.model_selection import train_test_split\n",
        "import numpy as np"
      ],
      "execution_count": 2,
      "outputs": []
    },
    {
      "cell_type": "code",
      "metadata": {
        "id": "Afwmx2hdkaYw",
        "colab_type": "code",
        "colab": {
          "base_uri": "https://localhost:8080/",
          "height": 34
        },
        "outputId": "3c2cfc40-4391-4f2a-f491-0d63d744120d"
      },
      "source": [
        "from google.colab import drive\n",
        "drive.mount('/content/drive')"
      ],
      "execution_count": 3,
      "outputs": [
        {
          "output_type": "stream",
          "text": [
            "Drive already mounted at /content/drive; to attempt to forcibly remount, call drive.mount(\"/content/drive\", force_remount=True).\n"
          ],
          "name": "stdout"
        }
      ]
    },
    {
      "cell_type": "code",
      "metadata": {
        "id": "_Wcaqu5ykuTF",
        "colab_type": "code",
        "colab": {
          "base_uri": "https://localhost:8080/",
          "height": 34
        },
        "outputId": "1b45784b-4272-4ae8-e6b6-76b37ac26139"
      },
      "source": [
        "%pwd"
      ],
      "execution_count": 4,
      "outputs": [
        {
          "output_type": "execute_result",
          "data": {
            "text/plain": [
              "'/content'"
            ]
          },
          "metadata": {
            "tags": []
          },
          "execution_count": 4
        }
      ]
    },
    {
      "cell_type": "code",
      "metadata": {
        "id": "y6DyrUc8l6wc",
        "colab_type": "code",
        "colab": {
          "base_uri": "https://localhost:8080/",
          "height": 34
        },
        "outputId": "2717ec9f-c9e6-4794-e547-c1f8a8d32a48"
      },
      "source": [
        "%cd /content/drive/My Drive/Colab Notebooks"
      ],
      "execution_count": 5,
      "outputs": [
        {
          "output_type": "stream",
          "text": [
            "/content/drive/My Drive/Colab Notebooks\n"
          ],
          "name": "stdout"
        }
      ]
    },
    {
      "cell_type": "code",
      "metadata": {
        "id": "k-TqqQtdmdap",
        "colab_type": "code",
        "colab": {
          "base_uri": "https://localhost:8080/",
          "height": 323
        },
        "outputId": "fc2325b7-3f54-4e2c-b305-3f46f2cec4e2"
      },
      "source": [
        "%ls"
      ],
      "execution_count": 6,
      "outputs": [
        {
          "output_type": "stream",
          "text": [
            " Check_Sinwave_LSTM_Stock_Classify.ipynb\n",
            "'Colaboratory へようこそ のコピー'\n",
            " \u001b[0m\u001b[01;34mdata\u001b[0m/\n",
            " \u001b[01;34mdata_dir\u001b[0m/\n",
            " DogCat.ipynb\n",
            " kaggleデータinputの方法DogCat.ipynb\n",
            " \u001b[01;34mkeras_ssd_hands-on\u001b[0m/\n",
            " LSTM_changed_dataset.ipynb\n",
            "'LSTM_Stock_Classify (1).ipynb'\n",
            " LSTM_Stock_Classify.ipynb\n",
            " net.ckpt\n",
            " \u001b[01;34mprophet\u001b[0m/\n",
            "'PyTorch実践入門ハンズオンセミナー配布用 のコピー'\n",
            " RNN_shapeCheak.ipynb\n",
            " RNN_sin_pred.ipynb\n",
            " sampleSubmission.csv\n",
            " torch_tuto_CFIA10.ipynb\n",
            " Youtube_Analysis_1.ipynb\n"
          ],
          "name": "stdout"
        }
      ]
    },
    {
      "cell_type": "markdown",
      "metadata": {
        "id": "H4miOBaYJdRd",
        "colab_type": "text"
      },
      "source": [
        "# GPUセットのためのおまじない"
      ]
    },
    {
      "cell_type": "code",
      "metadata": {
        "id": "X6mO-7itJb_K",
        "colab_type": "code",
        "colab": {}
      },
      "source": [
        "device = torch.device('cuda' if torch.cuda.is_available() else 'cpu')"
      ],
      "execution_count": 7,
      "outputs": []
    },
    {
      "cell_type": "markdown",
      "metadata": {
        "id": "0k_BicxCiQzn",
        "colab_type": "text"
      },
      "source": [
        "# sinwave データセット作成"
      ]
    },
    {
      "cell_type": "code",
      "metadata": {
        "id": "X9pugFJ0iVWm",
        "colab_type": "code",
        "colab": {}
      },
      "source": [
        "import math\n",
        "\n",
        "def mkDataSet(data_size, data_length=50, freq=60.):\n",
        "    \"\"\"\n",
        "    params\n",
        "      data_size : データセットのサイズ\n",
        "      data_length : 各データの時系列長\n",
        "      freq : 周波数\n",
        "    returns\n",
        "      train_x : トレーニングデータ（t=1,2,...,size-1の値)\n",
        "      train_t : トレーニングデータのラベル（t=sizeの値）\n",
        "    \"\"\"\n",
        "    train_x = []\n",
        "    train_t = []\n",
        "\n",
        "    for offset in range(data_size):\n",
        "        train_x.append([[math.sin(2 * math.pi * (offset + i) / freq)] for i in range(data_length)])\n",
        "        train_t.append([math.sin(2 * math.pi * (offset + data_length) / freq)])\n",
        "\n",
        "    return train_x, train_t"
      ],
      "execution_count": 8,
      "outputs": []
    },
    {
      "cell_type": "code",
      "metadata": {
        "id": "HkTL_VkWiaAq",
        "colab_type": "code",
        "colab": {}
      },
      "source": [
        "training_size = 100 \n",
        "batch_size = 10\n",
        "\n",
        "train_input , train_t = mkDataSet(training_size)"
      ],
      "execution_count": 9,
      "outputs": []
    },
    {
      "cell_type": "markdown",
      "metadata": {
        "id": "9fZNcKv4NCQ_",
        "colab_type": "text"
      },
      "source": [
        "### numpyに変更し、サイズもチェック"
      ]
    },
    {
      "cell_type": "code",
      "metadata": {
        "id": "idUDB0IkH_ER",
        "colab_type": "code",
        "colab": {
          "base_uri": "https://localhost:8080/",
          "height": 867
        },
        "outputId": "000265df-af8c-4942-e847-c8ab34c91792"
      },
      "source": [
        "np_train_input = np.array(train_input)\n",
        "np_train_input = np_train_input.astype(np.float32)  ### float型に変更しておかないと、modelに入力する際にerrorが出る　※doubleはNG\n",
        "\n",
        "print(np_train_input.shape)\n",
        "\n",
        "np_train_input\n"
      ],
      "execution_count": 10,
      "outputs": [
        {
          "output_type": "stream",
          "text": [
            "(100, 50, 1)\n"
          ],
          "name": "stdout"
        },
        {
          "output_type": "execute_result",
          "data": {
            "text/plain": [
              "array([[[ 0.        ],\n",
              "        [ 0.10452846],\n",
              "        [ 0.20791169],\n",
              "        ...,\n",
              "        [-0.9781476 ],\n",
              "        [-0.95105654],\n",
              "        [-0.9135454 ]],\n",
              "\n",
              "       [[ 0.10452846],\n",
              "        [ 0.20791169],\n",
              "        [ 0.309017  ],\n",
              "        ...,\n",
              "        [-0.95105654],\n",
              "        [-0.9135454 ],\n",
              "        [-0.8660254 ]],\n",
              "\n",
              "       [[ 0.20791169],\n",
              "        [ 0.309017  ],\n",
              "        [ 0.40673664],\n",
              "        ...,\n",
              "        [-0.9135454 ],\n",
              "        [-0.8660254 ],\n",
              "        [-0.809017  ]],\n",
              "\n",
              "       ...,\n",
              "\n",
              "       [[-0.6691306 ],\n",
              "        [-0.7431448 ],\n",
              "        [-0.809017  ],\n",
              "        ...,\n",
              "        [ 0.58778524],\n",
              "        [ 0.5       ],\n",
              "        [ 0.40673664]],\n",
              "\n",
              "       [[-0.7431448 ],\n",
              "        [-0.809017  ],\n",
              "        [-0.8660254 ],\n",
              "        ...,\n",
              "        [ 0.5       ],\n",
              "        [ 0.40673664],\n",
              "        [ 0.309017  ]],\n",
              "\n",
              "       [[-0.809017  ],\n",
              "        [-0.8660254 ],\n",
              "        [-0.9135454 ],\n",
              "        ...,\n",
              "        [ 0.40673664],\n",
              "        [ 0.309017  ],\n",
              "        [ 0.20791169]]], dtype=float32)"
            ]
          },
          "metadata": {
            "tags": []
          },
          "execution_count": 10
        }
      ]
    },
    {
      "cell_type": "markdown",
      "metadata": {
        "id": "MWXzLw_Lmiji",
        "colab_type": "text"
      },
      "source": [
        "# labelデータも numpyに変更しておく\n",
        "labalはonehot vectorなので、(3366,1,4)になるはず -> X ※pytorchのクロスエントロピーロスはエントロピーロスはonehotvectorに対応しておらずクラスラベルにする"
      ]
    },
    {
      "cell_type": "code",
      "metadata": {
        "id": "WG94bDqXnkw6",
        "colab_type": "code",
        "colab": {
          "base_uri": "https://localhost:8080/",
          "height": 1000
        },
        "outputId": "774682c1-bc02-4fd7-aafb-435822bb31ac"
      },
      "source": [
        "np_train_t = np.array(train_t)\n",
        "\n",
        "np_train_label = np_train_t.astype(np.float32)\n",
        "print(np_train_label)\n",
        "print(np_train_label.shape)\n"
      ],
      "execution_count": 11,
      "outputs": [
        {
          "output_type": "stream",
          "text": [
            "[[-8.66025388e-01]\n",
            " [-8.09017003e-01]\n",
            " [-7.43144810e-01]\n",
            " [-6.69130623e-01]\n",
            " [-5.87785244e-01]\n",
            " [-5.00000000e-01]\n",
            " [-4.06736642e-01]\n",
            " [-3.09017003e-01]\n",
            " [-2.07911685e-01]\n",
            " [-1.04528464e-01]\n",
            " [-1.13310774e-15]\n",
            " [ 1.04528464e-01]\n",
            " [ 2.07911685e-01]\n",
            " [ 3.09017003e-01]\n",
            " [ 4.06736642e-01]\n",
            " [ 5.00000000e-01]\n",
            " [ 5.87785244e-01]\n",
            " [ 6.69130623e-01]\n",
            " [ 7.43144810e-01]\n",
            " [ 8.09017003e-01]\n",
            " [ 8.66025388e-01]\n",
            " [ 9.13545430e-01]\n",
            " [ 9.51056540e-01]\n",
            " [ 9.78147626e-01]\n",
            " [ 9.94521916e-01]\n",
            " [ 1.00000000e+00]\n",
            " [ 9.94521916e-01]\n",
            " [ 9.78147626e-01]\n",
            " [ 9.51056540e-01]\n",
            " [ 9.13545430e-01]\n",
            " [ 8.66025388e-01]\n",
            " [ 8.09017003e-01]\n",
            " [ 7.43144810e-01]\n",
            " [ 6.69130623e-01]\n",
            " [ 5.87785244e-01]\n",
            " [ 5.00000000e-01]\n",
            " [ 4.06736642e-01]\n",
            " [ 3.09017003e-01]\n",
            " [ 2.07911685e-01]\n",
            " [ 1.04528464e-01]\n",
            " [ 3.67394029e-16]\n",
            " [-1.04528464e-01]\n",
            " [-2.07911685e-01]\n",
            " [-3.09017003e-01]\n",
            " [-4.06736642e-01]\n",
            " [-5.00000000e-01]\n",
            " [-5.87785244e-01]\n",
            " [-6.69130623e-01]\n",
            " [-7.43144810e-01]\n",
            " [-8.09017003e-01]\n",
            " [-8.66025388e-01]\n",
            " [-9.13545430e-01]\n",
            " [-9.51056540e-01]\n",
            " [-9.78147626e-01]\n",
            " [-9.94521916e-01]\n",
            " [-1.00000000e+00]\n",
            " [-9.94521916e-01]\n",
            " [-9.78147626e-01]\n",
            " [-9.51056540e-01]\n",
            " [-9.13545430e-01]\n",
            " [-8.66025388e-01]\n",
            " [-8.09017003e-01]\n",
            " [-7.43144810e-01]\n",
            " [-6.69130623e-01]\n",
            " [-5.87785244e-01]\n",
            " [-5.00000000e-01]\n",
            " [-4.06736642e-01]\n",
            " [-3.09017003e-01]\n",
            " [-2.07911685e-01]\n",
            " [-1.04528464e-01]\n",
            " [-2.26621547e-15]\n",
            " [ 1.04528464e-01]\n",
            " [ 2.07911685e-01]\n",
            " [ 3.09017003e-01]\n",
            " [ 4.06736642e-01]\n",
            " [ 5.00000000e-01]\n",
            " [ 5.87785244e-01]\n",
            " [ 6.69130623e-01]\n",
            " [ 7.43144810e-01]\n",
            " [ 8.09017003e-01]\n",
            " [ 8.66025388e-01]\n",
            " [ 9.13545430e-01]\n",
            " [ 9.51056540e-01]\n",
            " [ 9.78147626e-01]\n",
            " [ 9.94521916e-01]\n",
            " [ 1.00000000e+00]\n",
            " [ 9.94521916e-01]\n",
            " [ 9.78147626e-01]\n",
            " [ 9.51056540e-01]\n",
            " [ 9.13545430e-01]\n",
            " [ 8.66025388e-01]\n",
            " [ 8.09017003e-01]\n",
            " [ 7.43144810e-01]\n",
            " [ 6.69130623e-01]\n",
            " [ 5.87785244e-01]\n",
            " [ 5.00000000e-01]\n",
            " [ 4.06736642e-01]\n",
            " [ 3.09017003e-01]\n",
            " [ 2.07911685e-01]\n",
            " [ 1.04528464e-01]]\n",
            "(100, 1)\n"
          ],
          "name": "stdout"
        }
      ]
    },
    {
      "cell_type": "markdown",
      "metadata": {
        "id": "qiiBOofez7rT",
        "colab_type": "text"
      },
      "source": [
        "## Shapeを変更する、 二重リストの型へ\n"
      ]
    },
    {
      "cell_type": "code",
      "metadata": {
        "id": "HHYW0R1Iznx2",
        "colab_type": "code",
        "colab": {}
      },
      "source": [
        "np_train_label = np_train_label.reshape(-1,1)"
      ],
      "execution_count": 12,
      "outputs": []
    },
    {
      "cell_type": "code",
      "metadata": {
        "id": "31zdMcj8zurW",
        "colab_type": "code",
        "colab": {
          "base_uri": "https://localhost:8080/",
          "height": 1000
        },
        "outputId": "f6f88357-6517-4958-f598-7291e607abc5"
      },
      "source": [
        "print(np_train_label.shape)\n",
        "print(np_train_label)\n"
      ],
      "execution_count": 13,
      "outputs": [
        {
          "output_type": "stream",
          "text": [
            "(100, 1)\n",
            "[[-8.66025388e-01]\n",
            " [-8.09017003e-01]\n",
            " [-7.43144810e-01]\n",
            " [-6.69130623e-01]\n",
            " [-5.87785244e-01]\n",
            " [-5.00000000e-01]\n",
            " [-4.06736642e-01]\n",
            " [-3.09017003e-01]\n",
            " [-2.07911685e-01]\n",
            " [-1.04528464e-01]\n",
            " [-1.13310774e-15]\n",
            " [ 1.04528464e-01]\n",
            " [ 2.07911685e-01]\n",
            " [ 3.09017003e-01]\n",
            " [ 4.06736642e-01]\n",
            " [ 5.00000000e-01]\n",
            " [ 5.87785244e-01]\n",
            " [ 6.69130623e-01]\n",
            " [ 7.43144810e-01]\n",
            " [ 8.09017003e-01]\n",
            " [ 8.66025388e-01]\n",
            " [ 9.13545430e-01]\n",
            " [ 9.51056540e-01]\n",
            " [ 9.78147626e-01]\n",
            " [ 9.94521916e-01]\n",
            " [ 1.00000000e+00]\n",
            " [ 9.94521916e-01]\n",
            " [ 9.78147626e-01]\n",
            " [ 9.51056540e-01]\n",
            " [ 9.13545430e-01]\n",
            " [ 8.66025388e-01]\n",
            " [ 8.09017003e-01]\n",
            " [ 7.43144810e-01]\n",
            " [ 6.69130623e-01]\n",
            " [ 5.87785244e-01]\n",
            " [ 5.00000000e-01]\n",
            " [ 4.06736642e-01]\n",
            " [ 3.09017003e-01]\n",
            " [ 2.07911685e-01]\n",
            " [ 1.04528464e-01]\n",
            " [ 3.67394029e-16]\n",
            " [-1.04528464e-01]\n",
            " [-2.07911685e-01]\n",
            " [-3.09017003e-01]\n",
            " [-4.06736642e-01]\n",
            " [-5.00000000e-01]\n",
            " [-5.87785244e-01]\n",
            " [-6.69130623e-01]\n",
            " [-7.43144810e-01]\n",
            " [-8.09017003e-01]\n",
            " [-8.66025388e-01]\n",
            " [-9.13545430e-01]\n",
            " [-9.51056540e-01]\n",
            " [-9.78147626e-01]\n",
            " [-9.94521916e-01]\n",
            " [-1.00000000e+00]\n",
            " [-9.94521916e-01]\n",
            " [-9.78147626e-01]\n",
            " [-9.51056540e-01]\n",
            " [-9.13545430e-01]\n",
            " [-8.66025388e-01]\n",
            " [-8.09017003e-01]\n",
            " [-7.43144810e-01]\n",
            " [-6.69130623e-01]\n",
            " [-5.87785244e-01]\n",
            " [-5.00000000e-01]\n",
            " [-4.06736642e-01]\n",
            " [-3.09017003e-01]\n",
            " [-2.07911685e-01]\n",
            " [-1.04528464e-01]\n",
            " [-2.26621547e-15]\n",
            " [ 1.04528464e-01]\n",
            " [ 2.07911685e-01]\n",
            " [ 3.09017003e-01]\n",
            " [ 4.06736642e-01]\n",
            " [ 5.00000000e-01]\n",
            " [ 5.87785244e-01]\n",
            " [ 6.69130623e-01]\n",
            " [ 7.43144810e-01]\n",
            " [ 8.09017003e-01]\n",
            " [ 8.66025388e-01]\n",
            " [ 9.13545430e-01]\n",
            " [ 9.51056540e-01]\n",
            " [ 9.78147626e-01]\n",
            " [ 9.94521916e-01]\n",
            " [ 1.00000000e+00]\n",
            " [ 9.94521916e-01]\n",
            " [ 9.78147626e-01]\n",
            " [ 9.51056540e-01]\n",
            " [ 9.13545430e-01]\n",
            " [ 8.66025388e-01]\n",
            " [ 8.09017003e-01]\n",
            " [ 7.43144810e-01]\n",
            " [ 6.69130623e-01]\n",
            " [ 5.87785244e-01]\n",
            " [ 5.00000000e-01]\n",
            " [ 4.06736642e-01]\n",
            " [ 3.09017003e-01]\n",
            " [ 2.07911685e-01]\n",
            " [ 1.04528464e-01]]\n"
          ],
          "name": "stdout"
        }
      ]
    },
    {
      "cell_type": "markdown",
      "metadata": {
        "id": "1WXCQU03oG8E",
        "colab_type": "text"
      },
      "source": [
        "## TrainとTestで分割する"
      ]
    },
    {
      "cell_type": "code",
      "metadata": {
        "id": "jhT2dxAI67_9",
        "colab_type": "code",
        "colab": {}
      },
      "source": [
        "X_train, y_train, X_test, y_test= [], [], [], []\n",
        "\n",
        "\n",
        "all_length = len(np_train_label)\n",
        "train_length = int(all_length*0.9)\n",
        "\n",
        "### 訓練用データセットを作成するループ\n",
        "X_train = np_train_input[:train_length]\n",
        "y_train = np_train_label[:train_length]\n",
        "\n",
        "### テスト用データセットを作成するループ\n",
        "X_test = np_train_input[train_length:]\n",
        "y_test = np_train_label[train_length:]\n",
        "\n"
      ],
      "execution_count": 14,
      "outputs": []
    },
    {
      "cell_type": "code",
      "metadata": {
        "id": "NJMyEVmWrIvl",
        "colab_type": "code",
        "colab": {
          "base_uri": "https://localhost:8080/",
          "height": 34
        },
        "outputId": "54f0f182-eadc-4480-e398-de71ee22bbab"
      },
      "source": [
        "all_length"
      ],
      "execution_count": 15,
      "outputs": [
        {
          "output_type": "execute_result",
          "data": {
            "text/plain": [
              "100"
            ]
          },
          "metadata": {
            "tags": []
          },
          "execution_count": 15
        }
      ]
    },
    {
      "cell_type": "code",
      "metadata": {
        "id": "BKHP_dr7Hz_r",
        "colab_type": "code",
        "colab": {
          "base_uri": "https://localhost:8080/",
          "height": 85
        },
        "outputId": "e0df588a-0e32-41cf-beab-128f1b0814b2"
      },
      "source": [
        "print(X_train.shape)\n",
        "print(y_train.shape)\n",
        "\n",
        "print(X_test.shape)\n",
        "print(y_test.shape)\n"
      ],
      "execution_count": 16,
      "outputs": [
        {
          "output_type": "stream",
          "text": [
            "(90, 50, 1)\n",
            "(90, 1)\n",
            "(10, 50, 1)\n",
            "(10, 1)\n"
          ],
          "name": "stdout"
        }
      ]
    },
    {
      "cell_type": "code",
      "metadata": {
        "id": "_npR9YGirixG",
        "colab_type": "code",
        "colab": {
          "base_uri": "https://localhost:8080/",
          "height": 1000
        },
        "outputId": "93ea68fb-c4e0-483a-ba78-651f6d582f65"
      },
      "source": [
        "y_train"
      ],
      "execution_count": 17,
      "outputs": [
        {
          "output_type": "execute_result",
          "data": {
            "text/plain": [
              "array([[-8.66025388e-01],\n",
              "       [-8.09017003e-01],\n",
              "       [-7.43144810e-01],\n",
              "       [-6.69130623e-01],\n",
              "       [-5.87785244e-01],\n",
              "       [-5.00000000e-01],\n",
              "       [-4.06736642e-01],\n",
              "       [-3.09017003e-01],\n",
              "       [-2.07911685e-01],\n",
              "       [-1.04528464e-01],\n",
              "       [-1.13310774e-15],\n",
              "       [ 1.04528464e-01],\n",
              "       [ 2.07911685e-01],\n",
              "       [ 3.09017003e-01],\n",
              "       [ 4.06736642e-01],\n",
              "       [ 5.00000000e-01],\n",
              "       [ 5.87785244e-01],\n",
              "       [ 6.69130623e-01],\n",
              "       [ 7.43144810e-01],\n",
              "       [ 8.09017003e-01],\n",
              "       [ 8.66025388e-01],\n",
              "       [ 9.13545430e-01],\n",
              "       [ 9.51056540e-01],\n",
              "       [ 9.78147626e-01],\n",
              "       [ 9.94521916e-01],\n",
              "       [ 1.00000000e+00],\n",
              "       [ 9.94521916e-01],\n",
              "       [ 9.78147626e-01],\n",
              "       [ 9.51056540e-01],\n",
              "       [ 9.13545430e-01],\n",
              "       [ 8.66025388e-01],\n",
              "       [ 8.09017003e-01],\n",
              "       [ 7.43144810e-01],\n",
              "       [ 6.69130623e-01],\n",
              "       [ 5.87785244e-01],\n",
              "       [ 5.00000000e-01],\n",
              "       [ 4.06736642e-01],\n",
              "       [ 3.09017003e-01],\n",
              "       [ 2.07911685e-01],\n",
              "       [ 1.04528464e-01],\n",
              "       [ 3.67394029e-16],\n",
              "       [-1.04528464e-01],\n",
              "       [-2.07911685e-01],\n",
              "       [-3.09017003e-01],\n",
              "       [-4.06736642e-01],\n",
              "       [-5.00000000e-01],\n",
              "       [-5.87785244e-01],\n",
              "       [-6.69130623e-01],\n",
              "       [-7.43144810e-01],\n",
              "       [-8.09017003e-01],\n",
              "       [-8.66025388e-01],\n",
              "       [-9.13545430e-01],\n",
              "       [-9.51056540e-01],\n",
              "       [-9.78147626e-01],\n",
              "       [-9.94521916e-01],\n",
              "       [-1.00000000e+00],\n",
              "       [-9.94521916e-01],\n",
              "       [-9.78147626e-01],\n",
              "       [-9.51056540e-01],\n",
              "       [-9.13545430e-01],\n",
              "       [-8.66025388e-01],\n",
              "       [-8.09017003e-01],\n",
              "       [-7.43144810e-01],\n",
              "       [-6.69130623e-01],\n",
              "       [-5.87785244e-01],\n",
              "       [-5.00000000e-01],\n",
              "       [-4.06736642e-01],\n",
              "       [-3.09017003e-01],\n",
              "       [-2.07911685e-01],\n",
              "       [-1.04528464e-01],\n",
              "       [-2.26621547e-15],\n",
              "       [ 1.04528464e-01],\n",
              "       [ 2.07911685e-01],\n",
              "       [ 3.09017003e-01],\n",
              "       [ 4.06736642e-01],\n",
              "       [ 5.00000000e-01],\n",
              "       [ 5.87785244e-01],\n",
              "       [ 6.69130623e-01],\n",
              "       [ 7.43144810e-01],\n",
              "       [ 8.09017003e-01],\n",
              "       [ 8.66025388e-01],\n",
              "       [ 9.13545430e-01],\n",
              "       [ 9.51056540e-01],\n",
              "       [ 9.78147626e-01],\n",
              "       [ 9.94521916e-01],\n",
              "       [ 1.00000000e+00],\n",
              "       [ 9.94521916e-01],\n",
              "       [ 9.78147626e-01],\n",
              "       [ 9.51056540e-01],\n",
              "       [ 9.13545430e-01]], dtype=float32)"
            ]
          },
          "metadata": {
            "tags": []
          },
          "execution_count": 17
        }
      ]
    },
    {
      "cell_type": "code",
      "metadata": {
        "id": "gynyurJUscmm",
        "colab_type": "code",
        "colab": {}
      },
      "source": [
        "def mkRandomBatch(train_x, train_t, batch_size=10):\n",
        "    \"\"\"\n",
        "    train_x, train_tを受け取ってbatch_x, batch_tを返す。\n",
        "    \"\"\"\n",
        "    batch_x = []\n",
        "    batch_t = []\n",
        "\n",
        "    for _ in range(batch_size):\n",
        "        idx = np.random.randint(0, len(train_x) - 1)\n",
        "        batch_x.append(train_x[idx])\n",
        "        batch_t.append(train_t[idx])\n",
        "    \n",
        "    return torch.tensor(batch_x), torch.tensor(batch_t)"
      ],
      "execution_count": 18,
      "outputs": []
    },
    {
      "cell_type": "code",
      "metadata": {
        "id": "1q582wL9sfgV",
        "colab_type": "code",
        "colab": {}
      },
      "source": [
        " #torch_train_x , torch_train_y = mkRandomBatch(X_train,y_train)"
      ],
      "execution_count": 19,
      "outputs": []
    },
    {
      "cell_type": "markdown",
      "metadata": {
        "id": "x39Y_i0TkALe",
        "colab_type": "text"
      },
      "source": [
        "# モデルの構築\n",
        "* input 層\n",
        "* middle 層\n",
        "* output 層"
      ]
    },
    {
      "cell_type": "code",
      "metadata": {
        "id": "loNbyOFrkALf",
        "colab_type": "code",
        "colab": {}
      },
      "source": [
        "import torch\n",
        "import torch.nn as nn\n",
        "\n",
        "\n",
        "class Predictor(nn.Module):\n",
        "    def __init__(self, inputDim, hiddenDim, outputDim):\n",
        "        super(Predictor, self).__init__()\n",
        "        \n",
        "        self.lstm = nn.LSTM(input_size = inputDim,\n",
        "                            hidden_size = hiddenDim,\n",
        "                            batch_first = True)\n",
        "                           \n",
        "        self.lstm_output_layer = nn.Linear(hiddenDim, outputDim)\n",
        "        #self.sigmoid_out = nn.Linear(outputDim, 4)    # labelは one hotベクトルなので outputを4クラスに分けられるようにする\n",
        "        #self.softmax = nn.LogSoftmax(dim=1)\n",
        "    \n",
        "    def forward(self, inputs, hidden0=None):\n",
        "        #print(inputs) 　　　　# このinputsには1batchが入る。サイズが4なら 4 ,50, 1 \n",
        "        output, (hidden, cell) = self.lstm(inputs, hidden0) #LSTM層\n",
        "        output = self.lstm_output_layer(output[:, -1, :]) #全結合層\n",
        "        #output = self.sigmoid_out(output)\n",
        "        return output\n"
      ],
      "execution_count": 20,
      "outputs": []
    },
    {
      "cell_type": "code",
      "metadata": {
        "id": "TncCxqQ5kALh",
        "colab_type": "code",
        "colab": {
          "base_uri": "https://localhost:8080/",
          "height": 85
        },
        "outputId": "3fa2fceb-e0e9-4ef6-d7f1-4564f799e623"
      },
      "source": [
        "model = Predictor(1,5,1)    # inputの次元は? 株価onlyだから1次元となるのか、それとも時間を5個分とってくるから 5次元？？\n",
        "model"
      ],
      "execution_count": 21,
      "outputs": [
        {
          "output_type": "execute_result",
          "data": {
            "text/plain": [
              "Predictor(\n",
              "  (lstm): LSTM(1, 5, batch_first=True)\n",
              "  (lstm_output_layer): Linear(in_features=5, out_features=1, bias=True)\n",
              ")"
            ]
          },
          "metadata": {
            "tags": []
          },
          "execution_count": 21
        }
      ]
    },
    {
      "cell_type": "code",
      "metadata": {
        "id": "eHuV8ECbkALk",
        "colab_type": "code",
        "colab": {}
      },
      "source": [
        "# 損失関数\n",
        "criterion = nn.MSELoss()      ### 損失化関数は二乗誤差を設定。　回帰モデルなのでOK\n",
        "#criterion = nn.CrossEntropyLoss() #ソフトマックス交差エントロピー\n",
        "\n",
        "# 最適化関数\n",
        "optimizer = torch.optim.SGD(model.parameters(), lr=0.01)     ### lrは学習率"
      ],
      "execution_count": 22,
      "outputs": []
    },
    {
      "cell_type": "markdown",
      "metadata": {
        "id": "TASWMi6ckALo",
        "colab_type": "text"
      },
      "source": [
        "# dataloaderを使った学習"
      ]
    },
    {
      "cell_type": "code",
      "metadata": {
        "id": "avAPnenCkALp",
        "colab_type": "code",
        "colab": {}
      },
      "source": [
        "ls_loss = []\n",
        "model.train()\n",
        "\n",
        "\n",
        "for epoch in range(100):\n",
        "    \n",
        "    model.train()\n",
        "    for i in range(int(training_size / batch_size)):\n",
        "        optimizer.zero_grad()\n",
        "\n",
        "        data, label = mkRandomBatch(X_train, y_train, batch_size)\n",
        "\n",
        "        #X = torch.tensor(X_train[i])\n",
        "        #label = torch.tensor(y_train[i])\n",
        "\n",
        "        #X_torch = X.to(device)\n",
        "        #label_torch = label.to(device)\n",
        "\n",
        "\n",
        "\n",
        "       # print(\"X shape \",X_torch.shape)\n",
        "       # print(\"label shape\",label_torch.shape)\n",
        "       # print(\"label\",label_torch)\n",
        "\n",
        "        # 勾配の初期化\n",
        "        optimizer.zero_grad()     \n",
        "        \n",
        "        y_pred = model( data )          ### ニューラルネットで計算したoutputを保存\n",
        "        \n",
        "        #print(\"y_pred : \",y_pred)\n",
        "        #print(\"y_pred shape: \",y_pred.shape)\n",
        "        #print(\"label_torch\" ,label_torch)\n",
        "        #print(\"label_torch shape\" ,label_torch.shape)\n",
        "\n",
        "        loss = criterion(y_pred, label) ###教師データとoutputから損失関数を計算\n",
        "        #break\n",
        "\n",
        "        # バッチごとのロスを記録する\n",
        "        ls_loss.append(loss)\n",
        "        \n",
        "        # 勾配の計算\n",
        "        loss.backward()           ### 損失関数を微分 = 勾配の計算\n",
        "        \n",
        "        # パラメータの更新\n",
        "        optimizer.step()           \n",
        "        \n",
        "        #print('*** by optimizer.step()')\n",
        "    "
      ],
      "execution_count": 23,
      "outputs": []
    },
    {
      "cell_type": "markdown",
      "metadata": {
        "id": "RpLr2cdtkALs",
        "colab_type": "text"
      },
      "source": [
        "### ロスの確認 dataloader"
      ]
    },
    {
      "cell_type": "code",
      "metadata": {
        "id": "8yEzoyfNkALs",
        "colab_type": "code",
        "colab": {
          "base_uri": "https://localhost:8080/",
          "height": 281
        },
        "outputId": "bfac9870-23a4-42fa-a991-0d9d95557b19"
      },
      "source": [
        "plt.figure()\n",
        "plt.plot(ls_loss,label=\"loss\")\n",
        "plt.title('Optimization function error') # 最適化関数の誤差\n",
        "plt.legend()\n",
        "plt.grid()"
      ],
      "execution_count": 24,
      "outputs": [
        {
          "output_type": "display_data",
          "data": {
            "image/png": "[encoded data removed]",
            "text/plain": [
              "<Figure size 432x288 with 1 Axes>"
            ]
          },
          "metadata": {
            "tags": [],
            "needs_background": "light"
          }
        }
      ]
    },
    {
      "cell_type": "markdown",
      "metadata": {
        "id": "FiupQO8OkALx",
        "colab_type": "text"
      },
      "source": [
        "## できあがったmodelでテストを行ってみる"
      ]
    },
    {
      "cell_type": "code",
      "metadata": {
        "id": "EoCnpLAUkALx",
        "colab_type": "code",
        "colab": {
          "base_uri": "https://localhost:8080/",
          "height": 185
        },
        "outputId": "8c789862-35a5-4a7c-cade-a20c104eceb8"
      },
      "source": [
        "testset = Dataset( X_test , y_test )\n",
        "dataloader = torch.utils.data.DataLoader(dataset=testset, batch_size = 1, shuffle=True)"
      ],
      "execution_count": 25,
      "outputs": [
        {
          "output_type": "error",
          "ename": "TypeError",
          "evalue": "ignored",
          "traceback": [
            "\u001b[0;31m---------------------------------------------------------------------------\u001b[0m",
            "\u001b[0;31mTypeError\u001b[0m                                 Traceback (most recent call last)",
            "\u001b[0;32m<ipython-input-25-ea8e0800bd76>\u001b[0m in \u001b[0;36m<module>\u001b[0;34m()\u001b[0m\n\u001b[0;32m----> 1\u001b[0;31m \u001b[0mtestset\u001b[0m \u001b[0;34m=\u001b[0m \u001b[0mDataset\u001b[0m\u001b[0;34m(\u001b[0m \u001b[0mX_test\u001b[0m \u001b[0;34m,\u001b[0m \u001b[0my_test\u001b[0m \u001b[0;34m)\u001b[0m\u001b[0;34m\u001b[0m\u001b[0;34m\u001b[0m\u001b[0m\n\u001b[0m\u001b[1;32m      2\u001b[0m \u001b[0mdataloader\u001b[0m \u001b[0;34m=\u001b[0m \u001b[0mtorch\u001b[0m\u001b[0;34m.\u001b[0m\u001b[0mutils\u001b[0m\u001b[0;34m.\u001b[0m\u001b[0mdata\u001b[0m\u001b[0;34m.\u001b[0m\u001b[0mDataLoader\u001b[0m\u001b[0;34m(\u001b[0m\u001b[0mdataset\u001b[0m\u001b[0;34m=\u001b[0m\u001b[0mtestset\u001b[0m\u001b[0;34m,\u001b[0m \u001b[0mbatch_size\u001b[0m \u001b[0;34m=\u001b[0m \u001b[0;36m1\u001b[0m\u001b[0;34m,\u001b[0m \u001b[0mshuffle\u001b[0m\u001b[0;34m=\u001b[0m\u001b[0;32mTrue\u001b[0m\u001b[0;34m)\u001b[0m\u001b[0;34m\u001b[0m\u001b[0;34m\u001b[0m\u001b[0m\n",
            "\u001b[0;31mTypeError\u001b[0m: object() takes no parameters"
          ]
        }
      ]
    },
    {
      "cell_type": "code",
      "metadata": {
        "id": "No4-WpTDkALz",
        "colab_type": "code",
        "colab": {}
      },
      "source": [
        "dataiter = iter(dataloader)\n",
        "\n",
        "X, labal = dataiter.next()"
      ],
      "execution_count": null,
      "outputs": []
    },
    {
      "cell_type": "code",
      "metadata": {
        "id": "iWNJCxT2kAL1",
        "colab_type": "code",
        "colab": {}
      },
      "source": [
        "\n",
        "y_testresult = []\n",
        "model.eval()\n",
        "#t = np.arange(50, 58)\n",
        "\n",
        "\n",
        "\n",
        "for i, (X, label) in enumerate(dataloader):\n",
        "\n",
        "    #print(\"@@@@@@@@@@@@\", i)\n",
        "    \n",
        "    #print(X)\n",
        "    optimizer.zero_grad()\n",
        "    \n",
        "    y = model(X)\n",
        "    l = label\n",
        "    \n",
        "    #print(\"label\",label)\n",
        "    #print(y)\n",
        "    \n",
        "    y = y.to('cpu').detach().numpy().copy()\n",
        "    l = l.to('cpu').detach().numpy().copy()\n",
        "    \n",
        "    y_flat = y.flatten()\n",
        "    l_flat = l.flatten()\n",
        "    \n",
        "  \n",
        "    plt.plot(t,y_flat, marker = 'o')\n",
        "    plt.plot(t,l_flat, marker = 'x')\n",
        "    plt.show()\n"
      ],
      "execution_count": null,
      "outputs": []
    },
    {
      "cell_type": "code",
      "metadata": {
        "id": "xYbmR9KskAL6",
        "colab_type": "code",
        "colab": {}
      },
      "source": [
        "y = model(X)"
      ],
      "execution_count": null,
      "outputs": []
    },
    {
      "cell_type": "code",
      "metadata": {
        "id": "crnYG_U6nNgw",
        "colab_type": "code",
        "colab": {}
      },
      "source": [
        "print(X)\n",
        "print(y)\n",
        "print(l)"
      ],
      "execution_count": null,
      "outputs": []
    },
    {
      "cell_type": "code",
      "metadata": {
        "id": "n73CglU9nOMN",
        "colab_type": "code",
        "colab": {}
      },
      "source": [
        ""
      ],
      "execution_count": null,
      "outputs": []
    }
  ]
}