{
  "nbformat": 4,
  "nbformat_minor": 0,
  "metadata": {
    "file_extension": ".py",
    "kernelspec": {
      "display_name": "Python 3.7.5 64-bit",
      "language": "python",
      "name": "python37564bit8eca2ece5df347009757f05252a386a2"
    },
    "language_info": {
      "codemirror_mode": {
        "name": "ipython",
        "version": 3
      },
      "file_extension": ".py",
      "mimetype": "text/x-python",
      "name": "python",
      "nbconvert_exporter": "python",
      "pygments_lexer": "ipython3",
      "version": "3.7.5"
    },
    "mimetype": "text/x-python",
    "name": "python",
    "npconvert_exporter": "python",
    "pygments_lexer": "ipython3",
    "version": 3,
    "colab": {
      "name": "LSTM_Stock_Regression.ipynb",
      "provenance": [],
      "collapsed_sections": [],
      "include_colab_link": true
    }
  },
  "cells": [
    {
      "cell_type": "markdown",
      "metadata": {
        "id": "view-in-github",
        "colab_type": "text"
      },
      "source": [
        "<a href=\"https://colab.research.google.com/github/Chihiro-n/stockmodel/blob/master/LSTM_Stock_Regression.ipynb\" target=\"_parent\"><img src=\"https://colab.research.google.com/assets/colab-badge.svg\" alt=\"Open In Colab\"/></a>"
      ]
    },
    {
      "cell_type": "markdown",
      "metadata": {
        "id": "k01qC0e6kAKw",
        "colab_type": "text"
      },
      "source": [
        "# NNで株価を予測モデルを作成する\n",
        "rev2:入力データを一次元に限定"
      ]
    },
    {
      "cell_type": "code",
      "metadata": {
        "id": "eKdxHDxXkAKx",
        "colab_type": "code",
        "colab": {
          "base_uri": "https://localhost:8080/",
          "height": 51
        },
        "outputId": "e41296f0-4ea7-4b74-c742-2774d181ddaf"
      },
      "source": [
        "import numpy as np\n",
        "import pandas as pd\n",
        "import matplotlib.pyplot as plt\n",
        "import seaborn as sns\n",
        "%matplotlib inline\n"
      ],
      "execution_count": 1,
      "outputs": [
        {
          "output_type": "stream",
          "text": [
            "/usr/local/lib/python3.6/dist-packages/statsmodels/tools/_testing.py:19: FutureWarning: pandas.util.testing is deprecated. Use the functions in the public API at pandas.testing instead.\n",
            "  import pandas.util.testing as tm\n"
          ],
          "name": "stderr"
        }
      ]
    },
    {
      "cell_type": "markdown",
      "metadata": {
        "id": "ww8iAWfUkAK2",
        "colab_type": "text"
      },
      "source": [
        "# LSTMモデルを組む"
      ]
    },
    {
      "cell_type": "code",
      "metadata": {
        "id": "St3RbwyhkAK3",
        "colab_type": "code",
        "colab": {}
      },
      "source": [
        "import torch\n",
        "import torch.nn as nn\n",
        "import torch.nn.functional as F\n",
        "import torch.optim as optim\n",
        "from torch.utils.data import Dataset, DataLoader\n",
        "from sklearn.model_selection import train_test_split\n",
        "import numpy as np"
      ],
      "execution_count": 2,
      "outputs": []
    },
    {
      "cell_type": "code",
      "metadata": {
        "id": "Afwmx2hdkaYw",
        "colab_type": "code",
        "colab": {
          "base_uri": "https://localhost:8080/",
          "height": 122
        },
        "outputId": "9fb47d11-c2f3-4c4e-cd21-202a3d03285f"
      },
      "source": [
        "from google.colab import drive\n",
        "drive.mount('/content/drive')"
      ],
      "execution_count": 3,
      "outputs": [
        {
          "output_type": "stream",
          "text": [
            "Go to this URL in a browser: https://accounts.google.com/o/oauth2/auth?client_id=947318989803-6bn6qk8qdgf4n4g3pfee6491hc0brc4i.apps.googleusercontent.com&redirect_uri=urn%3aietf%3awg%3aoauth%3a2.0%3aoob&response_type=code&scope=email%20https%3a%2f%2fwww.googleapis.com%2fauth%2fdocs.test%20https%3a%2f%2fwww.googleapis.com%2fauth%2fdrive%20https%3a%2f%2fwww.googleapis.com%2fauth%2fdrive.photos.readonly%20https%3a%2f%2fwww.googleapis.com%2fauth%2fpeopleapi.readonly\n",
            "\n",
            "Enter your authorization code:\n",
            "··········\n",
            "Mounted at /content/drive\n"
          ],
          "name": "stdout"
        }
      ]
    },
    {
      "cell_type": "code",
      "metadata": {
        "id": "_Wcaqu5ykuTF",
        "colab_type": "code",
        "colab": {
          "base_uri": "https://localhost:8080/",
          "height": 34
        },
        "outputId": "be7e0631-4937-455c-8371-aa1c86926b19"
      },
      "source": [
        "%pwd"
      ],
      "execution_count": 4,
      "outputs": [
        {
          "output_type": "execute_result",
          "data": {
            "text/plain": [
              "'/content'"
            ]
          },
          "metadata": {
            "tags": []
          },
          "execution_count": 4
        }
      ]
    },
    {
      "cell_type": "code",
      "metadata": {
        "id": "xkJ5-FdVwDwX",
        "colab_type": "code",
        "colab": {}
      },
      "source": [
        ""
      ],
      "execution_count": null,
      "outputs": []
    },
    {
      "cell_type": "code",
      "metadata": {
        "id": "y6DyrUc8l6wc",
        "colab_type": "code",
        "colab": {
          "base_uri": "https://localhost:8080/",
          "height": 34
        },
        "outputId": "0195e5cf-90db-4258-b469-bab6e602e8ad"
      },
      "source": [
        "%cd /content/drive/My Drive/Colab Notebooks"
      ],
      "execution_count": 5,
      "outputs": [
        {
          "output_type": "stream",
          "text": [
            "/content/drive/My Drive/Colab Notebooks\n"
          ],
          "name": "stdout"
        }
      ]
    },
    {
      "cell_type": "code",
      "metadata": {
        "id": "k-TqqQtdmdap",
        "colab_type": "code",
        "colab": {
          "base_uri": "https://localhost:8080/",
          "height": 357
        },
        "outputId": "405a78e8-5935-4a12-8a61-361851810175"
      },
      "source": [
        "%ls"
      ],
      "execution_count": 6,
      "outputs": [
        {
          "output_type": "stream",
          "text": [
            " Check_Sinwave_LSTM_Stock_Classify.ipynb\n",
            "'Colaboratory へようこそ のコピー'\n",
            " \u001b[0m\u001b[01;34mdata\u001b[0m/\n",
            " \u001b[01;34mdata_dir\u001b[0m/\n",
            " DogCat.ipynb\n",
            " kaggleデータinputの方法DogCat.ipynb\n",
            " \u001b[01;34mkeras_ssd_hands-on\u001b[0m/\n",
            " LSTM_changed_dataset.ipynb\n",
            "'LSTM_Stock_Classify (1).ipynb'\n",
            " LSTM_Stock_Classify.ipynb\n",
            "'LSTM_Stock_Regression (1).ipynb'\n",
            " LSTM_Stock_Regression.ipynb\n",
            " net.ckpt\n",
            " \u001b[01;34mprophet\u001b[0m/\n",
            "'PyTorch実践入門ハンズオンセミナー配布用 のコピー'\n",
            " RNN_shapeCheak.ipynb\n",
            " RNN_sin_pred.ipynb\n",
            " sampleSubmission.csv\n",
            " torch_tuto_CFIA10.ipynb\n",
            " Youtube_Analysis_1.ipynb\n"
          ],
          "name": "stdout"
        }
      ]
    },
    {
      "cell_type": "markdown",
      "metadata": {
        "id": "H4miOBaYJdRd",
        "colab_type": "text"
      },
      "source": [
        "# GPUセットのためのおまじない"
      ]
    },
    {
      "cell_type": "code",
      "metadata": {
        "id": "X6mO-7itJb_K",
        "colab_type": "code",
        "colab": {}
      },
      "source": [
        "device = torch.device('cuda' if torch.cuda.is_available() else 'cpu')"
      ],
      "execution_count": 7,
      "outputs": []
    },
    {
      "cell_type": "markdown",
      "metadata": {
        "id": "wYjRDZdRkAK7",
        "colab_type": "text"
      },
      "source": [
        "# データセットを作る\n",
        "### PytorchのLSTMに学習させるためのデータは次元の工夫が必要であり、二重リストにしないとエラーになる\n",
        "### 訓練用とテスト用にデータを分ける。まず二重リストであるtmpを作ってからそれを分割した"
      ]
    },
    {
      "cell_type": "code",
      "metadata": {
        "id": "6FOUg_IgkAK7",
        "colab_type": "code",
        "colab": {}
      },
      "source": [
        "window = 10       # データは日足\n",
        "target_term = 1   # 入力データに対して予測する日までの期間。\n",
        "input_dim = 4\n",
        "\n",
        "#csvfile = open('/content/drive/My Drive/data-text.csv', 'r', encoding='utf-8')\n",
        "#df_train_law = pd.read_csv('./data/stock/label_difflog_2005-2018.csv' ,index_col=0)\n",
        "df_train_law = pd.read_csv('./data/stock/class_label_difflog_2005-2018.csv' ,index_col=0)\n",
        "\n",
        "df_train_law.head()\n",
        "\n",
        "inp_dim = len(df_train_law)\n",
        "\n",
        "train_endindex = int(inp_dim*0.9)\n",
        "\n"
      ],
      "execution_count": 8,
      "outputs": []
    },
    {
      "cell_type": "code",
      "metadata": {
        "id": "KGWCwwlB7BT6",
        "colab_type": "code",
        "colab": {
          "base_uri": "https://localhost:8080/",
          "height": 170
        },
        "outputId": "63632a3e-72bf-4825-d525-a6ce4608b46a"
      },
      "source": [
        "print(df_train_law.head())"
      ],
      "execution_count": 9,
      "outputs": [
        {
          "output_type": "stream",
          "text": [
            "              始値    高値    安値    終値  ...  label_m0  label_p0  label_p1  label_class\n",
            "日付                                  ...                                           \n",
            "2005-01-05  4210  4220  4140  4150  ...       0.0       0.0       0.0          0.0\n",
            "2005-01-06  4150  4210  4150  4190  ...       1.0       0.0       0.0          2.0\n",
            "2005-01-07  4210  4210  4140  4150  ...       0.0       1.0       0.0          3.0\n",
            "2005-01-11  4180  4210  4170  4200  ...       1.0       0.0       0.0          2.0\n",
            "2005-01-12  4180  4190  4140  4150  ...       0.0       1.0       0.0          3.0\n",
            "\n",
            "[5 rows x 17 columns]\n"
          ],
          "name": "stdout"
        }
      ]
    },
    {
      "cell_type": "markdown",
      "metadata": {
        "id": "mny2bFTXe8bS",
        "colab_type": "text"
      },
      "source": [
        "### inputデータとして、株価をlogに加工した値のみを取り出す。\n",
        "最初の行だけは削除しておく。階差をlabelとしているため"
      ]
    },
    {
      "cell_type": "code",
      "metadata": {
        "id": "kIe4M1zc_NzK",
        "colab_type": "code",
        "colab": {}
      },
      "source": [
        "if input_dim == 4:\n",
        "\n",
        "  df_input = df_train_law.iloc[:, 4:8 ]   # 次元が4つの場合\n",
        "elif input_dim ==1:\n",
        "  df_input = df_train_law.iloc[:, 4 ]      # 次元を始値に限定する場合\n",
        "\n",
        "#nd_cast = open.astype(np.float32)"
      ],
      "execution_count": 10,
      "outputs": []
    },
    {
      "cell_type": "code",
      "metadata": {
        "id": "zgTI_c9BAElx",
        "colab_type": "code",
        "colab": {}
      },
      "source": [
        "df_input = df_input.drop('2005-01-05', axis=0)"
      ],
      "execution_count": 11,
      "outputs": []
    },
    {
      "cell_type": "code",
      "metadata": {
        "id": "wiGqTrA4gLYf",
        "colab_type": "code",
        "colab": {
          "base_uri": "https://localhost:8080/",
          "height": 450
        },
        "outputId": "17437f32-5fac-47d3-c2f6-d6a319e98185"
      },
      "source": [
        "df_input"
      ],
      "execution_count": 12,
      "outputs": [
        {
          "output_type": "execute_result",
          "data": {
            "text/html": [
              "<div>\n",
              "<style scoped>\n",
              "    .dataframe tbody tr th:only-of-type {\n",
              "        vertical-align: middle;\n",
              "    }\n",
              "\n",
              "    .dataframe tbody tr th {\n",
              "        vertical-align: top;\n",
              "    }\n",
              "\n",
              "    .dataframe thead th {\n",
              "        text-align: right;\n",
              "    }\n",
              "</style>\n",
              "<table border=\"1\" class=\"dataframe\">\n",
              "  <thead>\n",
              "    <tr style=\"text-align: right;\">\n",
              "      <th></th>\n",
              "      <th>log始値</th>\n",
              "      <th>log高値</th>\n",
              "      <th>log安値</th>\n",
              "      <th>log終値</th>\n",
              "    </tr>\n",
              "    <tr>\n",
              "      <th>日付</th>\n",
              "      <th></th>\n",
              "      <th></th>\n",
              "      <th></th>\n",
              "      <th></th>\n",
              "    </tr>\n",
              "  </thead>\n",
              "  <tbody>\n",
              "    <tr>\n",
              "      <th>2005-01-06</th>\n",
              "      <td>8.330864</td>\n",
              "      <td>8.345218</td>\n",
              "      <td>8.330864</td>\n",
              "      <td>8.340456</td>\n",
              "    </tr>\n",
              "    <tr>\n",
              "      <th>2005-01-07</th>\n",
              "      <td>8.345218</td>\n",
              "      <td>8.345218</td>\n",
              "      <td>8.328451</td>\n",
              "      <td>8.330864</td>\n",
              "    </tr>\n",
              "    <tr>\n",
              "      <th>2005-01-11</th>\n",
              "      <td>8.338067</td>\n",
              "      <td>8.345218</td>\n",
              "      <td>8.335671</td>\n",
              "      <td>8.342840</td>\n",
              "    </tr>\n",
              "    <tr>\n",
              "      <th>2005-01-12</th>\n",
              "      <td>8.338067</td>\n",
              "      <td>8.340456</td>\n",
              "      <td>8.328451</td>\n",
              "      <td>8.330864</td>\n",
              "    </tr>\n",
              "    <tr>\n",
              "      <th>2005-01-13</th>\n",
              "      <td>8.321178</td>\n",
              "      <td>8.328451</td>\n",
              "      <td>8.318742</td>\n",
              "      <td>8.323608</td>\n",
              "    </tr>\n",
              "    <tr>\n",
              "      <th>...</th>\n",
              "      <td>...</td>\n",
              "      <td>...</td>\n",
              "      <td>...</td>\n",
              "      <td>...</td>\n",
              "    </tr>\n",
              "    <tr>\n",
              "      <th>2018-12-21</th>\n",
              "      <td>8.777864</td>\n",
              "      <td>8.779096</td>\n",
              "      <td>8.764210</td>\n",
              "      <td>8.766550</td>\n",
              "    </tr>\n",
              "    <tr>\n",
              "      <th>2018-12-25</th>\n",
              "      <td>8.728264</td>\n",
              "      <td>8.733272</td>\n",
              "      <td>8.708805</td>\n",
              "      <td>8.712595</td>\n",
              "    </tr>\n",
              "    <tr>\n",
              "      <th>2018-12-26</th>\n",
              "      <td>8.720787</td>\n",
              "      <td>8.737934</td>\n",
              "      <td>8.706987</td>\n",
              "      <td>8.723557</td>\n",
              "    </tr>\n",
              "    <tr>\n",
              "      <th>2018-12-27</th>\n",
              "      <td>8.763115</td>\n",
              "      <td>8.770594</td>\n",
              "      <td>8.754319</td>\n",
              "      <td>8.766394</td>\n",
              "    </tr>\n",
              "    <tr>\n",
              "      <th>2018-12-28</th>\n",
              "      <td>8.758570</td>\n",
              "      <td>8.770905</td>\n",
              "      <td>8.750841</td>\n",
              "      <td>8.764990</td>\n",
              "    </tr>\n",
              "  </tbody>\n",
              "</table>\n",
              "<p>3416 rows × 4 columns</p>\n",
              "</div>"
            ],
            "text/plain": [
              "               log始値     log高値     log安値     log終値\n",
              "日付                                                \n",
              "2005-01-06  8.330864  8.345218  8.330864  8.340456\n",
              "2005-01-07  8.345218  8.345218  8.328451  8.330864\n",
              "2005-01-11  8.338067  8.345218  8.335671  8.342840\n",
              "2005-01-12  8.338067  8.340456  8.328451  8.330864\n",
              "2005-01-13  8.321178  8.328451  8.318742  8.323608\n",
              "...              ...       ...       ...       ...\n",
              "2018-12-21  8.777864  8.779096  8.764210  8.766550\n",
              "2018-12-25  8.728264  8.733272  8.708805  8.712595\n",
              "2018-12-26  8.720787  8.737934  8.706987  8.723557\n",
              "2018-12-27  8.763115  8.770594  8.754319  8.766394\n",
              "2018-12-28  8.758570  8.770905  8.750841  8.764990\n",
              "\n",
              "[3416 rows x 4 columns]"
            ]
          },
          "metadata": {
            "tags": []
          },
          "execution_count": 12
        }
      ]
    },
    {
      "cell_type": "markdown",
      "metadata": {
        "id": "8hGHUf8qLyTk",
        "colab_type": "text"
      },
      "source": [
        "## 念の為、inputdataを確認しておく"
      ]
    },
    {
      "cell_type": "code",
      "metadata": {
        "id": "GFU21SntL2F6",
        "colab_type": "code",
        "colab": {}
      },
      "source": [
        "# \n",
        "#plt.figure()\n",
        "#plt.plot(df_input,label=\"loss\")\n",
        "#plt.legend()\n",
        "#plt.grid()"
      ],
      "execution_count": 13,
      "outputs": []
    },
    {
      "cell_type": "code",
      "metadata": {
        "id": "5359gHBbMy-D",
        "colab_type": "code",
        "colab": {
          "base_uri": "https://localhost:8080/",
          "height": 280
        },
        "outputId": "5e3230e7-0968-43ba-9733-06aff9b4680e"
      },
      "source": [
        "sns.countplot(x=\"label_class\", data=df_train_law)\n",
        "plt.show()"
      ],
      "execution_count": 14,
      "outputs": [
        {
          "output_type": "display_data",
          "data": {
            "image/png": "[encoded data removed]",
            "text/plain": [
              "<Figure size 432x288 with 1 Axes>"
            ]
          },
          "metadata": {
            "tags": [],
            "needs_background": "light"
          }
        }
      ]
    },
    {
      "cell_type": "markdown",
      "metadata": {
        "id": "8be2luh4Itum",
        "colab_type": "text"
      },
      "source": [
        "### inputデータを作成する。\n",
        "説明変数4つ　が 50日分.  \n",
        "ループは50を引いておく  \n",
        "numpyに変更しておく"
      ]
    },
    {
      "cell_type": "code",
      "metadata": {
        "id": "pBVR3b2V_VK0",
        "colab_type": "code",
        "colab": {}
      },
      "source": [
        "#train_input = np.array([])\n",
        "train_input = []\n",
        "train_t = []\n",
        "\n",
        "for i in range(len(df_input)-window):\n",
        "  #train_input = np.append( train_input, df_input.iloc[i: i+window] )\n",
        "  train_input.append( df_input.iloc[i: i+window].values )"
      ],
      "execution_count": 15,
      "outputs": []
    },
    {
      "cell_type": "markdown",
      "metadata": {
        "id": "VFN-Tux0IrSQ",
        "colab_type": "text"
      },
      "source": [
        "### 中身チェック"
      ]
    },
    {
      "cell_type": "code",
      "metadata": {
        "id": "ROrwDT0QAY0M",
        "colab_type": "code",
        "colab": {
          "base_uri": "https://localhost:8080/",
          "height": 51
        },
        "outputId": "c8f11d0f-70fd-446f-f783-5cef968bbe7d"
      },
      "source": [
        "print(len(train_input))\n",
        "print(type(train_input))\n",
        "#train_input[0]\n",
        "#print(train_input.shape)\n"
      ],
      "execution_count": 16,
      "outputs": [
        {
          "output_type": "stream",
          "text": [
            "3406\n",
            "<class 'list'>\n"
          ],
          "name": "stdout"
        }
      ]
    },
    {
      "cell_type": "markdown",
      "metadata": {
        "id": "9fZNcKv4NCQ_",
        "colab_type": "text"
      },
      "source": [
        "### numpyに変更し、サイズもチェック"
      ]
    },
    {
      "cell_type": "code",
      "metadata": {
        "id": "idUDB0IkH_ER",
        "colab_type": "code",
        "colab": {
          "base_uri": "https://localhost:8080/",
          "height": 867
        },
        "outputId": "6b3bedb5-0e5a-4fc2-efd8-d14f71fab1b1"
      },
      "source": [
        "np_train_input = np.array(train_input)\n",
        "np_train_input = np_train_input.astype(np.float32)  ### float型に変更しておかないと、modelに入力する際にerrorが出る　※doubleはNG\n",
        "\n",
        "print(np_train_input.shape)\n",
        "\n",
        "np_train_input\n"
      ],
      "execution_count": 17,
      "outputs": [
        {
          "output_type": "stream",
          "text": [
            "(3406, 10, 4)\n"
          ],
          "name": "stdout"
        },
        {
          "output_type": "execute_result",
          "data": {
            "text/plain": [
              "array([[[8.330864 , 8.345218 , 8.330864 , 8.340456 ],\n",
              "        [8.345218 , 8.345218 , 8.328451 , 8.330864 ],\n",
              "        [8.338066 , 8.345218 , 8.335671 , 8.34284  ],\n",
              "        ...,\n",
              "        [8.328451 , 8.330864 , 8.3163   , 8.321178 ],\n",
              "        [8.323608 , 8.328451 , 8.3163   , 8.3163   ],\n",
              "        [8.3113985, 8.313852 , 8.301521 , 8.304    ]],\n",
              "\n",
              "       [[8.345218 , 8.345218 , 8.328451 , 8.330864 ],\n",
              "        [8.338066 , 8.345218 , 8.335671 , 8.34284  ],\n",
              "        [8.338066 , 8.340456 , 8.328451 , 8.330864 ],\n",
              "        ...,\n",
              "        [8.323608 , 8.328451 , 8.3163   , 8.3163   ],\n",
              "        [8.3113985, 8.313852 , 8.301521 , 8.304    ],\n",
              "        [8.304    , 8.313852 , 8.301521 , 8.308938 ]],\n",
              "\n",
              "       [[8.338066 , 8.345218 , 8.335671 , 8.34284  ],\n",
              "        [8.338066 , 8.340456 , 8.328451 , 8.330864 ],\n",
              "        [8.321178 , 8.328451 , 8.318742 , 8.323608 ],\n",
              "        ...,\n",
              "        [8.3113985, 8.313852 , 8.301521 , 8.304    ],\n",
              "        [8.304    , 8.313852 , 8.301521 , 8.308938 ],\n",
              "        [8.306472 , 8.308938 , 8.301521 , 8.304    ]],\n",
              "\n",
              "       ...,\n",
              "\n",
              "       [[8.824677 , 8.826441 , 8.815518 , 8.816557 ],\n",
              "        [8.824677 , 8.841738 , 8.821142 , 8.8385515],\n",
              "        [8.840725 , 8.84376  , 8.832587 , 8.834919 ],\n",
              "        ...,\n",
              "        [8.818778 , 8.826    , 8.795885 , 8.79921  ],\n",
              "        [8.7778635, 8.779096 , 8.76421  , 8.76655  ],\n",
              "        [8.728264 , 8.733272 , 8.708805 , 8.712596 ]],\n",
              "\n",
              "       [[8.824677 , 8.841738 , 8.821142 , 8.8385515],\n",
              "        [8.840725 , 8.84376  , 8.832587 , 8.834919 ],\n",
              "        [8.827908 , 8.842027 , 8.826441 , 8.828934 ],\n",
              "        ...,\n",
              "        [8.7778635, 8.779096 , 8.76421  , 8.76655  ],\n",
              "        [8.728264 , 8.733272 , 8.708805 , 8.712596 ],\n",
              "        [8.720787 , 8.737934 , 8.706986 , 8.7235565]],\n",
              "\n",
              "       [[8.840725 , 8.84376  , 8.832587 , 8.834919 ],\n",
              "        [8.827908 , 8.842027 , 8.826441 , 8.828934 ],\n",
              "        [8.823795 , 8.836664 , 8.823059 , 8.830543 ],\n",
              "        ...,\n",
              "        [8.728264 , 8.733272 , 8.708805 , 8.712596 ],\n",
              "        [8.720787 , 8.737934 , 8.706986 , 8.7235565],\n",
              "        [8.763115 , 8.770595 , 8.754318 , 8.766395 ]]], dtype=float32)"
            ]
          },
          "metadata": {
            "tags": []
          },
          "execution_count": 17
        }
      ]
    },
    {
      "cell_type": "markdown",
      "metadata": {
        "id": "1gxQ7xSl9EBh",
        "colab_type": "text"
      },
      "source": [
        "## input次元が1のときだけ必要になる。shapeを( len , timestep , 1 )にするため。\n",
        "※reshapeをしない場合は(len , timestep)だけとなってエラーになる"
      ]
    },
    {
      "cell_type": "code",
      "metadata": {
        "id": "0ahK9XSe9fFG",
        "colab_type": "code",
        "colab": {
          "base_uri": "https://localhost:8080/",
          "height": 34
        },
        "outputId": "2868c2be-dcc2-4de8-bd0a-977a9774c61c"
      },
      "source": [
        "np_train_input = np_train_input.reshape(-1,window,input_dim)\n",
        "print(np_train_input.shape)"
      ],
      "execution_count": 18,
      "outputs": [
        {
          "output_type": "stream",
          "text": [
            "(3406, 10, 4)\n"
          ],
          "name": "stdout"
        }
      ]
    },
    {
      "cell_type": "markdown",
      "metadata": {
        "id": "MWXzLw_Lmiji",
        "colab_type": "text"
      },
      "source": [
        "# labelデータも numpyに変更しておく\n",
        "labalはonehot vectorなので、(3366,1,4)になるはず -> X ※pytorchのクロスエントロピーロスはエントロピーロスはonehotvectorに対応しておらずクラスラベルにする"
      ]
    },
    {
      "cell_type": "code",
      "metadata": {
        "id": "01FncddLm2yr",
        "colab_type": "code",
        "colab": {
          "base_uri": "https://localhost:8080/",
          "height": 238
        },
        "outputId": "59a4d150-cd99-481a-ca5a-d3ce6488bd78"
      },
      "source": [
        "df_label = df_train_law.iloc[:, 4 ]\n",
        "df_label"
      ],
      "execution_count": 19,
      "outputs": [
        {
          "output_type": "execute_result",
          "data": {
            "text/plain": [
              "日付\n",
              "2005-01-05    8.345218\n",
              "2005-01-06    8.330864\n",
              "2005-01-07    8.345218\n",
              "2005-01-11    8.338067\n",
              "2005-01-12    8.338067\n",
              "                ...   \n",
              "2018-12-21    8.777864\n",
              "2018-12-25    8.728264\n",
              "2018-12-26    8.720787\n",
              "2018-12-27    8.763115\n",
              "2018-12-28    8.758570\n",
              "Name: log始値, Length: 3417, dtype: float64"
            ]
          },
          "metadata": {
            "tags": []
          },
          "execution_count": 19
        }
      ]
    },
    {
      "cell_type": "code",
      "metadata": {
        "id": "uctrXWc-nGT5",
        "colab_type": "code",
        "colab": {}
      },
      "source": [
        "df_label = df_label.drop('2005-01-05', axis=0)"
      ],
      "execution_count": 20,
      "outputs": []
    },
    {
      "cell_type": "code",
      "metadata": {
        "id": "HyHf34xEvYYI",
        "colab_type": "code",
        "colab": {
          "base_uri": "https://localhost:8080/",
          "height": 34
        },
        "outputId": "8a4d7356-2c94-46f2-a729-0b325a9b399e"
      },
      "source": [
        "type(df_label)"
      ],
      "execution_count": 21,
      "outputs": [
        {
          "output_type": "execute_result",
          "data": {
            "text/plain": [
              "pandas.core.series.Series"
            ]
          },
          "metadata": {
            "tags": []
          },
          "execution_count": 21
        }
      ]
    },
    {
      "cell_type": "code",
      "metadata": {
        "id": "9Lv_9UoUnRZE",
        "colab_type": "code",
        "colab": {}
      },
      "source": [
        "train_label = []\n",
        "\n",
        "for i in range(len(df_label)-window):\n",
        "  #train_label.append( df_label.iloc[window + i].values )\n",
        "  train_label.append( df_label.iloc[window + i] )"
      ],
      "execution_count": 22,
      "outputs": []
    },
    {
      "cell_type": "code",
      "metadata": {
        "id": "WG94bDqXnkw6",
        "colab_type": "code",
        "colab": {
          "base_uri": "https://localhost:8080/",
          "height": 34
        },
        "outputId": "1c212ffb-c91e-40c4-f937-b84ac3e689c9"
      },
      "source": [
        "np_train_label = np.array(train_label)\n",
        "\n",
        "\n",
        "np_train_label = np_train_label.astype(np.float32)\n",
        "np_train_label.shape\n"
      ],
      "execution_count": 23,
      "outputs": [
        {
          "output_type": "execute_result",
          "data": {
            "text/plain": [
              "(3406,)"
            ]
          },
          "metadata": {
            "tags": []
          },
          "execution_count": 23
        }
      ]
    },
    {
      "cell_type": "markdown",
      "metadata": {
        "id": "qiiBOofez7rT",
        "colab_type": "text"
      },
      "source": [
        "## Shapeを変更する、 二重リストの型へ\n"
      ]
    },
    {
      "cell_type": "code",
      "metadata": {
        "id": "HHYW0R1Iznx2",
        "colab_type": "code",
        "colab": {}
      },
      "source": [
        "np_train_label = np_train_label.reshape(-1,1,1)"
      ],
      "execution_count": 24,
      "outputs": []
    },
    {
      "cell_type": "code",
      "metadata": {
        "id": "31zdMcj8zurW",
        "colab_type": "code",
        "colab": {
          "base_uri": "https://localhost:8080/",
          "height": 255
        },
        "outputId": "a20ff39a-8476-4533-829b-ae6e391f22c4"
      },
      "source": [
        "print(np_train_label.shape)\n",
        "print(np_train_label)\n"
      ],
      "execution_count": 25,
      "outputs": [
        {
          "output_type": "stream",
          "text": [
            "(3406, 1, 1)\n",
            "[[[8.304   ]]\n",
            "\n",
            " [[8.306472]]\n",
            "\n",
            " [[8.296547]]\n",
            "\n",
            " ...\n",
            "\n",
            " [[8.720787]]\n",
            "\n",
            " [[8.763115]]\n",
            "\n",
            " [[8.75857 ]]]\n"
          ],
          "name": "stdout"
        }
      ]
    },
    {
      "cell_type": "markdown",
      "metadata": {
        "id": "1WXCQU03oG8E",
        "colab_type": "text"
      },
      "source": [
        "## TrainとTestで分割する"
      ]
    },
    {
      "cell_type": "code",
      "metadata": {
        "id": "jhT2dxAI67_9",
        "colab_type": "code",
        "colab": {}
      },
      "source": [
        "X_train, y_train, X_test, y_test= [], [], [], []\n",
        "\n",
        "\n",
        "all_length = len(np_train_label)\n",
        "train_length = int(all_length*0.9)\n",
        "\n",
        "### 訓練用データセットを作成するループ\n",
        "X_train = np_train_input[:train_length]\n",
        "y_train = np_train_label[:train_length]\n",
        "\n",
        "### テスト用データセットを作成するループ\n",
        "X_test = np_train_input[train_length:]\n",
        "y_test = np_train_label[train_length:]\n"
      ],
      "execution_count": 26,
      "outputs": []
    },
    {
      "cell_type": "code",
      "metadata": {
        "id": "lchf3qnkkALA",
        "colab_type": "code",
        "colab": {
          "base_uri": "https://localhost:8080/",
          "height": 1000
        },
        "outputId": "11c7a692-c854-4c04-aeb1-72696acd0693"
      },
      "source": [
        "\n",
        "print(inp_dim)\n",
        "print( len(X_train[0]) )\n",
        "print( len(X_train) )\n",
        "\n",
        "print(X_train[0])\n",
        "print(X_train[1])\n",
        "print(X_train[2])\n",
        "\n",
        "print(\"=================\")\n",
        "print(y_train[0])\n",
        "print(y_train[1])\n",
        "\n",
        "print(\"=================\")\n",
        "print( len(X_test[0]) )\n",
        "print( len(X_test) )\n",
        "\n",
        "print(X_test[0])\n",
        "print(X_test[1])\n",
        "print(X_test[2])\n",
        "print(\"=================\")\n",
        "print(y_test[0])\n",
        "print(y_test[1])"
      ],
      "execution_count": 27,
      "outputs": [
        {
          "output_type": "stream",
          "text": [
            "3417\n",
            "10\n",
            "3065\n",
            "[[8.330864  8.345218  8.330864  8.340456 ]\n",
            " [8.345218  8.345218  8.328451  8.330864 ]\n",
            " [8.338066  8.345218  8.335671  8.34284  ]\n",
            " [8.338066  8.340456  8.328451  8.330864 ]\n",
            " [8.321178  8.328451  8.318742  8.323608 ]\n",
            " [8.318742  8.335671  8.313852  8.330864 ]\n",
            " [8.323608  8.33327   8.323608  8.323608 ]\n",
            " [8.328451  8.330864  8.3163    8.321178 ]\n",
            " [8.323608  8.328451  8.3163    8.3163   ]\n",
            " [8.3113985 8.313852  8.301521  8.304    ]]\n",
            "[[8.345218  8.345218  8.328451  8.330864 ]\n",
            " [8.338066  8.345218  8.335671  8.34284  ]\n",
            " [8.338066  8.340456  8.328451  8.330864 ]\n",
            " [8.321178  8.328451  8.318742  8.323608 ]\n",
            " [8.318742  8.335671  8.313852  8.330864 ]\n",
            " [8.323608  8.33327   8.323608  8.323608 ]\n",
            " [8.328451  8.330864  8.3163    8.321178 ]\n",
            " [8.323608  8.328451  8.3163    8.3163   ]\n",
            " [8.3113985 8.313852  8.301521  8.304    ]\n",
            " [8.304     8.313852  8.301521  8.308938 ]]\n",
            "[[8.338066  8.345218  8.335671  8.34284  ]\n",
            " [8.338066  8.340456  8.328451  8.330864 ]\n",
            " [8.321178  8.328451  8.318742  8.323608 ]\n",
            " [8.318742  8.335671  8.313852  8.330864 ]\n",
            " [8.323608  8.33327   8.323608  8.323608 ]\n",
            " [8.328451  8.330864  8.3163    8.321178 ]\n",
            " [8.323608  8.328451  8.3163    8.3163   ]\n",
            " [8.3113985 8.313852  8.301521  8.304    ]\n",
            " [8.304     8.313852  8.301521  8.308938 ]\n",
            " [8.306472  8.308938  8.301521  8.304    ]]\n",
            "=================\n",
            "[[8.304]]\n",
            "[[8.306472]]\n",
            "=================\n",
            "10\n",
            "341\n",
            "[[8.72972  8.732788 8.727616 8.730044]\n",
            " [8.728102 8.744488 8.727454 8.740336]\n",
            " [8.734239 8.741936 8.73311  8.736811]\n",
            " [8.735204 8.744169 8.734882 8.737774]\n",
            " [8.738575 8.749574 8.735525 8.748305]\n",
            " [8.753056 8.755737 8.74767  8.748305]\n",
            " [8.75005  8.750366 8.732627 8.736329]\n",
            " [8.729882 8.742414 8.728426 8.734882]\n",
            " [8.748305 8.757784 8.747034 8.754477]\n",
            " [8.75621  8.757784 8.75005  8.754003]]\n",
            "[[8.728102  8.744488  8.727454  8.740336 ]\n",
            " [8.734239  8.741936  8.73311   8.736811 ]\n",
            " [8.735204  8.744169  8.734882  8.737774 ]\n",
            " [8.738575  8.749574  8.735525  8.748305 ]\n",
            " [8.753056  8.755737  8.74767   8.748305 ]\n",
            " [8.75005   8.750366  8.732627  8.736329 ]\n",
            " [8.729882  8.742414  8.728426  8.734882 ]\n",
            " [8.748305  8.757784  8.747034  8.754477 ]\n",
            " [8.75621   8.757784  8.75005   8.754003 ]\n",
            " [8.745762  8.7489395 8.73311   8.738094 ]]\n",
            "[[8.734239  8.741936  8.73311   8.736811 ]\n",
            " [8.735204  8.744169  8.734882  8.737774 ]\n",
            " [8.738575  8.749574  8.735525  8.748305 ]\n",
            " [8.753056  8.755737  8.74767   8.748305 ]\n",
            " [8.75005   8.750366  8.732627  8.736329 ]\n",
            " [8.729882  8.742414  8.728426  8.734882 ]\n",
            " [8.748305  8.757784  8.747034  8.754477 ]\n",
            " [8.75621   8.757784  8.75005   8.754003 ]\n",
            " [8.745762  8.7489395 8.73311   8.738094 ]\n",
            " [8.742255  8.747193  8.740336  8.7443285]]\n",
            "=================\n",
            "[[8.745762]]\n",
            "[[8.742255]]\n"
          ],
          "name": "stdout"
        }
      ]
    },
    {
      "cell_type": "code",
      "metadata": {
        "id": "BKHP_dr7Hz_r",
        "colab_type": "code",
        "colab": {
          "base_uri": "https://localhost:8080/",
          "height": 85
        },
        "outputId": "b0ae6ddb-57ad-4216-943f-5dce7907d743"
      },
      "source": [
        "print(X_train.shape)\n",
        "print(y_train.shape)\n",
        "\n",
        "print(X_test.shape)\n",
        "print(y_test.shape)\n"
      ],
      "execution_count": 28,
      "outputs": [
        {
          "output_type": "stream",
          "text": [
            "(3065, 10, 4)\n",
            "(3065, 1, 1)\n",
            "(341, 10, 4)\n",
            "(341, 1, 1)\n"
          ],
          "name": "stdout"
        }
      ]
    },
    {
      "cell_type": "markdown",
      "metadata": {
        "id": "bX6LPWt6RZXq",
        "colab_type": "text"
      },
      "source": [
        "### dataloader メソッドで、tensorに変更してくれるから必要なし"
      ]
    },
    {
      "cell_type": "code",
      "metadata": {
        "id": "RggK0UmAkALE",
        "colab_type": "code",
        "colab": {
          "base_uri": "https://localhost:8080/",
          "height": 34
        },
        "outputId": "69f34392-20f8-4299-eac9-fc0ece569d71"
      },
      "source": [
        "\"\"\"\n",
        "X_train = torch.tensor(X_train)\n",
        "y_train = torch.tensor(y_train)\n",
        "\n",
        "X_test = torch.tensor(X_test)\n",
        "y_test = torch.tensor(y_test)\n",
        "\"\"\""
      ],
      "execution_count": 29,
      "outputs": [
        {
          "output_type": "execute_result",
          "data": {
            "text/plain": [
              "'\\nX_train = torch.tensor(X_train)\\ny_train = torch.tensor(y_train)\\n\\nX_test = torch.tensor(X_test)\\ny_test = torch.tensor(y_test)\\n'"
            ]
          },
          "metadata": {
            "tags": []
          },
          "execution_count": 29
        }
      ]
    },
    {
      "cell_type": "markdown",
      "metadata": {
        "id": "JNe8yTqekALH",
        "colab_type": "text"
      },
      "source": [
        "## Dataを組むまでの流れ\n",
        "1. Datasetクラスを作成する \n",
        "    1. 入力データと正解データにわける tensorにすること pd->np->tensorに変換する必要がある\n",
        "    1. \\__len__と\\__getitem__を用意すること\n",
        "1. Dataloaderを準備  \n",
        "Datasetクラスで作ったやつをinputするだけなので難易度は低い\n",
        "    "
      ]
    },
    {
      "cell_type": "markdown",
      "metadata": {
        "id": "9RAc3k6_kALI",
        "colab_type": "text"
      },
      "source": [
        " ### datasetクラスを作成する"
      ]
    },
    {
      "cell_type": "code",
      "metadata": {
        "id": "W0i-tzkkkALI",
        "colab_type": "code",
        "colab": {}
      },
      "source": [
        "class Dataset(torch.utils.data.Dataset):\n",
        "    def __init__(self,  X , y , mode='train' ,transform = None):\n",
        "        self.data = X\n",
        "        self.label = y\n",
        "        self.num = len(X)\n",
        "        self.mode= mode\n",
        "        self.transform = transform\n",
        "       \n",
        "    \n",
        "    def __len__(self):                         ###データの大きさをreturn するlenメソッドを必ず作成する必要がある\n",
        "        return self.num\n",
        "    \n",
        "    def __getitem__(self, idx):           ###正解データと入力データが対となるようなgetitemメソッドを必ず作成する必要がある\n",
        "        \n",
        "        out_data = self.data[idx]\n",
        "        out_label =  self.label[idx]\n",
        "        \n",
        "        return out_data, out_label\n",
        "        "
      ],
      "execution_count": 30,
      "outputs": []
    },
    {
      "cell_type": "markdown",
      "metadata": {
        "id": "rR62zoxqkALL",
        "colab_type": "text"
      },
      "source": [
        "### XとyをDatasetクラスを継承させて作った自作クラスにinput"
      ]
    },
    {
      "cell_type": "code",
      "metadata": {
        "id": "kAZCaxtCkALM",
        "colab_type": "code",
        "colab": {}
      },
      "source": [
        "trainset = Dataset( X_train , y_train )"
      ],
      "execution_count": 31,
      "outputs": []
    },
    {
      "cell_type": "code",
      "metadata": {
        "id": "-gC5qcG7IdA1",
        "colab_type": "code",
        "colab": {
          "base_uri": "https://localhost:8080/",
          "height": 34
        },
        "outputId": "266f7350-c8b9-49a9-8e36-a499ea7183d2"
      },
      "source": [
        "#trainset.shape\n",
        "X_train.shape"
      ],
      "execution_count": 32,
      "outputs": [
        {
          "output_type": "execute_result",
          "data": {
            "text/plain": [
              "(3065, 10, 4)"
            ]
          },
          "metadata": {
            "tags": []
          },
          "execution_count": 32
        }
      ]
    },
    {
      "cell_type": "code",
      "metadata": {
        "id": "K_P-EHNRkALP",
        "colab_type": "code",
        "colab": {}
      },
      "source": [
        "dataloader = torch.utils.data.DataLoader(dataset=trainset, batch_size = 32 , shuffle=True)"
      ],
      "execution_count": 33,
      "outputs": []
    },
    {
      "cell_type": "markdown",
      "metadata": {
        "id": "ZJ11_PDtkALR",
        "colab_type": "text"
      },
      "source": [
        "### 中身の確認\n",
        "### dataloaderを使用したとしてもshapeは、(バッチ、timestep、説明変数次元)の順になる\n",
        "dataloaderを使用すると、勝手にnumpy型からtorch型に変更されている。"
      ]
    },
    {
      "cell_type": "code",
      "metadata": {
        "id": "BqZq7WQ6kALS",
        "colab_type": "code",
        "colab": {}
      },
      "source": [
        "dataiter = iter(dataloader)\n",
        "\n",
        "X, labal = dataiter.next()"
      ],
      "execution_count": 34,
      "outputs": []
    },
    {
      "cell_type": "code",
      "metadata": {
        "id": "wSSJqtRmkALU",
        "colab_type": "code",
        "colab": {
          "base_uri": "https://localhost:8080/",
          "height": 68
        },
        "outputId": "3e1c8a00-f892-409c-9fd4-eb46cdd3ccc5"
      },
      "source": [
        "print(X.shape)\n",
        "print(len(X_train))\n",
        "print(len(y_train))"
      ],
      "execution_count": 35,
      "outputs": [
        {
          "output_type": "stream",
          "text": [
            "torch.Size([32, 10, 4])\n",
            "3065\n",
            "3065\n"
          ],
          "name": "stdout"
        }
      ]
    },
    {
      "cell_type": "markdown",
      "metadata": {
        "id": "x39Y_i0TkALe",
        "colab_type": "text"
      },
      "source": [
        "# モデルの構築\n",
        "* input 層\n",
        "* middle 層\n",
        "* output 層"
      ]
    },
    {
      "cell_type": "code",
      "metadata": {
        "id": "loNbyOFrkALf",
        "colab_type": "code",
        "colab": {}
      },
      "source": [
        "import torch\n",
        "import torch.nn as nn\n",
        "\n",
        "\n",
        "class Predictor(nn.Module):\n",
        "    def __init__(self, inputDim, hiddenDim, outputDim):\n",
        "        super(Predictor, self).__init__()\n",
        "        \n",
        "        self.lstm = nn.LSTM(input_size = inputDim,\n",
        "                            hidden_size = hiddenDim,\n",
        "                            batch_first = True)\n",
        "                           \n",
        "        self.lstm_output_layer = nn.Linear(hiddenDim, outputDim)\n",
        "        #self.sigmoid_out = nn.Linear(outputDim, 4)    # labelは one hotベクトルなので outputを4クラスに分けられるようにする\n",
        "        #self.softmax = nn.LogSoftmax(dim=1)\n",
        "    \n",
        "    def forward(self, inputs, hidden0=None):\n",
        "        #print(inputs) 　　　　# このinputsには1batchが入る。サイズが4なら 4 ,50, 1 \n",
        "        output, (hidden, cell) = self.lstm(inputs, hidden0) #LSTM層\n",
        "        output = self.lstm_output_layer(output[:, -1, :]) #全結合層\n",
        "        #output = self.sigmoid_out(output)\n",
        "        return output\n"
      ],
      "execution_count": 36,
      "outputs": []
    },
    {
      "cell_type": "code",
      "metadata": {
        "id": "TncCxqQ5kALh",
        "colab_type": "code",
        "colab": {
          "base_uri": "https://localhost:8080/",
          "height": 85
        },
        "outputId": "5224b0ea-009f-43c3-d55d-1dbc0650109b"
      },
      "source": [
        "#model = Predictor(4,64,4)    # inputの次元は? 株価onlyだから1次元となるのか、それとも時間を5個分とってくるから 5次元？？\n",
        "model = Predictor(input_dim,64,1).to(device)     ### 隠れ層は50で行う必要がある\n",
        "model"
      ],
      "execution_count": 37,
      "outputs": [
        {
          "output_type": "execute_result",
          "data": {
            "text/plain": [
              "Predictor(\n",
              "  (lstm): LSTM(4, 64, batch_first=True)\n",
              "  (lstm_output_layer): Linear(in_features=64, out_features=1, bias=True)\n",
              ")"
            ]
          },
          "metadata": {
            "tags": []
          },
          "execution_count": 37
        }
      ]
    },
    {
      "cell_type": "code",
      "metadata": {
        "id": "eHuV8ECbkALk",
        "colab_type": "code",
        "colab": {}
      },
      "source": [
        "# 損失関数\n",
        "criterion = nn.MSELoss()      ### 損失化関数は二乗誤差を設定。　回帰モデルなのでOK\n",
        "#criterion = nn.CrossEntropyLoss() #ソフトマックス交差エントロピー\n",
        "\n",
        "\n",
        "\n",
        "# 最適化関数\n",
        "optimizer = torch.optim.SGD(model.parameters(), lr=0.001)     ### lrは学習率"
      ],
      "execution_count": 38,
      "outputs": []
    },
    {
      "cell_type": "markdown",
      "metadata": {
        "id": "TASWMi6ckALo",
        "colab_type": "text"
      },
      "source": [
        "# dataloaderを使った学習"
      ]
    },
    {
      "cell_type": "code",
      "metadata": {
        "id": "avAPnenCkALp",
        "colab_type": "code",
        "colab": {
          "base_uri": "https://localhost:8080/",
          "height": 105
        },
        "outputId": "454c5dcf-246b-4e88-946d-3f0412ac9d6c"
      },
      "source": [
        "ls_loss = []\n",
        "model.train()\n",
        "\n",
        "\n",
        "for epoch in range(3):\n",
        "    \n",
        "    model.train()\n",
        "    for i, (X, label) in enumerate(dataloader):\n",
        "\n",
        "\n",
        "        X_torch = X.to(device)\n",
        "        label_torch = label.to(device)\n",
        "\n",
        "\n",
        "\n",
        "        #print(\"X shape \",X_torch.shape)\n",
        "        #print(\"label shape\",label_torch.shape)\n",
        "        #print(\"label\",label_torch)\n",
        "        \n",
        "\n",
        "        #label_torch = label_torch -1  ## なんの意味があるがよくわかっていないが、損失関数を計算するときにこれを入れないとエラーになる\n",
        "                                      ## criterion()にて、 index error Target 4 is out of bounds\n",
        "\n",
        "\n",
        "        # 勾配の初期化\n",
        "        optimizer.zero_grad()     \n",
        "        \n",
        "        y_pred = model( X_torch )          ### ニューラルネットで計算したoutputを保存\n",
        "        \n",
        "        #print(\"y_pred : \",y_pred)\n",
        "        #print(\"y_pred shape: \",y_pred.shape)\n",
        "        #print(\"label_torch\" ,label_torch)\n",
        "        #print(\"label_torch shape\" ,label_torch.shape)\n",
        "\n",
        "        loss = criterion(y_pred, label_torch) ###教師データとoutputから損失関数を計算\n",
        "        #break\n",
        "\n",
        "        # バッチごとのロスを記録する\n",
        "        ls_loss.append(loss)\n",
        "        \n",
        "        # 勾配の計算\n",
        "        loss.backward()           ### 損失関数を微分 = 勾配の計算\n",
        "        \n",
        "        # パラメータの更新\n",
        "        optimizer.step()           \n",
        "        \n",
        "        #print('*** by optimizer.step()')\n",
        "    "
      ],
      "execution_count": 39,
      "outputs": [
        {
          "output_type": "stream",
          "text": [
            "/usr/local/lib/python3.6/dist-packages/torch/nn/modules/loss.py:432: UserWarning: Using a target size (torch.Size([32, 1, 1])) that is different to the input size (torch.Size([32, 1])). This will likely lead to incorrect results due to broadcasting. Please ensure they have the same size.\n",
            "  return F.mse_loss(input, target, reduction=self.reduction)\n",
            "/usr/local/lib/python3.6/dist-packages/torch/nn/modules/loss.py:432: UserWarning: Using a target size (torch.Size([25, 1, 1])) that is different to the input size (torch.Size([25, 1])). This will likely lead to incorrect results due to broadcasting. Please ensure they have the same size.\n",
            "  return F.mse_loss(input, target, reduction=self.reduction)\n"
          ],
          "name": "stderr"
        }
      ]
    },
    {
      "cell_type": "markdown",
      "metadata": {
        "id": "RpLr2cdtkALs",
        "colab_type": "text"
      },
      "source": [
        "### ロスの確認 dataloader"
      ]
    },
    {
      "cell_type": "code",
      "metadata": {
        "id": "8yEzoyfNkALs",
        "colab_type": "code",
        "colab": {
          "base_uri": "https://localhost:8080/",
          "height": 281
        },
        "outputId": "c019620f-fe69-4b16-fe20-3dd789a7d957"
      },
      "source": [
        "plt.figure()\n",
        "plt.plot(ls_loss,label=\"loss\")\n",
        "plt.title('Optimization function error') # 最適化関数の誤差\n",
        "plt.legend()\n",
        "plt.grid()"
      ],
      "execution_count": 40,
      "outputs": [
        {
          "output_type": "display_data",
          "data": {
            "image/png": "[encoded data removed]",
            "text/plain": [
              "<Figure size 432x288 with 1 Axes>"
            ]
          },
          "metadata": {
            "tags": [],
            "needs_background": "light"
          }
        }
      ]
    },
    {
      "cell_type": "markdown",
      "metadata": {
        "id": "FiupQO8OkALx",
        "colab_type": "text"
      },
      "source": [
        "## できあがったmodelでテストを行ってみる"
      ]
    },
    {
      "cell_type": "code",
      "metadata": {
        "id": "EoCnpLAUkALx",
        "colab_type": "code",
        "colab": {}
      },
      "source": [
        "testset = Dataset( X_test , y_test )\n",
        "dataloader = torch.utils.data.DataLoader(dataset=testset, batch_size = 1, shuffle=True)"
      ],
      "execution_count": 41,
      "outputs": []
    },
    {
      "cell_type": "code",
      "metadata": {
        "id": "No4-WpTDkALz",
        "colab_type": "code",
        "colab": {}
      },
      "source": [
        "dataiter = iter(dataloader)\n",
        "\n",
        "X, labal = dataiter.next()"
      ],
      "execution_count": 42,
      "outputs": []
    },
    {
      "cell_type": "code",
      "metadata": {
        "id": "iWNJCxT2kAL1",
        "colab_type": "code",
        "colab": {
          "base_uri": "https://localhost:8080/",
          "height": 1000
        },
        "outputId": "c6f71387-ce1a-48f3-8fab-3880d70b70f2"
      },
      "source": [
        "\n",
        "y_testresult = np.array([])\n",
        "com_label = np.array([])\n",
        "model.eval()\n",
        "\n",
        "\n",
        "for i, (X, label) in enumerate(dataloader):\n",
        "\n",
        "    #print(\"@@@@@@@@@@@@\", i)\n",
        "    \n",
        "    #print(X)\n",
        "    optimizer.zero_grad()\n",
        "    \n",
        "    y = model(X)\n",
        "    l = label\n",
        "\n",
        "    #print(\"label\",label)\n",
        "    #print(y)\n",
        "\n",
        "    y = y.to('cpu').detach().numpy().copy()\n",
        "    l = l.to('cpu').detach().numpy().copy()\n",
        "\n",
        "    y_testresult = np.append(y_testresult,y)\n",
        "    com_label = np.append(com_label,l)\n"
      ],
      "execution_count": 54,
      "outputs": [
        {
          "output_type": "stream",
          "text": [
            "label tensor([[[8.8530]]])\n",
            "tensor([[8.5705]], grad_fn=<AddmmBackward>)\n",
            "label tensor([[[8.8298]]])\n",
            "tensor([[8.5659]], grad_fn=<AddmmBackward>)\n",
            "label tensor([[[8.8609]]])\n",
            "tensor([[8.5721]], grad_fn=<AddmmBackward>)\n",
            "label tensor([[[8.7655]]])\n",
            "tensor([[8.5539]], grad_fn=<AddmmBackward>)\n",
            "label tensor([[[8.9310]]])\n",
            "tensor([[8.5885]], grad_fn=<AddmmBackward>)\n",
            "label tensor([[[8.8518]]])\n",
            "tensor([[8.5733]], grad_fn=<AddmmBackward>)\n",
            "label tensor([[[8.9137]]])\n",
            "tensor([[8.5841]], grad_fn=<AddmmBackward>)\n",
            "label tensor([[[8.8809]]])\n",
            "tensor([[8.5780]], grad_fn=<AddmmBackward>)\n",
            "label tensor([[[8.8295]]])\n",
            "tensor([[8.5675]], grad_fn=<AddmmBackward>)\n",
            "label tensor([[[8.9050]]])\n",
            "tensor([[8.5813]], grad_fn=<AddmmBackward>)\n",
            "label tensor([[[8.8378]]])\n",
            "tensor([[8.5657]], grad_fn=<AddmmBackward>)\n",
            "label tensor([[[8.8173]]])\n",
            "tensor([[8.5655]], grad_fn=<AddmmBackward>)\n",
            "label tensor([[[8.9456]]])\n",
            "tensor([[8.5892]], grad_fn=<AddmmBackward>)\n",
            "label tensor([[[8.7811]]])\n",
            "tensor([[8.5582]], grad_fn=<AddmmBackward>)\n",
            "label tensor([[[8.8188]]])\n",
            "tensor([[8.5658]], grad_fn=<AddmmBackward>)\n",
            "label tensor([[[8.8674]]])\n",
            "tensor([[8.5727]], grad_fn=<AddmmBackward>)\n",
            "label tensor([[[8.8449]]])\n",
            "tensor([[8.5686]], grad_fn=<AddmmBackward>)\n",
            "label tensor([[[8.8340]]])\n",
            "tensor([[8.5658]], grad_fn=<AddmmBackward>)\n",
            "label tensor([[[8.8606]]])\n",
            "tensor([[8.5721]], grad_fn=<AddmmBackward>)\n",
            "label tensor([[[8.8921]]])\n",
            "tensor([[8.5777]], grad_fn=<AddmmBackward>)\n",
            "label tensor([[[8.8427]]])\n",
            "tensor([[8.5708]], grad_fn=<AddmmBackward>)\n",
            "label tensor([[[8.9160]]])\n",
            "tensor([[8.5823]], grad_fn=<AddmmBackward>)\n",
            "label tensor([[[8.8333]]])\n",
            "tensor([[8.5676]], grad_fn=<AddmmBackward>)\n",
            "label tensor([[[8.7266]]])\n",
            "tensor([[8.5464]], grad_fn=<AddmmBackward>)\n",
            "label tensor([[[8.8608]]])\n",
            "tensor([[8.5725]], grad_fn=<AddmmBackward>)\n",
            "label tensor([[[8.8621]]])\n",
            "tensor([[8.5750]], grad_fn=<AddmmBackward>)\n",
            "label tensor([[[8.8247]]])\n",
            "tensor([[8.5683]], grad_fn=<AddmmBackward>)\n",
            "label tensor([[[8.8893]]])\n",
            "tensor([[8.5787]], grad_fn=<AddmmBackward>)\n",
            "label tensor([[[8.9018]]])\n",
            "tensor([[8.5808]], grad_fn=<AddmmBackward>)\n",
            "label tensor([[[8.8664]]])\n",
            "tensor([[8.5742]], grad_fn=<AddmmBackward>)\n",
            "label tensor([[[8.7641]]])\n",
            "tensor([[8.5518]], grad_fn=<AddmmBackward>)\n",
            "label tensor([[[8.8530]]])\n",
            "tensor([[8.5705]], grad_fn=<AddmmBackward>)\n",
            "label tensor([[[8.8393]]])\n",
            "tensor([[8.5673]], grad_fn=<AddmmBackward>)\n",
            "label tensor([[[8.9260]]])\n",
            "tensor([[8.5869]], grad_fn=<AddmmBackward>)\n",
            "label tensor([[[8.7119]]])\n",
            "tensor([[8.5448]], grad_fn=<AddmmBackward>)\n",
            "label tensor([[[8.8811]]])\n",
            "tensor([[8.5751]], grad_fn=<AddmmBackward>)\n",
            "label tensor([[[8.7991]]])\n",
            "tensor([[8.5580]], grad_fn=<AddmmBackward>)\n",
            "label tensor([[[8.9359]]])\n",
            "tensor([[8.5882]], grad_fn=<AddmmBackward>)\n",
            "label tensor([[[8.8451]]])\n",
            "tensor([[8.5709]], grad_fn=<AddmmBackward>)\n",
            "label tensor([[[8.9160]]])\n",
            "tensor([[8.5789]], grad_fn=<AddmmBackward>)\n",
            "label tensor([[[8.8203]]])\n",
            "tensor([[8.5673]], grad_fn=<AddmmBackward>)\n",
            "label tensor([[[8.7935]]])\n",
            "tensor([[8.5606]], grad_fn=<AddmmBackward>)\n",
            "label tensor([[[8.7631]]])\n",
            "tensor([[8.5463]], grad_fn=<AddmmBackward>)\n",
            "label tensor([[[8.8629]]])\n",
            "tensor([[8.5718]], grad_fn=<AddmmBackward>)\n",
            "label tensor([[[8.9122]]])\n",
            "tensor([[8.5839]], grad_fn=<AddmmBackward>)\n",
            "label tensor([[[8.9020]]])\n",
            "tensor([[8.5811]], grad_fn=<AddmmBackward>)\n",
            "label tensor([[[8.9359]]])\n",
            "tensor([[8.5803]], grad_fn=<AddmmBackward>)\n",
            "label tensor([[[8.7297]]])\n",
            "tensor([[8.5447]], grad_fn=<AddmmBackward>)\n",
            "label tensor([[[8.8219]]])\n",
            "tensor([[8.5642]], grad_fn=<AddmmBackward>)\n",
            "label tensor([[[8.8670]]])\n",
            "tensor([[8.5735]], grad_fn=<AddmmBackward>)\n",
            "label tensor([[[8.8247]]])\n",
            "tensor([[8.5645]], grad_fn=<AddmmBackward>)\n",
            "label tensor([[[8.8438]]])\n",
            "tensor([[8.5708]], grad_fn=<AddmmBackward>)\n",
            "label tensor([[[8.9053]]])\n",
            "tensor([[8.5816]], grad_fn=<AddmmBackward>)\n",
            "label tensor([[[8.9384]]])\n",
            "tensor([[8.5885]], grad_fn=<AddmmBackward>)\n",
            "label tensor([[[8.7779]]])\n",
            "tensor([[8.5637]], grad_fn=<AddmmBackward>)\n",
            "label tensor([[[8.7423]]])\n",
            "tensor([[8.5491]], grad_fn=<AddmmBackward>)\n",
            "label tensor([[[8.8465]]])\n",
            "tensor([[8.5735]], grad_fn=<AddmmBackward>)\n",
            "label tensor([[[8.8609]]])\n",
            "tensor([[8.5760]], grad_fn=<AddmmBackward>)\n",
            "label tensor([[[8.7227]]])\n",
            "tensor([[8.5451]], grad_fn=<AddmmBackward>)\n",
            "label tensor([[[8.8174]]])\n",
            "tensor([[8.5670]], grad_fn=<AddmmBackward>)\n",
            "label tensor([[[8.9355]]])\n",
            "tensor([[8.5870]], grad_fn=<AddmmBackward>)\n",
            "label tensor([[[8.9391]]])\n",
            "tensor([[8.5891]], grad_fn=<AddmmBackward>)\n",
            "label tensor([[[8.7832]]])\n",
            "tensor([[8.5566]], grad_fn=<AddmmBackward>)\n",
            "label tensor([[[8.7926]]])\n",
            "tensor([[8.5596]], grad_fn=<AddmmBackward>)\n",
            "label tensor([[[8.7849]]])\n",
            "tensor([[8.5594]], grad_fn=<AddmmBackward>)\n",
            "label tensor([[[8.9619]]])\n",
            "tensor([[8.5920]], grad_fn=<AddmmBackward>)\n",
            "label tensor([[[8.7379]]])\n",
            "tensor([[8.5471]], grad_fn=<AddmmBackward>)\n",
            "label tensor([[[8.8342]]])\n",
            "tensor([[8.5691]], grad_fn=<AddmmBackward>)\n",
            "label tensor([[[8.7315]]])\n",
            "tensor([[8.5477]], grad_fn=<AddmmBackward>)\n",
            "label tensor([[[8.8853]]])\n",
            "tensor([[8.5872]], grad_fn=<AddmmBackward>)\n",
            "label tensor([[[8.8938]]])\n",
            "tensor([[8.5797]], grad_fn=<AddmmBackward>)\n",
            "label tensor([[[8.8094]]])\n",
            "tensor([[8.5633]], grad_fn=<AddmmBackward>)\n",
            "label tensor([[[8.9358]]])\n",
            "tensor([[8.5883]], grad_fn=<AddmmBackward>)\n",
            "label tensor([[[8.8642]]])\n",
            "tensor([[8.5741]], grad_fn=<AddmmBackward>)\n",
            "label tensor([[[8.8067]]])\n",
            "tensor([[8.5626]], grad_fn=<AddmmBackward>)\n",
            "label tensor([[[8.8888]]])\n",
            "tensor([[8.5813]], grad_fn=<AddmmBackward>)\n",
            "label tensor([[[8.8130]]])\n",
            "tensor([[8.5619]], grad_fn=<AddmmBackward>)\n",
            "label tensor([[[8.8336]]])\n",
            "tensor([[8.5665]], grad_fn=<AddmmBackward>)\n",
            "label tensor([[[8.7458]]])\n",
            "tensor([[8.5513]], grad_fn=<AddmmBackward>)\n",
            "label tensor([[[8.8173]]])\n",
            "tensor([[8.5641]], grad_fn=<AddmmBackward>)\n",
            "label tensor([[[8.9165]]])\n",
            "tensor([[8.5847]], grad_fn=<AddmmBackward>)\n",
            "label tensor([[[8.7586]]])\n",
            "tensor([[8.5531]], grad_fn=<AddmmBackward>)\n",
            "label tensor([[[8.8232]]])\n",
            "tensor([[8.5651]], grad_fn=<AddmmBackward>)\n",
            "label tensor([[[8.8396]]])\n",
            "tensor([[8.5702]], grad_fn=<AddmmBackward>)\n",
            "label tensor([[[8.8103]]])\n",
            "tensor([[8.5651]], grad_fn=<AddmmBackward>)\n",
            "label tensor([[[8.8596]]])\n",
            "tensor([[8.5723]], grad_fn=<AddmmBackward>)\n",
            "label tensor([[[8.8349]]])\n",
            "tensor([[8.5699]], grad_fn=<AddmmBackward>)\n",
            "label tensor([[[8.9196]]])\n",
            "tensor([[8.5854]], grad_fn=<AddmmBackward>)\n",
            "label tensor([[[8.8387]]])\n",
            "tensor([[8.5696]], grad_fn=<AddmmBackward>)\n",
            "label tensor([[[8.8683]]])\n",
            "tensor([[8.5758]], grad_fn=<AddmmBackward>)\n",
            "label tensor([[[8.7208]]])\n",
            "tensor([[8.5473]], grad_fn=<AddmmBackward>)\n",
            "label tensor([[[8.8614]]])\n",
            "tensor([[8.5743]], grad_fn=<AddmmBackward>)\n",
            "label tensor([[[8.9253]]])\n",
            "tensor([[8.5878]], grad_fn=<AddmmBackward>)\n",
            "label tensor([[[8.8364]]])\n",
            "tensor([[8.5687]], grad_fn=<AddmmBackward>)\n",
            "label tensor([[[8.7717]]])\n",
            "tensor([[8.5564]], grad_fn=<AddmmBackward>)\n",
            "label tensor([[[8.7283]]])\n",
            "tensor([[8.5570]], grad_fn=<AddmmBackward>)\n",
            "label tensor([[[8.8106]]])\n",
            "tensor([[8.5667]], grad_fn=<AddmmBackward>)\n",
            "label tensor([[[8.8192]]])\n",
            "tensor([[8.5667]], grad_fn=<AddmmBackward>)\n",
            "label tensor([[[8.8498]]])\n",
            "tensor([[8.5738]], grad_fn=<AddmmBackward>)\n",
            "label tensor([[[8.8048]]])\n",
            "tensor([[8.5607]], grad_fn=<AddmmBackward>)\n",
            "label tensor([[[8.8329]]])\n",
            "tensor([[8.5735]], grad_fn=<AddmmBackward>)\n",
            "label tensor([[[8.8508]]])\n",
            "tensor([[8.5699]], grad_fn=<AddmmBackward>)\n",
            "label tensor([[[8.8742]]])\n",
            "tensor([[8.5753]], grad_fn=<AddmmBackward>)\n",
            "label tensor([[[8.9333]]])\n",
            "tensor([[8.5914]], grad_fn=<AddmmBackward>)\n",
            "label tensor([[[8.9057]]])\n",
            "tensor([[8.5820]], grad_fn=<AddmmBackward>)\n",
            "label tensor([[[8.8465]]])\n",
            "tensor([[8.5708]], grad_fn=<AddmmBackward>)\n",
            "label tensor([[[8.8888]]])\n",
            "tensor([[8.5765]], grad_fn=<AddmmBackward>)\n",
            "label tensor([[[8.8210]]])\n",
            "tensor([[8.5657]], grad_fn=<AddmmBackward>)\n",
            "label tensor([[[8.8128]]])\n",
            "tensor([[8.5650]], grad_fn=<AddmmBackward>)\n",
            "label tensor([[[8.7912]]])\n",
            "tensor([[8.5627]], grad_fn=<AddmmBackward>)\n",
            "label tensor([[[8.8813]]])\n",
            "tensor([[8.5767]], grad_fn=<AddmmBackward>)\n",
            "label tensor([[[8.8918]]])\n",
            "tensor([[8.5796]], grad_fn=<AddmmBackward>)\n",
            "label tensor([[[8.8980]]])\n",
            "tensor([[8.5801]], grad_fn=<AddmmBackward>)\n",
            "label tensor([[[8.8217]]])\n",
            "tensor([[8.5652]], grad_fn=<AddmmBackward>)\n",
            "label tensor([[[8.9094]]])\n",
            "tensor([[8.5791]], grad_fn=<AddmmBackward>)\n",
            "label tensor([[[8.8814]]])\n",
            "tensor([[8.5809]], grad_fn=<AddmmBackward>)\n",
            "label tensor([[[8.8707]]])\n",
            "tensor([[8.5772]], grad_fn=<AddmmBackward>)\n",
            "label tensor([[[8.9345]]])\n",
            "tensor([[8.5862]], grad_fn=<AddmmBackward>)\n",
            "label tensor([[[8.9490]]])\n",
            "tensor([[8.5909]], grad_fn=<AddmmBackward>)\n",
            "label tensor([[[8.8574]]])\n",
            "tensor([[8.5746]], grad_fn=<AddmmBackward>)\n",
            "label tensor([[[8.8927]]])\n",
            "tensor([[8.5789]], grad_fn=<AddmmBackward>)\n",
            "label tensor([[[8.8099]]])\n",
            "tensor([[8.5675]], grad_fn=<AddmmBackward>)\n",
            "label tensor([[[8.9227]]])\n",
            "tensor([[8.5871]], grad_fn=<AddmmBackward>)\n",
            "label tensor([[[8.8465]]])\n",
            "tensor([[8.5699]], grad_fn=<AddmmBackward>)\n",
            "label tensor([[[8.8465]]])\n",
            "tensor([[8.5733]], grad_fn=<AddmmBackward>)\n",
            "label tensor([[[8.7895]]])\n",
            "tensor([[8.5609]], grad_fn=<AddmmBackward>)\n",
            "label tensor([[[8.8438]]])\n",
            "tensor([[8.5671]], grad_fn=<AddmmBackward>)\n",
            "label tensor([[[8.8461]]])\n",
            "tensor([[8.5688]], grad_fn=<AddmmBackward>)\n",
            "label tensor([[[8.8579]]])\n",
            "tensor([[8.5700]], grad_fn=<AddmmBackward>)\n",
            "label tensor([[[8.9001]]])\n",
            "tensor([[8.5862]], grad_fn=<AddmmBackward>)\n",
            "label tensor([[[8.7270]]])\n",
            "tensor([[8.5467]], grad_fn=<AddmmBackward>)\n",
            "label tensor([[[8.8646]]])\n",
            "tensor([[8.5731]], grad_fn=<AddmmBackward>)\n",
            "label tensor([[[8.8760]]])\n",
            "tensor([[8.5816]], grad_fn=<AddmmBackward>)\n",
            "label tensor([[[8.8729]]])\n",
            "tensor([[8.5739]], grad_fn=<AddmmBackward>)\n",
            "label tensor([[[8.8247]]])\n",
            "tensor([[8.5659]], grad_fn=<AddmmBackward>)\n",
            "label tensor([[[8.8655]]])\n",
            "tensor([[8.5739]], grad_fn=<AddmmBackward>)\n",
            "label tensor([[[8.9213]]])\n",
            "tensor([[8.5787]], grad_fn=<AddmmBackward>)\n",
            "label tensor([[[8.8535]]])\n",
            "tensor([[8.5737]], grad_fn=<AddmmBackward>)\n",
            "label tensor([[[8.9306]]])\n",
            "tensor([[8.5897]], grad_fn=<AddmmBackward>)\n",
            "label tensor([[[8.8537]]])\n",
            "tensor([[8.5708]], grad_fn=<AddmmBackward>)\n",
            "label tensor([[[8.9349]]])\n",
            "tensor([[8.5858]], grad_fn=<AddmmBackward>)\n",
            "label tensor([[[8.9000]]])\n",
            "tensor([[8.5846]], grad_fn=<AddmmBackward>)\n",
            "label tensor([[[8.8664]]])\n",
            "tensor([[8.5738]], grad_fn=<AddmmBackward>)\n",
            "label tensor([[[8.8664]]])\n",
            "tensor([[8.5739]], grad_fn=<AddmmBackward>)\n",
            "label tensor([[[8.8410]]])\n",
            "tensor([[8.5692]], grad_fn=<AddmmBackward>)\n",
            "label tensor([[[8.8167]]])\n",
            "tensor([[8.5643]], grad_fn=<AddmmBackward>)\n",
            "label tensor([[[8.7666]]])\n",
            "tensor([[8.5533]], grad_fn=<AddmmBackward>)\n",
            "label tensor([[[8.8075]]])\n",
            "tensor([[8.5593]], grad_fn=<AddmmBackward>)\n",
            "label tensor([[[8.8534]]])\n",
            "tensor([[8.5703]], grad_fn=<AddmmBackward>)\n",
            "label tensor([[[8.8770]]])\n",
            "tensor([[8.5747]], grad_fn=<AddmmBackward>)\n",
            "label tensor([[[8.9261]]])\n",
            "tensor([[8.5854]], grad_fn=<AddmmBackward>)\n",
            "label tensor([[[8.7307]]])\n",
            "tensor([[8.5493]], grad_fn=<AddmmBackward>)\n",
            "label tensor([[[8.9300]]])\n",
            "tensor([[8.5876]], grad_fn=<AddmmBackward>)\n",
            "label tensor([[[8.9267]]])\n",
            "tensor([[8.5831]], grad_fn=<AddmmBackward>)\n",
            "label tensor([[[8.8663]]])\n",
            "tensor([[8.5780]], grad_fn=<AddmmBackward>)\n",
            "label tensor([[[8.8875]]])\n",
            "tensor([[8.5798]], grad_fn=<AddmmBackward>)\n",
            "label tensor([[[8.8608]]])\n",
            "tensor([[8.5729]], grad_fn=<AddmmBackward>)\n",
            "label tensor([[[8.9200]]])\n",
            "tensor([[8.5836]], grad_fn=<AddmmBackward>)\n",
            "label tensor([[[8.9300]]])\n",
            "tensor([[8.5867]], grad_fn=<AddmmBackward>)\n",
            "label tensor([[[8.8279]]])\n",
            "tensor([[8.5688]], grad_fn=<AddmmBackward>)\n",
            "label tensor([[[8.8889]]])\n",
            "tensor([[8.5798]], grad_fn=<AddmmBackward>)\n",
            "label tensor([[[8.7956]]])\n",
            "tensor([[8.5595]], grad_fn=<AddmmBackward>)\n",
            "label tensor([[[8.9322]]])\n",
            "tensor([[8.5886]], grad_fn=<AddmmBackward>)\n",
            "label tensor([[[8.8763]]])\n",
            "tensor([[8.5765]], grad_fn=<AddmmBackward>)\n",
            "label tensor([[[8.9227]]])\n",
            "tensor([[8.5872]], grad_fn=<AddmmBackward>)\n",
            "label tensor([[[8.8436]]])\n",
            "tensor([[8.5692]], grad_fn=<AddmmBackward>)\n",
            "label tensor([[[8.7994]]])\n",
            "tensor([[8.5573]], grad_fn=<AddmmBackward>)\n",
            "label tensor([[[8.8016]]])\n",
            "tensor([[8.5603]], grad_fn=<AddmmBackward>)\n",
            "label tensor([[[8.9166]]])\n",
            "tensor([[8.5860]], grad_fn=<AddmmBackward>)\n",
            "label tensor([[[8.8916]]])\n",
            "tensor([[8.5847]], grad_fn=<AddmmBackward>)\n",
            "label tensor([[[8.9240]]])\n",
            "tensor([[8.5850]], grad_fn=<AddmmBackward>)\n",
            "label tensor([[[8.9223]]])\n",
            "tensor([[8.5863]], grad_fn=<AddmmBackward>)\n",
            "label tensor([[[8.8861]]])\n",
            "tensor([[8.5794]], grad_fn=<AddmmBackward>)\n",
            "label tensor([[[8.8173]]])\n",
            "tensor([[8.5642]], grad_fn=<AddmmBackward>)\n",
            "label tensor([[[8.8592]]])\n",
            "tensor([[8.5716]], grad_fn=<AddmmBackward>)\n",
            "label tensor([[[8.7963]]])\n",
            "tensor([[8.5632]], grad_fn=<AddmmBackward>)\n",
            "label tensor([[[8.8652]]])\n",
            "tensor([[8.5742]], grad_fn=<AddmmBackward>)\n",
            "label tensor([[[8.9216]]])\n",
            "tensor([[8.5873]], grad_fn=<AddmmBackward>)\n",
            "label tensor([[[8.8195]]])\n",
            "tensor([[8.5654]], grad_fn=<AddmmBackward>)\n",
            "label tensor([[[8.9444]]])\n",
            "tensor([[8.5896]], grad_fn=<AddmmBackward>)\n",
            "label tensor([[[8.8860]]])\n",
            "tensor([[8.5800]], grad_fn=<AddmmBackward>)\n",
            "label tensor([[[8.8301]]])\n",
            "tensor([[8.5667]], grad_fn=<AddmmBackward>)\n",
            "label tensor([[[8.8932]]])\n",
            "tensor([[8.5832]], grad_fn=<AddmmBackward>)\n",
            "label tensor([[[8.8721]]])\n",
            "tensor([[8.5755]], grad_fn=<AddmmBackward>)\n",
            "label tensor([[[8.8579]]])\n",
            "tensor([[8.5739]], grad_fn=<AddmmBackward>)\n",
            "label tensor([[[8.8561]]])\n",
            "tensor([[8.5681]], grad_fn=<AddmmBackward>)\n",
            "label tensor([[[8.8267]]])\n",
            "tensor([[8.5671]], grad_fn=<AddmmBackward>)\n",
            "label tensor([[[8.8722]]])\n",
            "tensor([[8.5756]], grad_fn=<AddmmBackward>)\n",
            "label tensor([[[8.8846]]])\n",
            "tensor([[8.5770]], grad_fn=<AddmmBackward>)\n",
            "label tensor([[[8.8820]]])\n",
            "tensor([[8.5774]], grad_fn=<AddmmBackward>)\n",
            "label tensor([[[8.7320]]])\n",
            "tensor([[8.5451]], grad_fn=<AddmmBackward>)\n",
            "label tensor([[[8.7932]]])\n",
            "tensor([[8.5595]], grad_fn=<AddmmBackward>)\n",
            "label tensor([[[8.9358]]])\n",
            "tensor([[8.5903]], grad_fn=<AddmmBackward>)\n",
            "label tensor([[[8.8432]]])\n",
            "tensor([[8.5696]], grad_fn=<AddmmBackward>)\n",
            "label tensor([[[8.7223]]])\n",
            "tensor([[8.5443]], grad_fn=<AddmmBackward>)\n",
            "label tensor([[[8.7854]]])\n",
            "tensor([[8.5666]], grad_fn=<AddmmBackward>)\n",
            "label tensor([[[8.8849]]])\n",
            "tensor([[8.5770]], grad_fn=<AddmmBackward>)\n",
            "label tensor([[[8.8208]]])\n",
            "tensor([[8.5620]], grad_fn=<AddmmBackward>)\n",
            "label tensor([[[8.8567]]])\n",
            "tensor([[8.5758]], grad_fn=<AddmmBackward>)\n",
            "label tensor([[[8.7331]]])\n",
            "tensor([[8.5458]], grad_fn=<AddmmBackward>)\n",
            "label tensor([[[8.7966]]])\n",
            "tensor([[8.5602]], grad_fn=<AddmmBackward>)\n",
            "label tensor([[[8.8594]]])\n",
            "tensor([[8.5743]], grad_fn=<AddmmBackward>)\n",
            "label tensor([[[8.8671]]])\n",
            "tensor([[8.5741]], grad_fn=<AddmmBackward>)\n",
            "label tensor([[[8.9022]]])\n",
            "tensor([[8.5826]], grad_fn=<AddmmBackward>)\n",
            "label tensor([[[8.7919]]])\n",
            "tensor([[8.5612]], grad_fn=<AddmmBackward>)\n",
            "label tensor([[[8.8487]]])\n",
            "tensor([[8.5698]], grad_fn=<AddmmBackward>)\n",
            "label tensor([[[8.8422]]])\n",
            "tensor([[8.5699]], grad_fn=<AddmmBackward>)\n",
            "label tensor([[[8.8256]]])\n",
            "tensor([[8.5704]], grad_fn=<AddmmBackward>)\n",
            "label tensor([[[8.8915]]])\n",
            "tensor([[8.5797]], grad_fn=<AddmmBackward>)\n",
            "label tensor([[[8.8711]]])\n",
            "tensor([[8.5747]], grad_fn=<AddmmBackward>)\n",
            "label tensor([[[8.8300]]])\n",
            "tensor([[8.5707]], grad_fn=<AddmmBackward>)\n",
            "label tensor([[[8.7347]]])\n",
            "tensor([[8.5462]], grad_fn=<AddmmBackward>)\n",
            "label tensor([[[8.9490]]])\n",
            "tensor([[8.5914]], grad_fn=<AddmmBackward>)\n",
            "label tensor([[[8.9172]]])\n",
            "tensor([[8.5852]], grad_fn=<AddmmBackward>)\n",
            "label tensor([[[8.8216]]])\n",
            "tensor([[8.5648]], grad_fn=<AddmmBackward>)\n",
            "label tensor([[[8.8436]]])\n",
            "tensor([[8.5681]], grad_fn=<AddmmBackward>)\n",
            "label tensor([[[8.7144]]])\n",
            "tensor([[8.5468]], grad_fn=<AddmmBackward>)\n",
            "label tensor([[[8.9490]]])\n",
            "tensor([[8.5921]], grad_fn=<AddmmBackward>)\n",
            "label tensor([[[8.7221]]])\n",
            "tensor([[8.5448]], grad_fn=<AddmmBackward>)\n",
            "label tensor([[[8.7590]]])\n",
            "tensor([[8.5493]], grad_fn=<AddmmBackward>)\n",
            "label tensor([[[8.8443]]])\n",
            "tensor([[8.5700]], grad_fn=<AddmmBackward>)\n",
            "label tensor([[[8.8070]]])\n",
            "tensor([[8.5653]], grad_fn=<AddmmBackward>)\n",
            "label tensor([[[8.8321]]])\n",
            "tensor([[8.5711]], grad_fn=<AddmmBackward>)\n",
            "label tensor([[[8.8584]]])\n",
            "tensor([[8.5718]], grad_fn=<AddmmBackward>)\n",
            "label tensor([[[8.7997]]])\n",
            "tensor([[8.5618]], grad_fn=<AddmmBackward>)\n",
            "label tensor([[[8.8697]]])\n",
            "tensor([[8.5777]], grad_fn=<AddmmBackward>)\n",
            "label tensor([[[8.8775]]])\n",
            "tensor([[8.5768]], grad_fn=<AddmmBackward>)\n",
            "label tensor([[[8.8608]]])\n",
            "tensor([[8.5780]], grad_fn=<AddmmBackward>)\n",
            "label tensor([[[8.8707]]])\n",
            "tensor([[8.5750]], grad_fn=<AddmmBackward>)\n",
            "label tensor([[[8.8201]]])\n",
            "tensor([[8.5646]], grad_fn=<AddmmBackward>)\n",
            "label tensor([[[8.8721]]])\n",
            "tensor([[8.5726]], grad_fn=<AddmmBackward>)\n",
            "label tensor([[[8.8608]]])\n",
            "tensor([[8.5738]], grad_fn=<AddmmBackward>)\n",
            "label tensor([[[8.8530]]])\n",
            "tensor([[8.5724]], grad_fn=<AddmmBackward>)\n",
            "label tensor([[[8.9322]]])\n",
            "tensor([[8.5851]], grad_fn=<AddmmBackward>)\n",
            "label tensor([[[8.8623]]])\n",
            "tensor([[8.5765]], grad_fn=<AddmmBackward>)\n",
            "label tensor([[[8.8774]]])\n",
            "tensor([[8.5785]], grad_fn=<AddmmBackward>)\n",
            "label tensor([[[8.8742]]])\n",
            "tensor([[8.5769]], grad_fn=<AddmmBackward>)\n",
            "label tensor([[[8.9309]]])\n",
            "tensor([[8.5881]], grad_fn=<AddmmBackward>)\n",
            "label tensor([[[8.9477]]])\n",
            "tensor([[8.5921]], grad_fn=<AddmmBackward>)\n",
            "label tensor([[[8.8131]]])\n",
            "tensor([[8.5608]], grad_fn=<AddmmBackward>)\n",
            "label tensor([[[8.8203]]])\n",
            "tensor([[8.5682]], grad_fn=<AddmmBackward>)\n",
            "label tensor([[[8.8792]]])\n",
            "tensor([[8.5776]], grad_fn=<AddmmBackward>)\n",
            "label tensor([[[8.8439]]])\n",
            "tensor([[8.5693]], grad_fn=<AddmmBackward>)\n",
            "label tensor([[[8.8579]]])\n",
            "tensor([[8.5728]], grad_fn=<AddmmBackward>)\n",
            "label tensor([[[8.8206]]])\n",
            "tensor([[8.5617]], grad_fn=<AddmmBackward>)\n",
            "label tensor([[[8.8433]]])\n",
            "tensor([[8.5679]], grad_fn=<AddmmBackward>)\n",
            "label tensor([[[8.7966]]])\n",
            "tensor([[8.5601]], grad_fn=<AddmmBackward>)\n",
            "label tensor([[[8.9044]]])\n",
            "tensor([[8.5829]], grad_fn=<AddmmBackward>)\n",
            "label tensor([[[8.7904]]])\n",
            "tensor([[8.5612]], grad_fn=<AddmmBackward>)\n",
            "label tensor([[[8.8919]]])\n",
            "tensor([[8.5795]], grad_fn=<AddmmBackward>)\n",
            "label tensor([[[8.8128]]])\n",
            "tensor([[8.5690]], grad_fn=<AddmmBackward>)\n",
            "label tensor([[[8.7948]]])\n",
            "tensor([[8.5545]], grad_fn=<AddmmBackward>)\n",
            "label tensor([[[8.7459]]])\n",
            "tensor([[8.5473]], grad_fn=<AddmmBackward>)\n",
            "label tensor([[[8.9064]]])\n",
            "tensor([[8.5838]], grad_fn=<AddmmBackward>)\n",
            "label tensor([[[8.9154]]])\n",
            "tensor([[8.5855]], grad_fn=<AddmmBackward>)\n",
            "label tensor([[[8.8358]]])\n",
            "tensor([[8.5679]], grad_fn=<AddmmBackward>)\n",
            "label tensor([[[8.7435]]])\n",
            "tensor([[8.5483]], grad_fn=<AddmmBackward>)\n",
            "label tensor([[[8.7735]]])\n",
            "tensor([[8.5554]], grad_fn=<AddmmBackward>)\n",
            "label tensor([[[8.7797]]])\n",
            "tensor([[8.5562]], grad_fn=<AddmmBackward>)\n",
            "label tensor([[[8.8449]]])\n",
            "tensor([[8.5653]], grad_fn=<AddmmBackward>)\n",
            "label tensor([[[8.7947]]])\n",
            "tensor([[8.5628]], grad_fn=<AddmmBackward>)\n",
            "label tensor([[[8.8559]]])\n",
            "tensor([[8.5746]], grad_fn=<AddmmBackward>)\n",
            "label tensor([[[8.8383]]])\n",
            "tensor([[8.5695]], grad_fn=<AddmmBackward>)\n",
            "label tensor([[[8.8565]]])\n",
            "tensor([[8.5727]], grad_fn=<AddmmBackward>)\n",
            "label tensor([[[8.8225]]])\n",
            "tensor([[8.5647]], grad_fn=<AddmmBackward>)\n",
            "label tensor([[[8.8693]]])\n",
            "tensor([[8.5729]], grad_fn=<AddmmBackward>)\n",
            "label tensor([[[8.9092]]])\n",
            "tensor([[8.5840]], grad_fn=<AddmmBackward>)\n",
            "label tensor([[[8.7218]]])\n",
            "tensor([[8.5432]], grad_fn=<AddmmBackward>)\n",
            "label tensor([[[8.8847]]])\n",
            "tensor([[8.5778]], grad_fn=<AddmmBackward>)\n",
            "label tensor([[[8.8259]]])\n",
            "tensor([[8.5682]], grad_fn=<AddmmBackward>)\n",
            "label tensor([[[8.8814]]])\n",
            "tensor([[8.5773]], grad_fn=<AddmmBackward>)\n",
            "label tensor([[[8.8803]]])\n",
            "tensor([[8.5750]], grad_fn=<AddmmBackward>)\n",
            "label tensor([[[8.8386]]])\n",
            "tensor([[8.5667]], grad_fn=<AddmmBackward>)\n",
            "label tensor([[[8.8176]]])\n",
            "tensor([[8.5658]], grad_fn=<AddmmBackward>)\n",
            "label tensor([[[8.8313]]])\n",
            "tensor([[8.5640]], grad_fn=<AddmmBackward>)\n",
            "label tensor([[[8.8542]]])\n",
            "tensor([[8.5726]], grad_fn=<AddmmBackward>)\n",
            "label tensor([[[8.8810]]])\n",
            "tensor([[8.5789]], grad_fn=<AddmmBackward>)\n",
            "label tensor([[[8.7242]]])\n",
            "tensor([[8.5463]], grad_fn=<AddmmBackward>)\n",
            "label tensor([[[8.8370]]])\n",
            "tensor([[8.5722]], grad_fn=<AddmmBackward>)\n",
            "label tensor([[[8.8899]]])\n",
            "tensor([[8.5807]], grad_fn=<AddmmBackward>)\n",
            "label tensor([[[8.8817]]])\n",
            "tensor([[8.5729]], grad_fn=<AddmmBackward>)\n",
            "label tensor([[[8.8106]]])\n",
            "tensor([[8.5622]], grad_fn=<AddmmBackward>)\n",
            "label tensor([[[8.9191]]])\n",
            "tensor([[8.5862]], grad_fn=<AddmmBackward>)\n",
            "label tensor([[[8.9535]]])\n",
            "tensor([[8.5925]], grad_fn=<AddmmBackward>)\n",
            "label tensor([[[8.8474]]])\n",
            "tensor([[8.5725]], grad_fn=<AddmmBackward>)\n",
            "label tensor([[[8.8139]]])\n",
            "tensor([[8.5656]], grad_fn=<AddmmBackward>)\n",
            "label tensor([[[8.9150]]])\n",
            "tensor([[8.5857]], grad_fn=<AddmmBackward>)\n",
            "label tensor([[[8.8512]]])\n",
            "tensor([[8.5738]], grad_fn=<AddmmBackward>)\n",
            "label tensor([[[8.8238]]])\n",
            "tensor([[8.5676]], grad_fn=<AddmmBackward>)\n",
            "label tensor([[[8.8349]]])\n",
            "tensor([[8.5683]], grad_fn=<AddmmBackward>)\n",
            "label tensor([[[8.8012]]])\n",
            "tensor([[8.5615]], grad_fn=<AddmmBackward>)\n",
            "label tensor([[[8.8494]]])\n",
            "tensor([[8.5717]], grad_fn=<AddmmBackward>)\n",
            "label tensor([[[8.7718]]])\n",
            "tensor([[8.5595]], grad_fn=<AddmmBackward>)\n",
            "label tensor([[[8.8269]]])\n",
            "tensor([[8.5682]], grad_fn=<AddmmBackward>)\n",
            "label tensor([[[8.8311]]])\n",
            "tensor([[8.5715]], grad_fn=<AddmmBackward>)\n",
            "label tensor([[[8.8970]]])\n",
            "tensor([[8.5820]], grad_fn=<AddmmBackward>)\n",
            "label tensor([[[8.8393]]])\n",
            "tensor([[8.5724]], grad_fn=<AddmmBackward>)\n",
            "label tensor([[[8.7734]]])\n",
            "tensor([[8.5584]], grad_fn=<AddmmBackward>)\n",
            "label tensor([[[8.8676]]])\n",
            "tensor([[8.5751]], grad_fn=<AddmmBackward>)\n",
            "label tensor([[[8.9195]]])\n",
            "tensor([[8.5811]], grad_fn=<AddmmBackward>)\n",
            "label tensor([[[8.9220]]])\n",
            "tensor([[8.5850]], grad_fn=<AddmmBackward>)\n",
            "label tensor([[[8.8297]]])\n",
            "tensor([[8.5680]], grad_fn=<AddmmBackward>)\n",
            "label tensor([[[8.9160]]])\n",
            "tensor([[8.5846]], grad_fn=<AddmmBackward>)\n",
            "label tensor([[[8.7845]]])\n",
            "tensor([[8.5570]], grad_fn=<AddmmBackward>)\n",
            "label tensor([[[8.9261]]])\n",
            "tensor([[8.5886]], grad_fn=<AddmmBackward>)\n",
            "label tensor([[[8.8169]]])\n",
            "tensor([[8.5635]], grad_fn=<AddmmBackward>)\n",
            "label tensor([[[8.8269]]])\n",
            "tensor([[8.5658]], grad_fn=<AddmmBackward>)\n",
            "label tensor([[[8.7305]]])\n",
            "tensor([[8.5459]], grad_fn=<AddmmBackward>)\n",
            "label tensor([[[8.8394]]])\n",
            "tensor([[8.5701]], grad_fn=<AddmmBackward>)\n",
            "label tensor([[[8.9345]]])\n",
            "tensor([[8.5882]], grad_fn=<AddmmBackward>)\n",
            "label tensor([[[8.7239]]])\n",
            "tensor([[8.5452]], grad_fn=<AddmmBackward>)\n",
            "label tensor([[[8.8700]]])\n",
            "tensor([[8.5778]], grad_fn=<AddmmBackward>)\n",
            "label tensor([[[8.8417]]])\n",
            "tensor([[8.5695]], grad_fn=<AddmmBackward>)\n",
            "label tensor([[[8.8758]]])\n",
            "tensor([[8.5759]], grad_fn=<AddmmBackward>)\n",
            "label tensor([[[8.7960]]])\n",
            "tensor([[8.5583]], grad_fn=<AddmmBackward>)\n",
            "label tensor([[[8.8122]]])\n",
            "tensor([[8.5638]], grad_fn=<AddmmBackward>)\n",
            "label tensor([[[8.8273]]])\n",
            "tensor([[8.5646]], grad_fn=<AddmmBackward>)\n",
            "label tensor([[[8.8479]]])\n",
            "tensor([[8.5772]], grad_fn=<AddmmBackward>)\n",
            "label tensor([[[8.8407]]])\n",
            "tensor([[8.5674]], grad_fn=<AddmmBackward>)\n",
            "label tensor([[[8.8803]]])\n",
            "tensor([[8.5776]], grad_fn=<AddmmBackward>)\n",
            "label tensor([[[8.8073]]])\n",
            "tensor([[8.5604]], grad_fn=<AddmmBackward>)\n",
            "label tensor([[[8.8247]]])\n",
            "tensor([[8.5660]], grad_fn=<AddmmBackward>)\n",
            "label tensor([[[8.8914]]])\n",
            "tensor([[8.5795]], grad_fn=<AddmmBackward>)\n",
            "label tensor([[[8.8400]]])\n",
            "tensor([[8.5715]], grad_fn=<AddmmBackward>)\n",
            "label tensor([[[8.8749]]])\n",
            "tensor([[8.5762]], grad_fn=<AddmmBackward>)\n",
            "label tensor([[[8.7400]]])\n",
            "tensor([[8.5488]], grad_fn=<AddmmBackward>)\n",
            "label tensor([[[8.8393]]])\n",
            "tensor([[8.5678]], grad_fn=<AddmmBackward>)\n",
            "label tensor([[[8.8531]]])\n",
            "tensor([[8.5723]], grad_fn=<AddmmBackward>)\n",
            "label tensor([[[8.7982]]])\n",
            "tensor([[8.5606]], grad_fn=<AddmmBackward>)\n",
            "label tensor([[[8.8615]]])\n",
            "tensor([[8.5734]], grad_fn=<AddmmBackward>)\n",
            "label tensor([[[8.8915]]])\n",
            "tensor([[8.5784]], grad_fn=<AddmmBackward>)\n",
            "label tensor([[[8.8537]]])\n",
            "tensor([[8.5687]], grad_fn=<AddmmBackward>)\n",
            "label tensor([[[8.8374]]])\n",
            "tensor([[8.5718]], grad_fn=<AddmmBackward>)\n",
            "label tensor([[[8.8679]]])\n",
            "tensor([[8.5695]], grad_fn=<AddmmBackward>)\n",
            "label tensor([[[8.8601]]])\n",
            "tensor([[8.5716]], grad_fn=<AddmmBackward>)\n",
            "label tensor([[[8.8530]]])\n",
            "tensor([[8.5717]], grad_fn=<AddmmBackward>)\n",
            "label tensor([[[8.8422]]])\n",
            "tensor([[8.5693]], grad_fn=<AddmmBackward>)\n",
            "label tensor([[[8.8630]]])\n",
            "tensor([[8.5730]], grad_fn=<AddmmBackward>)\n",
            "label tensor([[[8.9053]]])\n",
            "tensor([[8.5865]], grad_fn=<AddmmBackward>)\n",
            "label tensor([[[8.8260]]])\n",
            "tensor([[8.5672]], grad_fn=<AddmmBackward>)\n",
            "label tensor([[[8.8072]]])\n",
            "tensor([[8.5617]], grad_fn=<AddmmBackward>)\n"
          ],
          "name": "stdout"
        }
      ]
    },
    {
      "cell_type": "code",
      "metadata": {
        "id": "xYbmR9KskAL6",
        "colab_type": "code",
        "colab": {
          "base_uri": "https://localhost:8080/",
          "height": 1000
        },
        "outputId": "22d01146-edf7-492a-9704-efd57a4dd75f"
      },
      "source": [
        "y_testresult"
      ],
      "execution_count": 55,
      "outputs": [
        {
          "output_type": "execute_result",
          "data": {
            "text/plain": [
              "array([8.57053661, 8.56590939, 8.57213116, 8.55389023, 8.58847713,\n",
              "       8.57326984, 8.58410168, 8.577981  , 8.56746769, 8.58128452,\n",
              "       8.56572533, 8.56552315, 8.58918095, 8.55823898, 8.56580448,\n",
              "       8.57265949, 8.56855869, 8.56577015, 8.57205486, 8.57766438,\n",
              "       8.57076931, 8.5823431 , 8.56757069, 8.5464201 , 8.5725174 ,\n",
              "       8.57498074, 8.56831264, 8.57865429, 8.58077526, 8.57417202,\n",
              "       8.55181599, 8.57047653, 8.56728268, 8.58690834, 8.54482555,\n",
              "       8.57506752, 8.55799389, 8.58820248, 8.57090473, 8.57885838,\n",
              "       8.5672617 , 8.56062603, 8.5463028 , 8.57181931, 8.58387852,\n",
              "       8.58112049, 8.58034801, 8.54468441, 8.56418133, 8.57354069,\n",
              "       8.56447697, 8.57078743, 8.5816164 , 8.58846664, 8.56370258,\n",
              "       8.54908848, 8.57349491, 8.57597256, 8.54512596, 8.5670414 ,\n",
              "       8.58695507, 8.58906555, 8.55655479, 8.5595932 , 8.55944157,\n",
              "       8.59201717, 8.54706478, 8.56907177, 8.54772091, 8.58722973,\n",
              "       8.57967663, 8.56334782, 8.58833408, 8.57408333, 8.56264973,\n",
              "       8.58127975, 8.5618782 , 8.56645393, 8.55127239, 8.56408787,\n",
              "       8.58472538, 8.55312634, 8.56508923, 8.57021046, 8.56513119,\n",
              "       8.57231903, 8.56986713, 8.58541489, 8.56959438, 8.57579803,\n",
              "       8.54727459, 8.57433128, 8.58783627, 8.56867123, 8.55642128,\n",
              "       8.55695057, 8.56672573, 8.56668186, 8.57378674, 8.56068516,\n",
              "       8.57353878, 8.56991482, 8.57531261, 8.5913744 , 8.58204842,\n",
              "       8.57081223, 8.57654476, 8.56574726, 8.5650301 , 8.56273365,\n",
              "       8.57665539, 8.57960606, 8.58005142, 8.56520748, 8.57909107,\n",
              "       8.58093548, 8.57719517, 8.58619213, 8.59091473, 8.57456207,\n",
              "       8.57887173, 8.5674696 , 8.58711052, 8.56986523, 8.57332706,\n",
              "       8.56090069, 8.56709194, 8.56878662, 8.5699625 , 8.58622646,\n",
              "       8.54673862, 8.57311535, 8.58162117, 8.57386494, 8.56593418,\n",
              "       8.57390022, 8.57874012, 8.57366848, 8.58974171, 8.57082272,\n",
              "       8.58578777, 8.58462238, 8.57377148, 8.57392979, 8.56923199,\n",
              "       8.56425571, 8.55326366, 8.55928516, 8.57029629, 8.57467651,\n",
              "       8.58542347, 8.5493269 , 8.5876236 , 8.5830698 , 8.57798004,\n",
              "       8.57980251, 8.57290554, 8.58359718, 8.58667278, 8.5687809 ,\n",
              "       8.57983875, 8.5595417 , 8.58861446, 8.57652092, 8.5871563 ,\n",
              "       8.56919098, 8.55726433, 8.5603056 , 8.58602142, 8.5846529 ,\n",
              "       8.58495045, 8.586339  , 8.57940769, 8.56419468, 8.57157803,\n",
              "       8.56323147, 8.57417107, 8.58734894, 8.56536579, 8.5896349 ,\n",
              "       8.5799675 , 8.56670475, 8.58321476, 8.57549572, 8.57392406,\n",
              "       8.5681181 , 8.56707478, 8.57564163, 8.5770483 , 8.57742023,\n",
              "       8.54506302, 8.55945301, 8.59030914, 8.56962109, 8.54427242,\n",
              "       8.56663799, 8.57696342, 8.56199551, 8.57578182, 8.54577923,\n",
              "       8.56024933, 8.57430935, 8.57410049, 8.58258343, 8.56116676,\n",
              "       8.56977749, 8.56987667, 8.57041073, 8.57967091, 8.57472515,\n",
              "       8.57073498, 8.54616451, 8.59140205, 8.5852356 , 8.56484699,\n",
              "       8.56806087, 8.54681206, 8.59212112, 8.54482937, 8.54929066,\n",
              "       8.5700407 , 8.56533718, 8.57114887, 8.57179451, 8.56184006,\n",
              "       8.57769108, 8.57681179, 8.57800579, 8.57502079, 8.56464291,\n",
              "       8.5725565 , 8.57380581, 8.57243252, 8.58506489, 8.57649899,\n",
              "       8.57853603, 8.57691669, 8.58806324, 8.59205055, 8.56082535,\n",
              "       8.56823635, 8.57758141, 8.56931114, 8.57282257, 8.56169605,\n",
              "       8.56788349, 8.56005287, 8.58287144, 8.56123829, 8.57949829,\n",
              "       8.56904507, 8.5544939 , 8.54733372, 8.58379459, 8.58551884,\n",
              "       8.56792164, 8.54831219, 8.55543423, 8.5562067 , 8.56530666,\n",
              "       8.56281471, 8.57456398, 8.56954002, 8.5726757 , 8.56466198,\n",
              "       8.57287502, 8.58401012, 8.54323006, 8.57778454, 8.56818008,\n",
              "       8.57734203, 8.57504463, 8.56674194, 8.56583309, 8.56403923,\n",
              "       8.57260799, 8.57887173, 8.54626274, 8.57215977, 8.5807085 ,\n",
              "       8.57292938, 8.56218243, 8.58620739, 8.59246159, 8.5724802 ,\n",
              "       8.56556034, 8.58565044, 8.57380772, 8.56756401, 8.56831741,\n",
              "       8.56147766, 8.57168388, 8.55948353, 8.56822491, 8.57153034,\n",
              "       8.58195877, 8.57241154, 8.5584383 , 8.57506847, 8.5810585 ,\n",
              "       8.58501148, 8.56799412, 8.58461094, 8.55696774, 8.58860493,\n",
              "       8.56353855, 8.56575298, 8.54589748, 8.57014847, 8.5881815 ,\n",
              "       8.54518795, 8.57777691, 8.56954384, 8.57590961, 8.55829716,\n",
              "       8.56378269, 8.56458187, 8.57715034, 8.56740379, 8.57762814,\n",
              "       8.56040859, 8.56595039, 8.57952118, 8.57150173, 8.57623768,\n",
              "       8.54876804, 8.56776524, 8.57227802, 8.56055737, 8.57343006,\n",
              "       8.57840252, 8.56874561, 8.57184315, 8.56950474, 8.57161236,\n",
              "       8.57167721, 8.5693121 , 8.57304287, 8.58653831, 8.56715298,\n",
              "       8.56173992])"
            ]
          },
          "metadata": {
            "tags": []
          },
          "execution_count": 55
        }
      ]
    },
    {
      "cell_type": "code",
      "metadata": {
        "id": "crnYG_U6nNgw",
        "colab_type": "code",
        "colab": {
          "base_uri": "https://localhost:8080/",
          "height": 265
        },
        "outputId": "4ca38e33-ba71-4108-f493-d54f07f2f234"
      },
      "source": [
        "plt.figure()\n",
        "plt.plot(y_testresult,label=\"pred\")\n",
        "plt.plot(com_label,label=\"label\")\n",
        "plt.legend()\n",
        "plt.grid()"
      ],
      "execution_count": 56,
      "outputs": [
        {
          "output_type": "display_data",
          "data": {
            "image/png": "[encoded data removed]",
            "text/plain": [
              "<Figure size 432x288 with 1 Axes>"
            ]
          },
          "metadata": {
            "tags": [],
            "needs_background": "light"
          }
        }
      ]
    },
    {
      "cell_type": "code",
      "metadata": {
        "id": "n73CglU9nOMN",
        "colab_type": "code",
        "colab": {}
      },
      "source": [
        "exp_y_testresult = np.exp(y_testresult)\n",
        "exp_com_label = np.exp(com_label)"
      ],
      "execution_count": 57,
      "outputs": []
    },
    {
      "cell_type": "code",
      "metadata": {
        "id": "9oYE7kfG1wsL",
        "colab_type": "code",
        "colab": {
          "base_uri": "https://localhost:8080/",
          "height": 265
        },
        "outputId": "db0239bf-e339-4763-ff8a-86f6c7c9fd79"
      },
      "source": [
        "plt.figure()\n",
        "plt.plot(exp_y_testresult,label=\"pred\")\n",
        "plt.plot(exp_com_label,label=\"label\")\n",
        "plt.legend()\n",
        "plt.grid()"
      ],
      "execution_count": 58,
      "outputs": [
        {
          "output_type": "display_data",
          "data": {
            "image/png": "[encoded data removed]",
            "text/plain": [
              "<Figure size 432x288 with 1 Axes>"
            ]
          },
          "metadata": {
            "tags": [],
            "needs_background": "light"
          }
        }
      ]
    },
    {
      "cell_type": "code",
      "metadata": {
        "id": "wUIzhCF111XL",
        "colab_type": "code",
        "colab": {
          "base_uri": "https://localhost:8080/",
          "height": 265
        },
        "outputId": "24f4a919-9931-4ebd-cb46-2fa7e182c35d"
      },
      "source": [
        "from numpy.random import *\n",
        "\n",
        "\n",
        "scope_size = 25\n",
        "\n",
        "len_ = len(y_testresult)\n",
        "random_scope = len_ - scope_size\n",
        "\n",
        "rand_start = randint(random_scope)\n",
        "\n",
        "rand_pred = exp_y_testresult[rand_start:rand_start+scope_size]\n",
        "rand_label = exp_com_label[rand_start:rand_start+scope_size]\n",
        "\n",
        "plt.figure()\n",
        "plt.plot(rand_pred,label=\"pred\")\n",
        "plt.plot(rand_label,label=\"label\")\n",
        "plt.legend()\n",
        "plt.grid()\n"
      ],
      "execution_count": 70,
      "outputs": [
        {
          "output_type": "display_data",
          "data": {
            "image/png": "[encoded data removed]",
            "text/plain": [
              "<Figure size 432x288 with 1 Axes>"
            ]
          },
          "metadata": {
            "tags": [],
            "needs_background": "light"
          }
        }
      ]
    },
    {
      "cell_type": "code",
      "metadata": {
        "id": "4PSrO3be3oGH",
        "colab_type": "code",
        "colab": {}
      },
      "source": [
        ""
      ],
      "execution_count": null,
      "outputs": []
    }
  ]
}