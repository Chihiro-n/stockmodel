{
  "nbformat": 4,
  "nbformat_minor": 0,
  "metadata": {
    "file_extension": ".py",
    "kernelspec": {
      "display_name": "Python 3.7.5 64-bit",
      "language": "python",
      "name": "python37564bit8eca2ece5df347009757f05252a386a2"
    },
    "language_info": {
      "codemirror_mode": {
        "name": "ipython",
        "version": 3
      },
      "file_extension": ".py",
      "mimetype": "text/x-python",
      "name": "python",
      "nbconvert_exporter": "python",
      "pygments_lexer": "ipython3",
      "version": "3.7.5"
    },
    "mimetype": "text/x-python",
    "name": "python",
    "npconvert_exporter": "python",
    "pygments_lexer": "ipython3",
    "version": 3,
    "colab": {
      "name": "LSTM_Stock_Regression.ipynb",
      "provenance": [],
      "collapsed_sections": [],
      "include_colab_link": true
    }
  },
  "cells": [
    {
      "cell_type": "markdown",
      "metadata": {
        "id": "view-in-github",
        "colab_type": "text"
      },
      "source": [
        "<a href=\"https://colab.research.google.com/github/Chihiro-n/stockmodel/blob/master/LSTM_Stock_Regression.ipynb\" target=\"_parent\"><img src=\"https://colab.research.google.com/assets/colab-badge.svg\" alt=\"Open In Colab\"/></a>"
      ]
    },
    {
      "cell_type": "markdown",
      "metadata": {
        "id": "k01qC0e6kAKw",
        "colab_type": "text"
      },
      "source": [
        "# NNで株価を予測モデルを作成する\n",
        "rev2:入力データを一次元に限定"
      ]
    },
    {
      "cell_type": "code",
      "metadata": {
        "id": "eKdxHDxXkAKx",
        "colab_type": "code",
        "colab": {
          "base_uri": "https://localhost:8080/",
          "height": 51
        },
        "outputId": "d13606af-03ad-43c6-d6e4-60b20c0c66a1"
      },
      "source": [
        "import numpy as np\n",
        "import pandas as pd\n",
        "import matplotlib.pyplot as plt\n",
        "import seaborn as sns\n",
        "%matplotlib inline\n"
      ],
      "execution_count": null,
      "outputs": [
        {
          "output_type": "stream",
          "text": [
            "/usr/local/lib/python3.6/dist-packages/statsmodels/tools/_testing.py:19: FutureWarning: pandas.util.testing is deprecated. Use the functions in the public API at pandas.testing instead.\n",
            "  import pandas.util.testing as tm\n"
          ],
          "name": "stderr"
        }
      ]
    },
    {
      "cell_type": "markdown",
      "metadata": {
        "id": "ww8iAWfUkAK2",
        "colab_type": "text"
      },
      "source": [
        "# LSTMモデルを組む"
      ]
    },
    {
      "cell_type": "code",
      "metadata": {
        "id": "St3RbwyhkAK3",
        "colab_type": "code",
        "colab": {}
      },
      "source": [
        "import torch\n",
        "import torch.nn as nn\n",
        "import torch.nn.functional as F\n",
        "import torch.optim as optim\n",
        "from torch.utils.data import Dataset, DataLoader\n",
        "from sklearn.model_selection import train_test_split\n",
        "import numpy as np"
      ],
      "execution_count": null,
      "outputs": []
    },
    {
      "cell_type": "code",
      "metadata": {
        "id": "Afwmx2hdkaYw",
        "colab_type": "code",
        "colab": {
          "base_uri": "https://localhost:8080/",
          "height": 34
        },
        "outputId": "0300dc28-8c22-4345-8d38-d99771c6d901"
      },
      "source": [
        "from google.colab import drive\n",
        "drive.mount('/content/drive')"
      ],
      "execution_count": null,
      "outputs": [
        {
          "output_type": "stream",
          "text": [
            "Drive already mounted at /content/drive; to attempt to forcibly remount, call drive.mount(\"/content/drive\", force_remount=True).\n"
          ],
          "name": "stdout"
        }
      ]
    },
    {
      "cell_type": "code",
      "metadata": {
        "id": "_Wcaqu5ykuTF",
        "colab_type": "code",
        "colab": {
          "base_uri": "https://localhost:8080/",
          "height": 34
        },
        "outputId": "a68a6647-4bf9-49d9-b5ac-d67df399b5d1"
      },
      "source": [
        "%pwd"
      ],
      "execution_count": null,
      "outputs": [
        {
          "output_type": "execute_result",
          "data": {
            "text/plain": [
              "'/content'"
            ]
          },
          "metadata": {
            "tags": []
          },
          "execution_count": 4
        }
      ]
    },
    {
      "cell_type": "code",
      "metadata": {
        "id": "xkJ5-FdVwDwX",
        "colab_type": "code",
        "colab": {}
      },
      "source": [
        ""
      ],
      "execution_count": null,
      "outputs": []
    },
    {
      "cell_type": "code",
      "metadata": {
        "id": "y6DyrUc8l6wc",
        "colab_type": "code",
        "colab": {
          "base_uri": "https://localhost:8080/",
          "height": 34
        },
        "outputId": "a1ca3e04-bb15-4a3f-bbcc-463189f62463"
      },
      "source": [
        "%cd /content/drive/My Drive/Colab Notebooks"
      ],
      "execution_count": null,
      "outputs": [
        {
          "output_type": "stream",
          "text": [
            "/content/drive/My Drive/Colab Notebooks\n"
          ],
          "name": "stdout"
        }
      ]
    },
    {
      "cell_type": "code",
      "metadata": {
        "id": "k-TqqQtdmdap",
        "colab_type": "code",
        "colab": {
          "base_uri": "https://localhost:8080/",
          "height": 374
        },
        "outputId": "434fbbc8-5901-4199-85d4-f9bc55d8642a"
      },
      "source": [
        "%ls"
      ],
      "execution_count": null,
      "outputs": [
        {
          "output_type": "stream",
          "text": [
            " Check_Sinwave_LSTM_Stock_Classify.ipynb\n",
            "'Colaboratory へようこそ のコピー'\n",
            " \u001b[0m\u001b[01;34mdata\u001b[0m/\n",
            " \u001b[01;34mdata_dir\u001b[0m/\n",
            " DogCat.ipynb\n",
            " kaggleデータinputの方法DogCat.ipynb\n",
            " \u001b[01;34mkeras_ssd_hands-on\u001b[0m/\n",
            " LSTM_changed_dataset.ipynb\n",
            "'LSTM_Stock_Classify (1).ipynb'\n",
            " LSTM_Stock_Classify.ipynb\n",
            "'LSTM_Stock_Regression (1).ipynb'\n",
            " LSTM_Stock_Regression.ipynb\n",
            " net.ckpt\n",
            " \u001b[01;34mprophet\u001b[0m/\n",
            "'PyTorch実践入門ハンズオンセミナー配布用 のコピー'\n",
            " RNN_shapeCheak.ipynb\n",
            " RNN_sin_pred.ipynb\n",
            " sampleSubmission.csv\n",
            " StockRegression.ckpt\n",
            " torch_tuto_CFIA10.ipynb\n",
            " Youtube_Analysis_1.ipynb\n"
          ],
          "name": "stdout"
        }
      ]
    },
    {
      "cell_type": "markdown",
      "metadata": {
        "id": "H4miOBaYJdRd",
        "colab_type": "text"
      },
      "source": [
        "# GPUセットのためのおまじない"
      ]
    },
    {
      "cell_type": "code",
      "metadata": {
        "id": "X6mO-7itJb_K",
        "colab_type": "code",
        "colab": {}
      },
      "source": [
        "device = torch.device('cuda' if torch.cuda.is_available() else 'cpu')"
      ],
      "execution_count": null,
      "outputs": []
    },
    {
      "cell_type": "markdown",
      "metadata": {
        "id": "wYjRDZdRkAK7",
        "colab_type": "text"
      },
      "source": [
        "# データセットを作る\n",
        "### PytorchのLSTMに学習させるためのデータは次元の工夫が必要であり、二重リストにしないとエラーになる\n",
        "### 訓練用とテスト用にデータを分ける。まず二重リストであるtmpを作ってからそれを分割した"
      ]
    },
    {
      "cell_type": "code",
      "metadata": {
        "id": "6FOUg_IgkAK7",
        "colab_type": "code",
        "colab": {}
      },
      "source": [
        "window = 10       # データは日足\n",
        "target_term = 1   # 入力データに対して予測する日までの期間。\n",
        "input_dim = 4\n",
        "\n",
        "#csvfile = open('/content/drive/My Drive/data-text.csv', 'r', encoding='utf-8')\n",
        "#df_train_law = pd.read_csv('./data/stock/label_difflog_2005-2018.csv' ,index_col=0)\n",
        "df_train_law = pd.read_csv('./data/stock/class_label_difflog_2005-2018.csv' ,index_col=0)\n",
        "\n",
        "df_train_law.head()\n",
        "\n",
        "inp_dim = len(df_train_law)\n",
        "\n",
        "train_endindex = int(inp_dim*0.9)\n",
        "\n"
      ],
      "execution_count": null,
      "outputs": []
    },
    {
      "cell_type": "code",
      "metadata": {
        "id": "KGWCwwlB7BT6",
        "colab_type": "code",
        "colab": {
          "base_uri": "https://localhost:8080/",
          "height": 170
        },
        "outputId": "fb408717-8cd1-46e5-a7e0-bd9d74978843"
      },
      "source": [
        "print(df_train_law.head())"
      ],
      "execution_count": null,
      "outputs": [
        {
          "output_type": "stream",
          "text": [
            "              始値    高値    安値    終値  ...  label_m0  label_p0  label_p1  label_class\n",
            "日付                                  ...                                           \n",
            "2005-01-05  4210  4220  4140  4150  ...       0.0       0.0       0.0          0.0\n",
            "2005-01-06  4150  4210  4150  4190  ...       1.0       0.0       0.0          2.0\n",
            "2005-01-07  4210  4210  4140  4150  ...       0.0       1.0       0.0          3.0\n",
            "2005-01-11  4180  4210  4170  4200  ...       1.0       0.0       0.0          2.0\n",
            "2005-01-12  4180  4190  4140  4150  ...       0.0       1.0       0.0          3.0\n",
            "\n",
            "[5 rows x 17 columns]\n"
          ],
          "name": "stdout"
        }
      ]
    },
    {
      "cell_type": "markdown",
      "metadata": {
        "id": "mny2bFTXe8bS",
        "colab_type": "text"
      },
      "source": [
        "### inputデータとして、株価をlogに加工した値のみを取り出す。\n",
        "最初の行だけは削除しておく。階差をlabelとしているため"
      ]
    },
    {
      "cell_type": "code",
      "metadata": {
        "id": "kIe4M1zc_NzK",
        "colab_type": "code",
        "colab": {}
      },
      "source": [
        "if input_dim == 4:\n",
        "\n",
        "  df_input = df_train_law.iloc[:, 4:8 ]   # 次元が4つの場合\n",
        "elif input_dim ==1:\n",
        "  df_input = df_train_law.iloc[:, 4 ]      # 次元を始値に限定する場合\n",
        "\n",
        "#nd_cast = open.astype(np.float32)"
      ],
      "execution_count": null,
      "outputs": []
    },
    {
      "cell_type": "code",
      "metadata": {
        "id": "zgTI_c9BAElx",
        "colab_type": "code",
        "colab": {}
      },
      "source": [
        "df_input = df_input.drop('2005-01-05', axis=0)"
      ],
      "execution_count": null,
      "outputs": []
    },
    {
      "cell_type": "code",
      "metadata": {
        "id": "wiGqTrA4gLYf",
        "colab_type": "code",
        "colab": {
          "base_uri": "https://localhost:8080/",
          "height": 450
        },
        "outputId": "6e82588d-bdae-4033-d362-e2f8085cbcea"
      },
      "source": [
        "df_input"
      ],
      "execution_count": null,
      "outputs": [
        {
          "output_type": "execute_result",
          "data": {
            "text/html": [
              "<div>\n",
              "<style scoped>\n",
              "    .dataframe tbody tr th:only-of-type {\n",
              "        vertical-align: middle;\n",
              "    }\n",
              "\n",
              "    .dataframe tbody tr th {\n",
              "        vertical-align: top;\n",
              "    }\n",
              "\n",
              "    .dataframe thead th {\n",
              "        text-align: right;\n",
              "    }\n",
              "</style>\n",
              "<table border=\"1\" class=\"dataframe\">\n",
              "  <thead>\n",
              "    <tr style=\"text-align: right;\">\n",
              "      <th></th>\n",
              "      <th>log始値</th>\n",
              "      <th>log高値</th>\n",
              "      <th>log安値</th>\n",
              "      <th>log終値</th>\n",
              "    </tr>\n",
              "    <tr>\n",
              "      <th>日付</th>\n",
              "      <th></th>\n",
              "      <th></th>\n",
              "      <th></th>\n",
              "      <th></th>\n",
              "    </tr>\n",
              "  </thead>\n",
              "  <tbody>\n",
              "    <tr>\n",
              "      <th>2005-01-06</th>\n",
              "      <td>8.330864</td>\n",
              "      <td>8.345218</td>\n",
              "      <td>8.330864</td>\n",
              "      <td>8.340456</td>\n",
              "    </tr>\n",
              "    <tr>\n",
              "      <th>2005-01-07</th>\n",
              "      <td>8.345218</td>\n",
              "      <td>8.345218</td>\n",
              "      <td>8.328451</td>\n",
              "      <td>8.330864</td>\n",
              "    </tr>\n",
              "    <tr>\n",
              "      <th>2005-01-11</th>\n",
              "      <td>8.338067</td>\n",
              "      <td>8.345218</td>\n",
              "      <td>8.335671</td>\n",
              "      <td>8.342840</td>\n",
              "    </tr>\n",
              "    <tr>\n",
              "      <th>2005-01-12</th>\n",
              "      <td>8.338067</td>\n",
              "      <td>8.340456</td>\n",
              "      <td>8.328451</td>\n",
              "      <td>8.330864</td>\n",
              "    </tr>\n",
              "    <tr>\n",
              "      <th>2005-01-13</th>\n",
              "      <td>8.321178</td>\n",
              "      <td>8.328451</td>\n",
              "      <td>8.318742</td>\n",
              "      <td>8.323608</td>\n",
              "    </tr>\n",
              "    <tr>\n",
              "      <th>...</th>\n",
              "      <td>...</td>\n",
              "      <td>...</td>\n",
              "      <td>...</td>\n",
              "      <td>...</td>\n",
              "    </tr>\n",
              "    <tr>\n",
              "      <th>2018-12-21</th>\n",
              "      <td>8.777864</td>\n",
              "      <td>8.779096</td>\n",
              "      <td>8.764210</td>\n",
              "      <td>8.766550</td>\n",
              "    </tr>\n",
              "    <tr>\n",
              "      <th>2018-12-25</th>\n",
              "      <td>8.728264</td>\n",
              "      <td>8.733272</td>\n",
              "      <td>8.708805</td>\n",
              "      <td>8.712595</td>\n",
              "    </tr>\n",
              "    <tr>\n",
              "      <th>2018-12-26</th>\n",
              "      <td>8.720787</td>\n",
              "      <td>8.737934</td>\n",
              "      <td>8.706987</td>\n",
              "      <td>8.723557</td>\n",
              "    </tr>\n",
              "    <tr>\n",
              "      <th>2018-12-27</th>\n",
              "      <td>8.763115</td>\n",
              "      <td>8.770594</td>\n",
              "      <td>8.754319</td>\n",
              "      <td>8.766394</td>\n",
              "    </tr>\n",
              "    <tr>\n",
              "      <th>2018-12-28</th>\n",
              "      <td>8.758570</td>\n",
              "      <td>8.770905</td>\n",
              "      <td>8.750841</td>\n",
              "      <td>8.764990</td>\n",
              "    </tr>\n",
              "  </tbody>\n",
              "</table>\n",
              "<p>3416 rows × 4 columns</p>\n",
              "</div>"
            ],
            "text/plain": [
              "               log始値     log高値     log安値     log終値\n",
              "日付                                                \n",
              "2005-01-06  8.330864  8.345218  8.330864  8.340456\n",
              "2005-01-07  8.345218  8.345218  8.328451  8.330864\n",
              "2005-01-11  8.338067  8.345218  8.335671  8.342840\n",
              "2005-01-12  8.338067  8.340456  8.328451  8.330864\n",
              "2005-01-13  8.321178  8.328451  8.318742  8.323608\n",
              "...              ...       ...       ...       ...\n",
              "2018-12-21  8.777864  8.779096  8.764210  8.766550\n",
              "2018-12-25  8.728264  8.733272  8.708805  8.712595\n",
              "2018-12-26  8.720787  8.737934  8.706987  8.723557\n",
              "2018-12-27  8.763115  8.770594  8.754319  8.766394\n",
              "2018-12-28  8.758570  8.770905  8.750841  8.764990\n",
              "\n",
              "[3416 rows x 4 columns]"
            ]
          },
          "metadata": {
            "tags": []
          },
          "execution_count": 12
        }
      ]
    },
    {
      "cell_type": "markdown",
      "metadata": {
        "id": "8hGHUf8qLyTk",
        "colab_type": "text"
      },
      "source": [
        "## 念の為、inputdataを確認しておく"
      ]
    },
    {
      "cell_type": "code",
      "metadata": {
        "id": "GFU21SntL2F6",
        "colab_type": "code",
        "colab": {}
      },
      "source": [
        "# \n",
        "#plt.figure()\n",
        "#plt.plot(df_input,label=\"loss\")\n",
        "#plt.legend()\n",
        "#plt.grid()"
      ],
      "execution_count": null,
      "outputs": []
    },
    {
      "cell_type": "code",
      "metadata": {
        "id": "5359gHBbMy-D",
        "colab_type": "code",
        "colab": {
          "base_uri": "https://localhost:8080/",
          "height": 280
        },
        "outputId": "8ae0d2d8-c19c-44d8-ad74-8f184f78ffe0"
      },
      "source": [
        "sns.countplot(x=\"label_class\", data=df_train_law)\n",
        "plt.show()"
      ],
      "execution_count": null,
      "outputs": [
        {
          "output_type": "display_data",
          "data": {
            "image/png": "[encoded data removed]",
            "text/plain": [
              "<Figure size 432x288 with 1 Axes>"
            ]
          },
          "metadata": {
            "tags": [],
            "needs_background": "light"
          }
        }
      ]
    },
    {
      "cell_type": "markdown",
      "metadata": {
        "id": "8be2luh4Itum",
        "colab_type": "text"
      },
      "source": [
        "### inputデータを作成する。\n",
        "説明変数4つ　が 50日分.  \n",
        "ループは50を引いておく  \n",
        "numpyに変更しておく"
      ]
    },
    {
      "cell_type": "code",
      "metadata": {
        "id": "pBVR3b2V_VK0",
        "colab_type": "code",
        "colab": {}
      },
      "source": [
        "#train_input = np.array([])\n",
        "train_input = []\n",
        "train_t = []\n",
        "\n",
        "for i in range(len(df_input)-window):\n",
        "  #train_input = np.append( train_input, df_input.iloc[i: i+window] )\n",
        "  train_input.append( df_input.iloc[i: i+window].values )"
      ],
      "execution_count": null,
      "outputs": []
    },
    {
      "cell_type": "markdown",
      "metadata": {
        "id": "VFN-Tux0IrSQ",
        "colab_type": "text"
      },
      "source": [
        "### 中身チェック"
      ]
    },
    {
      "cell_type": "code",
      "metadata": {
        "id": "ROrwDT0QAY0M",
        "colab_type": "code",
        "colab": {
          "base_uri": "https://localhost:8080/",
          "height": 51
        },
        "outputId": "fe75825c-ad95-4d26-c3e0-8e438f717ccd"
      },
      "source": [
        "print(len(train_input))\n",
        "print(type(train_input))\n",
        "#train_input[0]\n",
        "#print(train_input.shape)\n"
      ],
      "execution_count": null,
      "outputs": [
        {
          "output_type": "stream",
          "text": [
            "3406\n",
            "<class 'list'>\n"
          ],
          "name": "stdout"
        }
      ]
    },
    {
      "cell_type": "markdown",
      "metadata": {
        "id": "9fZNcKv4NCQ_",
        "colab_type": "text"
      },
      "source": [
        "### numpyに変更し、サイズもチェック"
      ]
    },
    {
      "cell_type": "code",
      "metadata": {
        "id": "idUDB0IkH_ER",
        "colab_type": "code",
        "colab": {
          "base_uri": "https://localhost:8080/",
          "height": 867
        },
        "outputId": "e825b3c6-7ad7-4e1a-8ea5-0a45609b8043"
      },
      "source": [
        "np_train_input = np.array(train_input)\n",
        "np_train_input = np_train_input.astype(np.float32)  ### float型に変更しておかないと、modelに入力する際にerrorが出る　※doubleはNG\n",
        "\n",
        "print(np_train_input.shape)\n",
        "\n",
        "np_train_input\n"
      ],
      "execution_count": null,
      "outputs": [
        {
          "output_type": "stream",
          "text": [
            "(3406, 10, 4)\n"
          ],
          "name": "stdout"
        },
        {
          "output_type": "execute_result",
          "data": {
            "text/plain": [
              "array([[[8.330864 , 8.345218 , 8.330864 , 8.340456 ],\n",
              "        [8.345218 , 8.345218 , 8.328451 , 8.330864 ],\n",
              "        [8.338066 , 8.345218 , 8.335671 , 8.34284  ],\n",
              "        ...,\n",
              "        [8.328451 , 8.330864 , 8.3163   , 8.321178 ],\n",
              "        [8.323608 , 8.328451 , 8.3163   , 8.3163   ],\n",
              "        [8.3113985, 8.313852 , 8.301521 , 8.304    ]],\n",
              "\n",
              "       [[8.345218 , 8.345218 , 8.328451 , 8.330864 ],\n",
              "        [8.338066 , 8.345218 , 8.335671 , 8.34284  ],\n",
              "        [8.338066 , 8.340456 , 8.328451 , 8.330864 ],\n",
              "        ...,\n",
              "        [8.323608 , 8.328451 , 8.3163   , 8.3163   ],\n",
              "        [8.3113985, 8.313852 , 8.301521 , 8.304    ],\n",
              "        [8.304    , 8.313852 , 8.301521 , 8.308938 ]],\n",
              "\n",
              "       [[8.338066 , 8.345218 , 8.335671 , 8.34284  ],\n",
              "        [8.338066 , 8.340456 , 8.328451 , 8.330864 ],\n",
              "        [8.321178 , 8.328451 , 8.318742 , 8.323608 ],\n",
              "        ...,\n",
              "        [8.3113985, 8.313852 , 8.301521 , 8.304    ],\n",
              "        [8.304    , 8.313852 , 8.301521 , 8.308938 ],\n",
              "        [8.306472 , 8.308938 , 8.301521 , 8.304    ]],\n",
              "\n",
              "       ...,\n",
              "\n",
              "       [[8.824677 , 8.826441 , 8.815518 , 8.816557 ],\n",
              "        [8.824677 , 8.841738 , 8.821142 , 8.8385515],\n",
              "        [8.840725 , 8.84376  , 8.832587 , 8.834919 ],\n",
              "        ...,\n",
              "        [8.818778 , 8.826    , 8.795885 , 8.79921  ],\n",
              "        [8.7778635, 8.779096 , 8.76421  , 8.76655  ],\n",
              "        [8.728264 , 8.733272 , 8.708805 , 8.712596 ]],\n",
              "\n",
              "       [[8.824677 , 8.841738 , 8.821142 , 8.8385515],\n",
              "        [8.840725 , 8.84376  , 8.832587 , 8.834919 ],\n",
              "        [8.827908 , 8.842027 , 8.826441 , 8.828934 ],\n",
              "        ...,\n",
              "        [8.7778635, 8.779096 , 8.76421  , 8.76655  ],\n",
              "        [8.728264 , 8.733272 , 8.708805 , 8.712596 ],\n",
              "        [8.720787 , 8.737934 , 8.706986 , 8.7235565]],\n",
              "\n",
              "       [[8.840725 , 8.84376  , 8.832587 , 8.834919 ],\n",
              "        [8.827908 , 8.842027 , 8.826441 , 8.828934 ],\n",
              "        [8.823795 , 8.836664 , 8.823059 , 8.830543 ],\n",
              "        ...,\n",
              "        [8.728264 , 8.733272 , 8.708805 , 8.712596 ],\n",
              "        [8.720787 , 8.737934 , 8.706986 , 8.7235565],\n",
              "        [8.763115 , 8.770595 , 8.754318 , 8.766395 ]]], dtype=float32)"
            ]
          },
          "metadata": {
            "tags": []
          },
          "execution_count": 17
        }
      ]
    },
    {
      "cell_type": "markdown",
      "metadata": {
        "id": "1gxQ7xSl9EBh",
        "colab_type": "text"
      },
      "source": [
        "## input次元が1のときだけ必要になる。shapeを( len , timestep , 1 )にするため。\n",
        "※reshapeをしない場合は(len , timestep)だけとなってエラーになる"
      ]
    },
    {
      "cell_type": "code",
      "metadata": {
        "id": "0ahK9XSe9fFG",
        "colab_type": "code",
        "colab": {
          "base_uri": "https://localhost:8080/",
          "height": 34
        },
        "outputId": "1421cce4-9966-45bc-db3c-6ea520257914"
      },
      "source": [
        "np_train_input = np_train_input.reshape(-1,window,input_dim)\n",
        "print(np_train_input.shape)"
      ],
      "execution_count": null,
      "outputs": [
        {
          "output_type": "stream",
          "text": [
            "(3406, 10, 4)\n"
          ],
          "name": "stdout"
        }
      ]
    },
    {
      "cell_type": "markdown",
      "metadata": {
        "id": "MWXzLw_Lmiji",
        "colab_type": "text"
      },
      "source": [
        "# labelデータも numpyに変更しておく\n",
        "labalはonehot vectorなので、(3366,1,4)になるはず -> X ※pytorchのクロスエントロピーロスはエントロピーロスはonehotvectorに対応しておらずクラスラベルにする"
      ]
    },
    {
      "cell_type": "code",
      "metadata": {
        "id": "01FncddLm2yr",
        "colab_type": "code",
        "colab": {
          "base_uri": "https://localhost:8080/",
          "height": 238
        },
        "outputId": "fcace436-cd56-4f99-e504-44b3f80e756e"
      },
      "source": [
        "df_label = df_train_law.iloc[:, 4 ]\n",
        "df_label"
      ],
      "execution_count": null,
      "outputs": [
        {
          "output_type": "execute_result",
          "data": {
            "text/plain": [
              "日付\n",
              "2005-01-05    8.345218\n",
              "2005-01-06    8.330864\n",
              "2005-01-07    8.345218\n",
              "2005-01-11    8.338067\n",
              "2005-01-12    8.338067\n",
              "                ...   \n",
              "2018-12-21    8.777864\n",
              "2018-12-25    8.728264\n",
              "2018-12-26    8.720787\n",
              "2018-12-27    8.763115\n",
              "2018-12-28    8.758570\n",
              "Name: log始値, Length: 3417, dtype: float64"
            ]
          },
          "metadata": {
            "tags": []
          },
          "execution_count": 19
        }
      ]
    },
    {
      "cell_type": "code",
      "metadata": {
        "id": "uctrXWc-nGT5",
        "colab_type": "code",
        "colab": {}
      },
      "source": [
        "df_label = df_label.drop('2005-01-05', axis=0)"
      ],
      "execution_count": null,
      "outputs": []
    },
    {
      "cell_type": "code",
      "metadata": {
        "id": "HyHf34xEvYYI",
        "colab_type": "code",
        "colab": {
          "base_uri": "https://localhost:8080/",
          "height": 34
        },
        "outputId": "9164588e-1c53-46a8-f08e-31c61c6ba3c1"
      },
      "source": [
        "type(df_label)"
      ],
      "execution_count": null,
      "outputs": [
        {
          "output_type": "execute_result",
          "data": {
            "text/plain": [
              "pandas.core.series.Series"
            ]
          },
          "metadata": {
            "tags": []
          },
          "execution_count": 21
        }
      ]
    },
    {
      "cell_type": "code",
      "metadata": {
        "id": "9Lv_9UoUnRZE",
        "colab_type": "code",
        "colab": {}
      },
      "source": [
        "train_label = []\n",
        "\n",
        "for i in range(len(df_label)-window):\n",
        "  #train_label.append( df_label.iloc[window + i].values )\n",
        "  train_label.append( df_label.iloc[window + i] )"
      ],
      "execution_count": null,
      "outputs": []
    },
    {
      "cell_type": "code",
      "metadata": {
        "id": "WG94bDqXnkw6",
        "colab_type": "code",
        "colab": {
          "base_uri": "https://localhost:8080/",
          "height": 34
        },
        "outputId": "a2dfdcf3-6602-4828-8b19-da3ee71b0795"
      },
      "source": [
        "np_train_label = np.array(train_label)\n",
        "\n",
        "\n",
        "np_train_label = np_train_label.astype(np.float32)\n",
        "np_train_label.shape\n"
      ],
      "execution_count": null,
      "outputs": [
        {
          "output_type": "execute_result",
          "data": {
            "text/plain": [
              "(3406,)"
            ]
          },
          "metadata": {
            "tags": []
          },
          "execution_count": 23
        }
      ]
    },
    {
      "cell_type": "markdown",
      "metadata": {
        "id": "qiiBOofez7rT",
        "colab_type": "text"
      },
      "source": [
        "## Shapeを変更する、 二重リストの型へ\n"
      ]
    },
    {
      "cell_type": "code",
      "metadata": {
        "id": "HHYW0R1Iznx2",
        "colab_type": "code",
        "colab": {}
      },
      "source": [
        "np_train_label = np_train_label.reshape(-1,1,1)"
      ],
      "execution_count": null,
      "outputs": []
    },
    {
      "cell_type": "code",
      "metadata": {
        "id": "31zdMcj8zurW",
        "colab_type": "code",
        "colab": {
          "base_uri": "https://localhost:8080/",
          "height": 255
        },
        "outputId": "8663234f-254b-49bb-9809-0a2e01c2c0d9"
      },
      "source": [
        "print(np_train_label.shape)\n",
        "print(np_train_label)\n"
      ],
      "execution_count": null,
      "outputs": [
        {
          "output_type": "stream",
          "text": [
            "(3406, 1, 1)\n",
            "[[[8.304   ]]\n",
            "\n",
            " [[8.306472]]\n",
            "\n",
            " [[8.296547]]\n",
            "\n",
            " ...\n",
            "\n",
            " [[8.720787]]\n",
            "\n",
            " [[8.763115]]\n",
            "\n",
            " [[8.75857 ]]]\n"
          ],
          "name": "stdout"
        }
      ]
    },
    {
      "cell_type": "markdown",
      "metadata": {
        "id": "1WXCQU03oG8E",
        "colab_type": "text"
      },
      "source": [
        "## TrainとTestで分割する"
      ]
    },
    {
      "cell_type": "code",
      "metadata": {
        "id": "jhT2dxAI67_9",
        "colab_type": "code",
        "colab": {}
      },
      "source": [
        "X_train, y_train, X_test, y_test= [], [], [], []\n",
        "\n",
        "\n",
        "all_length = len(np_train_label)\n",
        "train_length = int(all_length*0.9)\n",
        "\n",
        "### 訓練用データセットを作成するループ\n",
        "X_train = np_train_input[:train_length]\n",
        "y_train = np_train_label[:train_length]\n",
        "\n",
        "### テスト用データセットを作成するループ\n",
        "X_test = np_train_input[train_length:]\n",
        "y_test = np_train_label[train_length:]\n"
      ],
      "execution_count": null,
      "outputs": []
    },
    {
      "cell_type": "code",
      "metadata": {
        "id": "lchf3qnkkALA",
        "colab_type": "code",
        "colab": {
          "base_uri": "https://localhost:8080/",
          "height": 1000
        },
        "outputId": "038b314d-b6df-414e-cbb4-927812ed5e16"
      },
      "source": [
        "\n",
        "print(inp_dim)\n",
        "print( len(X_train[0]) )\n",
        "print( len(X_train) )\n",
        "\n",
        "print(X_train[0])\n",
        "print(X_train[1])\n",
        "print(X_train[2])\n",
        "\n",
        "print(\"=================\")\n",
        "print(y_train[0])\n",
        "print(y_train[1])\n",
        "\n",
        "print(\"=================\")\n",
        "print( len(X_test[0]) )\n",
        "print( len(X_test) )\n",
        "\n",
        "print(X_test[0])\n",
        "print(X_test[1])\n",
        "print(X_test[2])\n",
        "print(\"=================\")\n",
        "print(y_test[0])\n",
        "print(y_test[1])"
      ],
      "execution_count": null,
      "outputs": [
        {
          "output_type": "stream",
          "text": [
            "3417\n",
            "10\n",
            "3065\n",
            "[[8.330864  8.345218  8.330864  8.340456 ]\n",
            " [8.345218  8.345218  8.328451  8.330864 ]\n",
            " [8.338066  8.345218  8.335671  8.34284  ]\n",
            " [8.338066  8.340456  8.328451  8.330864 ]\n",
            " [8.321178  8.328451  8.318742  8.323608 ]\n",
            " [8.318742  8.335671  8.313852  8.330864 ]\n",
            " [8.323608  8.33327   8.323608  8.323608 ]\n",
            " [8.328451  8.330864  8.3163    8.321178 ]\n",
            " [8.323608  8.328451  8.3163    8.3163   ]\n",
            " [8.3113985 8.313852  8.301521  8.304    ]]\n",
            "[[8.345218  8.345218  8.328451  8.330864 ]\n",
            " [8.338066  8.345218  8.335671  8.34284  ]\n",
            " [8.338066  8.340456  8.328451  8.330864 ]\n",
            " [8.321178  8.328451  8.318742  8.323608 ]\n",
            " [8.318742  8.335671  8.313852  8.330864 ]\n",
            " [8.323608  8.33327   8.323608  8.323608 ]\n",
            " [8.328451  8.330864  8.3163    8.321178 ]\n",
            " [8.323608  8.328451  8.3163    8.3163   ]\n",
            " [8.3113985 8.313852  8.301521  8.304    ]\n",
            " [8.304     8.313852  8.301521  8.308938 ]]\n",
            "[[8.338066  8.345218  8.335671  8.34284  ]\n",
            " [8.338066  8.340456  8.328451  8.330864 ]\n",
            " [8.321178  8.328451  8.318742  8.323608 ]\n",
            " [8.318742  8.335671  8.313852  8.330864 ]\n",
            " [8.323608  8.33327   8.323608  8.323608 ]\n",
            " [8.328451  8.330864  8.3163    8.321178 ]\n",
            " [8.323608  8.328451  8.3163    8.3163   ]\n",
            " [8.3113985 8.313852  8.301521  8.304    ]\n",
            " [8.304     8.313852  8.301521  8.308938 ]\n",
            " [8.306472  8.308938  8.301521  8.304    ]]\n",
            "=================\n",
            "[[8.304]]\n",
            "[[8.306472]]\n",
            "=================\n",
            "10\n",
            "341\n",
            "[[8.72972  8.732788 8.727616 8.730044]\n",
            " [8.728102 8.744488 8.727454 8.740336]\n",
            " [8.734239 8.741936 8.73311  8.736811]\n",
            " [8.735204 8.744169 8.734882 8.737774]\n",
            " [8.738575 8.749574 8.735525 8.748305]\n",
            " [8.753056 8.755737 8.74767  8.748305]\n",
            " [8.75005  8.750366 8.732627 8.736329]\n",
            " [8.729882 8.742414 8.728426 8.734882]\n",
            " [8.748305 8.757784 8.747034 8.754477]\n",
            " [8.75621  8.757784 8.75005  8.754003]]\n",
            "[[8.728102  8.744488  8.727454  8.740336 ]\n",
            " [8.734239  8.741936  8.73311   8.736811 ]\n",
            " [8.735204  8.744169  8.734882  8.737774 ]\n",
            " [8.738575  8.749574  8.735525  8.748305 ]\n",
            " [8.753056  8.755737  8.74767   8.748305 ]\n",
            " [8.75005   8.750366  8.732627  8.736329 ]\n",
            " [8.729882  8.742414  8.728426  8.734882 ]\n",
            " [8.748305  8.757784  8.747034  8.754477 ]\n",
            " [8.75621   8.757784  8.75005   8.754003 ]\n",
            " [8.745762  8.7489395 8.73311   8.738094 ]]\n",
            "[[8.734239  8.741936  8.73311   8.736811 ]\n",
            " [8.735204  8.744169  8.734882  8.737774 ]\n",
            " [8.738575  8.749574  8.735525  8.748305 ]\n",
            " [8.753056  8.755737  8.74767   8.748305 ]\n",
            " [8.75005   8.750366  8.732627  8.736329 ]\n",
            " [8.729882  8.742414  8.728426  8.734882 ]\n",
            " [8.748305  8.757784  8.747034  8.754477 ]\n",
            " [8.75621   8.757784  8.75005   8.754003 ]\n",
            " [8.745762  8.7489395 8.73311   8.738094 ]\n",
            " [8.742255  8.747193  8.740336  8.7443285]]\n",
            "=================\n",
            "[[8.745762]]\n",
            "[[8.742255]]\n"
          ],
          "name": "stdout"
        }
      ]
    },
    {
      "cell_type": "code",
      "metadata": {
        "id": "BKHP_dr7Hz_r",
        "colab_type": "code",
        "colab": {
          "base_uri": "https://localhost:8080/",
          "height": 85
        },
        "outputId": "468ab03f-b8ec-4be7-8a08-a50b7ba41ada"
      },
      "source": [
        "print(X_train.shape)\n",
        "print(y_train.shape)\n",
        "\n",
        "print(X_test.shape)\n",
        "print(y_test.shape)\n"
      ],
      "execution_count": null,
      "outputs": [
        {
          "output_type": "stream",
          "text": [
            "(3065, 10, 4)\n",
            "(3065, 1, 1)\n",
            "(341, 10, 4)\n",
            "(341, 1, 1)\n"
          ],
          "name": "stdout"
        }
      ]
    },
    {
      "cell_type": "markdown",
      "metadata": {
        "id": "bX6LPWt6RZXq",
        "colab_type": "text"
      },
      "source": [
        "### dataloader メソッドで、tensorに変更してくれるから必要なし"
      ]
    },
    {
      "cell_type": "code",
      "metadata": {
        "id": "RggK0UmAkALE",
        "colab_type": "code",
        "colab": {
          "base_uri": "https://localhost:8080/",
          "height": 34
        },
        "outputId": "0602ceb3-0196-432f-b0f3-7e7756fe0db6"
      },
      "source": [
        "\"\"\"\n",
        "X_train = torch.tensor(X_train)\n",
        "y_train = torch.tensor(y_train)\n",
        "\n",
        "X_test = torch.tensor(X_test)\n",
        "y_test = torch.tensor(y_test)\n",
        "\"\"\""
      ],
      "execution_count": null,
      "outputs": [
        {
          "output_type": "execute_result",
          "data": {
            "text/plain": [
              "'\\nX_train = torch.tensor(X_train)\\ny_train = torch.tensor(y_train)\\n\\nX_test = torch.tensor(X_test)\\ny_test = torch.tensor(y_test)\\n'"
            ]
          },
          "metadata": {
            "tags": []
          },
          "execution_count": 29
        }
      ]
    },
    {
      "cell_type": "markdown",
      "metadata": {
        "id": "JNe8yTqekALH",
        "colab_type": "text"
      },
      "source": [
        "## Dataを組むまでの流れ\n",
        "1. Datasetクラスを作成する \n",
        "    1. 入力データと正解データにわける tensorにすること pd->np->tensorに変換する必要がある\n",
        "    1. \\__len__と\\__getitem__を用意すること\n",
        "1. Dataloaderを準備  \n",
        "Datasetクラスで作ったやつをinputするだけなので難易度は低い\n",
        "    "
      ]
    },
    {
      "cell_type": "markdown",
      "metadata": {
        "id": "9RAc3k6_kALI",
        "colab_type": "text"
      },
      "source": [
        " ### datasetクラスを作成する"
      ]
    },
    {
      "cell_type": "code",
      "metadata": {
        "id": "W0i-tzkkkALI",
        "colab_type": "code",
        "colab": {}
      },
      "source": [
        "class Dataset(torch.utils.data.Dataset):\n",
        "    def __init__(self,  X , y , mode='train' ,transform = None):\n",
        "        self.data = X\n",
        "        self.label = y\n",
        "        self.num = len(X)\n",
        "        self.mode= mode\n",
        "        self.transform = transform\n",
        "       \n",
        "    \n",
        "    def __len__(self):                         ###データの大きさをreturn するlenメソッドを必ず作成する必要がある\n",
        "        return self.num\n",
        "    \n",
        "    def __getitem__(self, idx):           ###正解データと入力データが対となるようなgetitemメソッドを必ず作成する必要がある\n",
        "        \n",
        "        out_data = self.data[idx]\n",
        "        out_label =  self.label[idx]\n",
        "        \n",
        "        return out_data, out_label\n",
        "        "
      ],
      "execution_count": null,
      "outputs": []
    },
    {
      "cell_type": "markdown",
      "metadata": {
        "id": "rR62zoxqkALL",
        "colab_type": "text"
      },
      "source": [
        "### XとyをDatasetクラスを継承させて作った自作クラスにinput"
      ]
    },
    {
      "cell_type": "code",
      "metadata": {
        "id": "kAZCaxtCkALM",
        "colab_type": "code",
        "colab": {}
      },
      "source": [
        "trainset = Dataset( X_train , y_train )"
      ],
      "execution_count": null,
      "outputs": []
    },
    {
      "cell_type": "code",
      "metadata": {
        "id": "-gC5qcG7IdA1",
        "colab_type": "code",
        "colab": {
          "base_uri": "https://localhost:8080/",
          "height": 34
        },
        "outputId": "a1ebb689-f88c-4513-c911-1eff750c5262"
      },
      "source": [
        "#trainset.shape\n",
        "X_train.shape"
      ],
      "execution_count": null,
      "outputs": [
        {
          "output_type": "execute_result",
          "data": {
            "text/plain": [
              "(3065, 10, 4)"
            ]
          },
          "metadata": {
            "tags": []
          },
          "execution_count": 32
        }
      ]
    },
    {
      "cell_type": "code",
      "metadata": {
        "id": "K_P-EHNRkALP",
        "colab_type": "code",
        "colab": {}
      },
      "source": [
        "dataloader = torch.utils.data.DataLoader(dataset=trainset, batch_size = 32 , shuffle=True)"
      ],
      "execution_count": null,
      "outputs": []
    },
    {
      "cell_type": "markdown",
      "metadata": {
        "id": "ZJ11_PDtkALR",
        "colab_type": "text"
      },
      "source": [
        "### 中身の確認\n",
        "### dataloaderを使用したとしてもshapeは、(バッチ、timestep、説明変数次元)の順になる\n",
        "dataloaderを使用すると、勝手にnumpy型からtorch型に変更されている。"
      ]
    },
    {
      "cell_type": "code",
      "metadata": {
        "id": "BqZq7WQ6kALS",
        "colab_type": "code",
        "colab": {}
      },
      "source": [
        "dataiter = iter(dataloader)\n",
        "\n",
        "X, labal = dataiter.next()"
      ],
      "execution_count": null,
      "outputs": []
    },
    {
      "cell_type": "code",
      "metadata": {
        "id": "wSSJqtRmkALU",
        "colab_type": "code",
        "colab": {
          "base_uri": "https://localhost:8080/",
          "height": 68
        },
        "outputId": "22324d4c-8182-453f-a0ba-b8d757334757"
      },
      "source": [
        "print(X.shape)\n",
        "print(len(X_train))\n",
        "print(len(y_train))"
      ],
      "execution_count": null,
      "outputs": [
        {
          "output_type": "stream",
          "text": [
            "torch.Size([32, 10, 4])\n",
            "3065\n",
            "3065\n"
          ],
          "name": "stdout"
        }
      ]
    },
    {
      "cell_type": "markdown",
      "metadata": {
        "id": "x39Y_i0TkALe",
        "colab_type": "text"
      },
      "source": [
        "# モデルの構築\n",
        "* input 層\n",
        "* middle 層\n",
        "* output 層"
      ]
    },
    {
      "cell_type": "code",
      "metadata": {
        "id": "loNbyOFrkALf",
        "colab_type": "code",
        "colab": {}
      },
      "source": [
        "import torch\n",
        "import torch.nn as nn\n",
        "\n",
        "\n",
        "class Predictor(nn.Module):\n",
        "    def __init__(self, inputDim, hiddenDim, outputDim):\n",
        "        super(Predictor, self).__init__()\n",
        "        \n",
        "        self.lstm = nn.LSTM(input_size = inputDim,\n",
        "                            hidden_size = hiddenDim,\n",
        "                            batch_first = True)\n",
        "                           \n",
        "        self.lstm_output_layer = nn.Linear(hiddenDim, outputDim)\n",
        "        #self.sigmoid_out = nn.Linear(outputDim, 4)    # labelは one hotベクトルなので outputを4クラスに分けられるようにする\n",
        "        #self.softmax = nn.LogSoftmax(dim=1)\n",
        "    \n",
        "    def forward(self, inputs, hidden0=None):\n",
        "        #print(inputs) 　　　　# このinputsには1batchが入る。サイズが4なら 4 ,50, 1 \n",
        "        output, (hidden, cell) = self.lstm(inputs, hidden0) #LSTM層\n",
        "        output = self.lstm_output_layer(output[:, -1, :]) #全結合層\n",
        "        #output = self.sigmoid_out(output)\n",
        "        return output\n"
      ],
      "execution_count": null,
      "outputs": []
    },
    {
      "cell_type": "code",
      "metadata": {
        "id": "TncCxqQ5kALh",
        "colab_type": "code",
        "colab": {
          "base_uri": "https://localhost:8080/",
          "height": 85
        },
        "outputId": "9ce99838-a882-4a91-b52c-26ba97b6eeac"
      },
      "source": [
        "#model = Predictor(4,64,4)    # inputの次元は? 株価onlyだから1次元となるのか、それとも時間を5個分とってくるから 5次元？？\n",
        "model = Predictor(input_dim,64,1).to(device)     ### 隠れ層は50で行う必要がある\n",
        "model"
      ],
      "execution_count": null,
      "outputs": [
        {
          "output_type": "execute_result",
          "data": {
            "text/plain": [
              "Predictor(\n",
              "  (lstm): LSTM(4, 64, batch_first=True)\n",
              "  (lstm_output_layer): Linear(in_features=64, out_features=1, bias=True)\n",
              ")"
            ]
          },
          "metadata": {
            "tags": []
          },
          "execution_count": 37
        }
      ]
    },
    {
      "cell_type": "code",
      "metadata": {
        "id": "eHuV8ECbkALk",
        "colab_type": "code",
        "colab": {}
      },
      "source": [
        "# 損失関数\n",
        "criterion = nn.MSELoss()      ### 損失化関数は二乗誤差を設定。　回帰モデルなのでOK\n",
        "#criterion = nn.CrossEntropyLoss() #ソフトマックス交差エントロピー\n",
        "\n",
        "\n",
        "\n",
        "# 最適化関数\n",
        "optimizer = torch.optim.SGD(model.parameters(), lr=0.001)     ### lrは学習率"
      ],
      "execution_count": null,
      "outputs": []
    },
    {
      "cell_type": "markdown",
      "metadata": {
        "id": "TASWMi6ckALo",
        "colab_type": "text"
      },
      "source": [
        "# dataloaderを使った学習"
      ]
    },
    {
      "cell_type": "code",
      "metadata": {
        "id": "avAPnenCkALp",
        "colab_type": "code",
        "colab": {
          "base_uri": "https://localhost:8080/",
          "height": 105
        },
        "outputId": "e149f46e-67d5-4002-9deb-06ff19ef2ca7"
      },
      "source": [
        "ls_loss = []\n",
        "model.train()\n",
        "\n",
        "\n",
        "for epoch in range(3):\n",
        "    \n",
        "    model.train()\n",
        "    for i, (X, label) in enumerate(dataloader):\n",
        "\n",
        "\n",
        "        X_torch = X.to(device)\n",
        "        label_torch = label.to(device)\n",
        "\n",
        "\n",
        "\n",
        "        #print(\"X shape \",X_torch.shape)\n",
        "        #print(\"label shape\",label_torch.shape)\n",
        "        #print(\"label\",label_torch)\n",
        "        \n",
        "\n",
        "        #label_torch = label_torch -1  ## なんの意味があるがよくわかっていないが、損失関数を計算するときにこれを入れないとエラーになる\n",
        "                                      ## criterion()にて、 index error Target 4 is out of bounds\n",
        "\n",
        "\n",
        "        # 勾配の初期化\n",
        "        optimizer.zero_grad()     \n",
        "        \n",
        "        y_pred = model( X_torch )          ### ニューラルネットで計算したoutputを保存\n",
        "        \n",
        "        #print(\"y_pred : \",y_pred)\n",
        "        #print(\"y_pred shape: \",y_pred.shape)\n",
        "        #print(\"label_torch\" ,label_torch)\n",
        "        #print(\"label_torch shape\" ,label_torch.shape)\n",
        "\n",
        "        loss = criterion(y_pred, label_torch) ###教師データとoutputから損失関数を計算\n",
        "        #break\n",
        "\n",
        "        # バッチごとのロスを記録する\n",
        "        ls_loss.append(loss)\n",
        "        \n",
        "        # 勾配の計算\n",
        "        loss.backward()           ### 損失関数を微分 = 勾配の計算\n",
        "        \n",
        "        # パラメータの更新\n",
        "        optimizer.step()           \n",
        "        \n",
        "        #print('*** by optimizer.step()')\n",
        "    "
      ],
      "execution_count": null,
      "outputs": [
        {
          "output_type": "stream",
          "text": [
            "/usr/local/lib/python3.6/dist-packages/torch/nn/modules/loss.py:432: UserWarning: Using a target size (torch.Size([32, 1, 1])) that is different to the input size (torch.Size([32, 1])). This will likely lead to incorrect results due to broadcasting. Please ensure they have the same size.\n",
            "  return F.mse_loss(input, target, reduction=self.reduction)\n",
            "/usr/local/lib/python3.6/dist-packages/torch/nn/modules/loss.py:432: UserWarning: Using a target size (torch.Size([25, 1, 1])) that is different to the input size (torch.Size([25, 1])). This will likely lead to incorrect results due to broadcasting. Please ensure they have the same size.\n",
            "  return F.mse_loss(input, target, reduction=self.reduction)\n"
          ],
          "name": "stderr"
        }
      ]
    },
    {
      "cell_type": "markdown",
      "metadata": {
        "id": "RpLr2cdtkALs",
        "colab_type": "text"
      },
      "source": [
        "### ロスの確認 dataloader"
      ]
    },
    {
      "cell_type": "code",
      "metadata": {
        "id": "8yEzoyfNkALs",
        "colab_type": "code",
        "colab": {
          "base_uri": "https://localhost:8080/",
          "height": 281
        },
        "outputId": "ce95bf50-6418-4363-b5c6-1df1dcd9b1eb"
      },
      "source": [
        "plt.figure()\n",
        "plt.plot(ls_loss,label=\"loss\")\n",
        "plt.title('Optimization function error') # 最適化関数の誤差\n",
        "plt.legend()\n",
        "plt.grid()"
      ],
      "execution_count": null,
      "outputs": [
        {
          "output_type": "display_data",
          "data": {
            "image/png": "[encoded data removed]",
            "text/plain": [
              "<Figure size 432x288 with 1 Axes>"
            ]
          },
          "metadata": {
            "tags": [],
            "needs_background": "light"
          }
        }
      ]
    },
    {
      "cell_type": "markdown",
      "metadata": {
        "id": "FiupQO8OkALx",
        "colab_type": "text"
      },
      "source": [
        "## できあがったmodelでテストを行ってみる"
      ]
    },
    {
      "cell_type": "code",
      "metadata": {
        "id": "EoCnpLAUkALx",
        "colab_type": "code",
        "colab": {}
      },
      "source": [
        "testset = Dataset( X_test , y_test )\n",
        "dataloader = torch.utils.data.DataLoader(dataset=testset, batch_size = 1, shuffle=True)"
      ],
      "execution_count": null,
      "outputs": []
    },
    {
      "cell_type": "code",
      "metadata": {
        "id": "No4-WpTDkALz",
        "colab_type": "code",
        "colab": {}
      },
      "source": [
        "dataiter = iter(dataloader)\n",
        "\n",
        "X, labal = dataiter.next()"
      ],
      "execution_count": null,
      "outputs": []
    },
    {
      "cell_type": "markdown",
      "metadata": {
        "id": "JQi9OVQa7yT9",
        "colab_type": "text"
      },
      "source": [
        "## モデルで計算した結果とラベルを比較するために、numpy flatに入れ込む"
      ]
    },
    {
      "cell_type": "code",
      "metadata": {
        "id": "iWNJCxT2kAL1",
        "colab_type": "code",
        "colab": {}
      },
      "source": [
        "\n",
        "y_testresult = np.array([])\n",
        "com_label = np.array([])\n",
        "model.eval()\n",
        "\n",
        "\n",
        "for i, (X, label) in enumerate(dataloader):\n",
        "\n",
        "    optimizer.zero_grad()\n",
        "    \n",
        "    y = model(X)\n",
        "    l = label\n",
        "\n",
        "    #print(\"label\",label)\n",
        "    #print(y)\n",
        "\n",
        "    y = y.to('cpu').detach().numpy().copy()\n",
        "    l = l.to('cpu').detach().numpy().copy()\n",
        "\n",
        "    y_testresult = np.append(y_testresult,y)\n",
        "    com_label = np.append(com_label,l)\n"
      ],
      "execution_count": null,
      "outputs": []
    },
    {
      "cell_type": "markdown",
      "metadata": {
        "id": "htByIYdP8SFI",
        "colab_type": "text"
      },
      "source": [
        "## 結果を可視化する。 "
      ]
    },
    {
      "cell_type": "code",
      "metadata": {
        "id": "crnYG_U6nNgw",
        "colab_type": "code",
        "colab": {
          "base_uri": "https://localhost:8080/",
          "height": 265
        },
        "outputId": "7479fdca-bb40-47fb-e3f6-08ddbacc8bd9"
      },
      "source": [
        "plt.figure()\n",
        "plt.plot(y_testresult,label=\"pred\")\n",
        "plt.plot(com_label,label=\"label\")\n",
        "plt.legend()\n",
        "plt.grid()"
      ],
      "execution_count": null,
      "outputs": [
        {
          "output_type": "display_data",
          "data": {
            "image/png": "[encoded data removed]",
            "text/plain": [
              "<Figure size 432x288 with 1 Axes>"
            ]
          },
          "metadata": {
            "tags": [],
            "needs_background": "light"
          }
        }
      ]
    },
    {
      "cell_type": "markdown",
      "metadata": {
        "id": "dISWFhEN8a-i",
        "colab_type": "text"
      },
      "source": [
        "# 対数変換を行って学習したため、指数変換し元に戻す"
      ]
    },
    {
      "cell_type": "code",
      "metadata": {
        "id": "n73CglU9nOMN",
        "colab_type": "code",
        "colab": {}
      },
      "source": [
        "exp_y_testresult = np.exp(y_testresult)\n",
        "exp_com_label = np.exp(com_label)"
      ],
      "execution_count": null,
      "outputs": []
    },
    {
      "cell_type": "code",
      "metadata": {
        "id": "9oYE7kfG1wsL",
        "colab_type": "code",
        "colab": {
          "base_uri": "https://localhost:8080/",
          "height": 265
        },
        "outputId": "66623344-a144-43f7-8b47-d038405c8461"
      },
      "source": [
        "plt.figure()\n",
        "plt.plot(exp_y_testresult,label=\"pred\")\n",
        "plt.plot(exp_com_label,label=\"label\")\n",
        "plt.legend()\n",
        "plt.grid()"
      ],
      "execution_count": null,
      "outputs": [
        {
          "output_type": "display_data",
          "data": {
            "image/png": "[encoded data removed]",
            "text/plain": [
              "<Figure size 432x288 with 1 Axes>"
            ]
          },
          "metadata": {
            "tags": [],
            "needs_background": "light"
          }
        }
      ]
    },
    {
      "cell_type": "markdown",
      "metadata": {
        "id": "55U-I_998nft",
        "colab_type": "text"
      },
      "source": [
        "# 結果は常に低く見積もってしまっているが、トレンドはつかめている？？\n",
        "# 一部分だけを切り取ってグラフを拡大する\n",
        "randomで幅25を確認する"
      ]
    },
    {
      "cell_type": "code",
      "metadata": {
        "id": "wUIzhCF111XL",
        "colab_type": "code",
        "colab": {
          "base_uri": "https://localhost:8080/",
          "height": 265
        },
        "outputId": "2dfc1e49-7910-4445-e149-d4c8edc14f31"
      },
      "source": [
        "from numpy.random import *\n",
        "\n",
        "\n",
        "scope_size = 25\n",
        "\n",
        "len_ = len(y_testresult)\n",
        "random_scope = len_ - scope_size\n",
        "\n",
        "rand_start = randint(random_scope)\n",
        "\n",
        "rand_pred = exp_y_testresult[rand_start:rand_start+scope_size]\n",
        "rand_label = exp_com_label[rand_start:rand_start+scope_size]\n",
        "\n",
        "plt.figure()\n",
        "plt.plot(rand_pred,label=\"pred\")\n",
        "plt.plot(rand_label,label=\"label\")\n",
        "plt.legend()\n",
        "plt.grid()\n"
      ],
      "execution_count": null,
      "outputs": [
        {
          "output_type": "display_data",
          "data": {
            "image/png": "[encoded data removed]",
            "text/plain": [
              "<Figure size 432x288 with 1 Axes>"
            ]
          },
          "metadata": {
            "tags": [],
            "needs_background": "light"
          }
        }
      ]
    },
    {
      "cell_type": "markdown",
      "metadata": {
        "id": "U1Ku2fj69GZm",
        "colab_type": "text"
      },
      "source": [
        "## 出来上がったモデルを保存する"
      ]
    },
    {
      "cell_type": "code",
      "metadata": {
        "id": "4PSrO3be3oGH",
        "colab_type": "code",
        "colab": {}
      },
      "source": [
        "torch.save(model.state_dict(), 'StockRegression.ckpt')"
      ],
      "execution_count": null,
      "outputs": []
    },
    {
      "cell_type": "code",
      "metadata": {
        "id": "GJHk0XJS5v6F",
        "colab_type": "code",
        "colab": {
          "base_uri": "https://localhost:8080/",
          "height": 34
        },
        "outputId": "1b20fe68-8d60-4b16-9f94-d3a4cd698561"
      },
      "source": [
        "model_from_SavePoint = Predictor(input_dim,64,1).to(device)\n",
        "model_from_SavePoint.load_state_dict(torch.load('StockRegression.ckpt'))"
      ],
      "execution_count": null,
      "outputs": [
        {
          "output_type": "execute_result",
          "data": {
            "text/plain": [
              "<All keys matched successfully>"
            ]
          },
          "metadata": {
            "tags": []
          },
          "execution_count": 49
        }
      ]
    },
    {
      "cell_type": "code",
      "metadata": {
        "id": "7HlMQgu_52eI",
        "colab_type": "code",
        "colab": {}
      },
      "source": [
        ""
      ],
      "execution_count": null,
      "outputs": []
    }
  ]
}