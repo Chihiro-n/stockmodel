{
  "nbformat": 4,
  "nbformat_minor": 0,
  "metadata": {
    "file_extension": ".py",
    "kernelspec": {
      "display_name": "Python 3.7.5 64-bit",
      "language": "python",
      "name": "python37564bit8eca2ece5df347009757f05252a386a2"
    },
    "language_info": {
      "codemirror_mode": {
        "name": "ipython",
        "version": 3
      },
      "file_extension": ".py",
      "mimetype": "text/x-python",
      "name": "python",
      "nbconvert_exporter": "python",
      "pygments_lexer": "ipython3",
      "version": "3.7.5"
    },
    "mimetype": "text/x-python",
    "name": "python",
    "npconvert_exporter": "python",
    "pygments_lexer": "ipython3",
    "version": 3,
    "colab": {
      "name": "LSTM_Stock_Classify.ipynb",
      "provenance": [],
      "private_outputs": true,
      "collapsed_sections": [],
      "include_colab_link": true
    }
  },
  "cells": [
    {
      "cell_type": "markdown",
      "metadata": {
        "id": "view-in-github",
        "colab_type": "text"
      },
      "source": [
        "<a href=\"https://colab.research.google.com/github/Chihiro-n/stockmodel/blob/master/LSTM_Stock_Classify.ipynb\" target=\"_parent\"><img src=\"https://colab.research.google.com/assets/colab-badge.svg\" alt=\"Open In Colab\"/></a>"
      ]
    },
    {
      "cell_type": "markdown",
      "metadata": {
        "id": "k01qC0e6kAKw",
        "colab_type": "text"
      },
      "source": [
        "# NNで株価を予測モデルを作成する\n",
        "rev2:入力データを一次元に限定"
      ]
    },
    {
      "cell_type": "code",
      "metadata": {
        "id": "eKdxHDxXkAKx",
        "colab_type": "code",
        "colab": {}
      },
      "source": [
        "import numpy as np\n",
        "import pandas as pd\n",
        "import matplotlib.pyplot as plt\n",
        "import seaborn as sns\n",
        "%matplotlib inline\n",
        "import time\n",
        "from tqdm import tqdm"
      ],
      "execution_count": null,
      "outputs": []
    },
    {
      "cell_type": "markdown",
      "metadata": {
        "id": "ww8iAWfUkAK2",
        "colab_type": "text"
      },
      "source": [
        "# LSTMモデルを組む"
      ]
    },
    {
      "cell_type": "code",
      "metadata": {
        "id": "St3RbwyhkAK3",
        "colab_type": "code",
        "colab": {}
      },
      "source": [
        "import torch\n",
        "import torch.nn as nn\n",
        "import torch.nn.functional as F\n",
        "import torch.optim as optim\n",
        "from torch.utils.data import Dataset, DataLoader\n",
        "from sklearn.model_selection import train_test_split\n",
        "import numpy as np"
      ],
      "execution_count": null,
      "outputs": []
    },
    {
      "cell_type": "code",
      "metadata": {
        "id": "Afwmx2hdkaYw",
        "colab_type": "code",
        "colab": {}
      },
      "source": [
        "from google.colab import drive\n",
        "drive.mount('/content/drive')"
      ],
      "execution_count": null,
      "outputs": []
    },
    {
      "cell_type": "code",
      "metadata": {
        "id": "_Wcaqu5ykuTF",
        "colab_type": "code",
        "colab": {}
      },
      "source": [
        "%pwd"
      ],
      "execution_count": null,
      "outputs": []
    },
    {
      "cell_type": "code",
      "metadata": {
        "id": "y6DyrUc8l6wc",
        "colab_type": "code",
        "colab": {}
      },
      "source": [
        "%cd /content/drive/My Drive/Colab Notebooks"
      ],
      "execution_count": null,
      "outputs": []
    },
    {
      "cell_type": "code",
      "metadata": {
        "id": "k-TqqQtdmdap",
        "colab_type": "code",
        "colab": {}
      },
      "source": [
        "%ls"
      ],
      "execution_count": null,
      "outputs": []
    },
    {
      "cell_type": "code",
      "metadata": {
        "id": "PKskbco5jIrk",
        "colab_type": "code",
        "colab": {}
      },
      "source": [
        "!ps aux\n",
        "!kill -9 <pid>"
      ],
      "execution_count": null,
      "outputs": []
    },
    {
      "cell_type": "markdown",
      "metadata": {
        "id": "H4miOBaYJdRd",
        "colab_type": "text"
      },
      "source": [
        "# GPUセットのためのおまじない"
      ]
    },
    {
      "cell_type": "code",
      "metadata": {
        "id": "X6mO-7itJb_K",
        "colab_type": "code",
        "colab": {}
      },
      "source": [
        "device = torch.device('cuda' if torch.cuda.is_available() else 'cpu')"
      ],
      "execution_count": null,
      "outputs": []
    },
    {
      "cell_type": "markdown",
      "metadata": {
        "id": "wYjRDZdRkAK7",
        "colab_type": "text"
      },
      "source": [
        "# データセットを作る\n",
        "### PytorchのLSTMに学習させるためのデータは次元の工夫が必要であり、二重リストにしないとエラーになる\n",
        "### 訓練用とテスト用にデータを分ける。まず二重リストであるtmpを作ってからそれを分割した"
      ]
    },
    {
      "cell_type": "code",
      "metadata": {
        "id": "6FOUg_IgkAK7",
        "colab_type": "code",
        "colab": {}
      },
      "source": [
        "window = 100   # データは日足\n",
        "input_dim = 4\n",
        "\n",
        "#csvfile = open('/content/drive/My Drive/data-text.csv', 'r', encoding='utf-8')\n",
        "#df_train_law = pd.read_csv('./data/stock/label_difflog_2005-2018.csv' ,index_col=0)\n",
        "df_train_law = pd.read_csv('./data/stock/class_label_difflog_2005-2018.csv' ,index_col=0)\n",
        "\n",
        "df_train_law.head()\n",
        "\n",
        "inp_dim = len(df_train_law)\n",
        "\n",
        "train_endindex = int(inp_dim*0.9)\n",
        "\n"
      ],
      "execution_count": null,
      "outputs": []
    },
    {
      "cell_type": "code",
      "metadata": {
        "id": "KGWCwwlB7BT6",
        "colab_type": "code",
        "colab": {}
      },
      "source": [
        "print(df_train_law.head())"
      ],
      "execution_count": null,
      "outputs": []
    },
    {
      "cell_type": "markdown",
      "metadata": {
        "id": "mny2bFTXe8bS",
        "colab_type": "text"
      },
      "source": [
        "### inputデータとして、株価をlogに加工した値のみを取り出す。\n",
        "最初の行だけは削除しておく。階差をlabelとしているため"
      ]
    },
    {
      "cell_type": "code",
      "metadata": {
        "id": "kIe4M1zc_NzK",
        "colab_type": "code",
        "colab": {}
      },
      "source": [
        "if input_dim == 4:\n",
        "\n",
        "  df_input = df_train_law.iloc[:, 4:8 ]   # 次元が4つの場合\n",
        "elif input_dim ==1:\n",
        "  df_input = df_train_law.iloc[:, 4 ]      # 次元を始値に限定する場合\n",
        "\n",
        "#nd_cast = open.astype(np.float32)"
      ],
      "execution_count": null,
      "outputs": []
    },
    {
      "cell_type": "code",
      "metadata": {
        "id": "zgTI_c9BAElx",
        "colab_type": "code",
        "colab": {}
      },
      "source": [
        "df_input = df_input.drop('2005-01-05', axis=0)"
      ],
      "execution_count": null,
      "outputs": []
    },
    {
      "cell_type": "code",
      "metadata": {
        "id": "wiGqTrA4gLYf",
        "colab_type": "code",
        "colab": {}
      },
      "source": [
        "df_input"
      ],
      "execution_count": null,
      "outputs": []
    },
    {
      "cell_type": "markdown",
      "metadata": {
        "id": "8hGHUf8qLyTk",
        "colab_type": "text"
      },
      "source": [
        "## 念の為、inputdataを確認しておく"
      ]
    },
    {
      "cell_type": "code",
      "metadata": {
        "id": "GFU21SntL2F6",
        "colab_type": "code",
        "colab": {}
      },
      "source": [
        "# \n",
        "#plt.figure()\n",
        "#plt.plot(df_input,label=\"loss\")\n",
        "#plt.legend()\n",
        "#plt.grid()"
      ],
      "execution_count": null,
      "outputs": []
    },
    {
      "cell_type": "code",
      "metadata": {
        "id": "5359gHBbMy-D",
        "colab_type": "code",
        "colab": {}
      },
      "source": [
        "sns.countplot(x=\"label_class\", data=df_train_law)\n",
        "plt.show()"
      ],
      "execution_count": null,
      "outputs": []
    },
    {
      "cell_type": "markdown",
      "metadata": {
        "id": "8be2luh4Itum",
        "colab_type": "text"
      },
      "source": [
        "### inputデータを作成する。\n",
        "説明変数4つ　が 50日分.  \n",
        "ループは50を引いておく  \n",
        "numpyに変更しておく"
      ]
    },
    {
      "cell_type": "code",
      "metadata": {
        "id": "pBVR3b2V_VK0",
        "colab_type": "code",
        "colab": {}
      },
      "source": [
        "#train_input = np.array([])\n",
        "train_input = []\n",
        "\n",
        "for i in range(len(df_input)-window):\n",
        "  #train_input = np.append( train_input, df_input.iloc[i: i+window] )\n",
        "  train_input.append( df_input.iloc[i: i+window].values )"
      ],
      "execution_count": null,
      "outputs": []
    },
    {
      "cell_type": "markdown",
      "metadata": {
        "id": "VFN-Tux0IrSQ",
        "colab_type": "text"
      },
      "source": [
        "### 中身チェック"
      ]
    },
    {
      "cell_type": "code",
      "metadata": {
        "id": "ROrwDT0QAY0M",
        "colab_type": "code",
        "colab": {}
      },
      "source": [
        "print(len(train_input))\n",
        "print(type(train_input))\n",
        "#train_input[0]\n",
        "#print(train_input.shape)\n"
      ],
      "execution_count": null,
      "outputs": []
    },
    {
      "cell_type": "markdown",
      "metadata": {
        "id": "9fZNcKv4NCQ_",
        "colab_type": "text"
      },
      "source": [
        "### numpyに変更し、サイズもチェック"
      ]
    },
    {
      "cell_type": "code",
      "metadata": {
        "id": "idUDB0IkH_ER",
        "colab_type": "code",
        "colab": {}
      },
      "source": [
        "np_train_input = np.array(train_input)\n",
        "np_train_input = np_train_input.astype(np.float32)  ### float型に変更しておかないと、modelに入力する際にerrorが出る　※doubleはNG\n",
        "\n",
        "print(np_train_input.shape)\n",
        "\n",
        "np_train_input\n"
      ],
      "execution_count": null,
      "outputs": []
    },
    {
      "cell_type": "markdown",
      "metadata": {
        "id": "1gxQ7xSl9EBh",
        "colab_type": "text"
      },
      "source": [
        "## input次元が1のときだけ必要になる。shapeを( len , timestep , 1 )にするため。\n",
        "※reshapeをしない場合は(len , timestep)だけとなってエラーになる"
      ]
    },
    {
      "cell_type": "code",
      "metadata": {
        "id": "0ahK9XSe9fFG",
        "colab_type": "code",
        "colab": {}
      },
      "source": [
        "np_train_input = np_train_input.reshape(-1,window,input_dim)\n",
        "print(np_train_input.shape)"
      ],
      "execution_count": null,
      "outputs": []
    },
    {
      "cell_type": "markdown",
      "metadata": {
        "id": "MWXzLw_Lmiji",
        "colab_type": "text"
      },
      "source": [
        "# labelデータも numpyに変更しておく\n",
        "labalはonehot vectorなので、(3366,1,4)になるはず -> X ※pytorchのクロスエントロピーロスはエントロピーロスはonehotvectorに対応しておらずクラスラベルにする"
      ]
    },
    {
      "cell_type": "code",
      "metadata": {
        "id": "01FncddLm2yr",
        "colab_type": "code",
        "colab": {}
      },
      "source": [
        "df_label = df_train_law.iloc[:, 16 ]\n",
        "df_label\n",
        "#nd_cast = open.astype(np.float32)"
      ],
      "execution_count": null,
      "outputs": []
    },
    {
      "cell_type": "code",
      "metadata": {
        "id": "uctrXWc-nGT5",
        "colab_type": "code",
        "colab": {}
      },
      "source": [
        "df_label = df_label.drop('2005-01-05', axis=0)"
      ],
      "execution_count": null,
      "outputs": []
    },
    {
      "cell_type": "code",
      "metadata": {
        "id": "HyHf34xEvYYI",
        "colab_type": "code",
        "colab": {}
      },
      "source": [
        "type(df_label)"
      ],
      "execution_count": null,
      "outputs": []
    },
    {
      "cell_type": "code",
      "metadata": {
        "id": "9Lv_9UoUnRZE",
        "colab_type": "code",
        "colab": {}
      },
      "source": [
        "train_label = []\n",
        "\n",
        "for i in range(len(df_label)-window):\n",
        "  #train_label.append( df_label.iloc[window + i].values )\n",
        "  train_label.append( df_label.iloc[window + i] )"
      ],
      "execution_count": null,
      "outputs": []
    },
    {
      "cell_type": "code",
      "metadata": {
        "id": "WG94bDqXnkw6",
        "colab_type": "code",
        "colab": {}
      },
      "source": [
        "np_train_label_ = np.array(train_label)\n",
        "print(np_train_label_)\n",
        "\n",
        "np_one = np.ones(len(np_train_label_))\n",
        "\n",
        "np_train_label = np_train_label_ - np_one\n",
        "print(np_train_label)\n",
        "\n",
        "\n",
        "np_train_label = np_train_label.astype(np.float32)\n",
        "np_train_label.shape\n"
      ],
      "execution_count": null,
      "outputs": []
    },
    {
      "cell_type": "markdown",
      "metadata": {
        "id": "qiiBOofez7rT",
        "colab_type": "text"
      },
      "source": [
        "## Shapeを変更する、 二重リストの型へ\n"
      ]
    },
    {
      "cell_type": "code",
      "metadata": {
        "id": "HHYW0R1Iznx2",
        "colab_type": "code",
        "colab": {}
      },
      "source": [
        "#np_train_label = np_train_label.reshape(-1,1)"
      ],
      "execution_count": null,
      "outputs": []
    },
    {
      "cell_type": "code",
      "metadata": {
        "id": "31zdMcj8zurW",
        "colab_type": "code",
        "colab": {}
      },
      "source": [
        "print(np_train_label.shape)\n",
        "print(np_train_label)\n"
      ],
      "execution_count": null,
      "outputs": []
    },
    {
      "cell_type": "markdown",
      "metadata": {
        "id": "1WXCQU03oG8E",
        "colab_type": "text"
      },
      "source": [
        "## TrainとTestで分割する"
      ]
    },
    {
      "cell_type": "code",
      "metadata": {
        "id": "jhT2dxAI67_9",
        "colab_type": "code",
        "colab": {}
      },
      "source": [
        "X_train, y_train, X_test, y_test= [], [], [], []\n",
        "\n",
        "\n",
        "all_length = len(np_train_label)\n",
        "train_length = int(all_length*0.9)\n",
        "\n",
        "### 訓練用データセットを作成するループ\n",
        "X_train = np_train_input[:train_length]\n",
        "y_train = np_train_label[:train_length]\n",
        "\n",
        "### テスト用データセットを作成するループ\n",
        "X_test = np_train_input[train_length:]\n",
        "y_test = np_train_label[train_length:]\n"
      ],
      "execution_count": null,
      "outputs": []
    },
    {
      "cell_type": "code",
      "metadata": {
        "id": "lchf3qnkkALA",
        "colab_type": "code",
        "colab": {}
      },
      "source": [
        "\n",
        "print(inp_dim)\n",
        "print( len(X_train[0]) )\n",
        "print( len(X_train) )\n",
        "\n",
        "print(X_train[0])\n",
        "print(X_train[1])\n",
        "print(X_train[2])\n",
        "\n",
        "print(\"=================\")\n",
        "print(y_train[0])\n",
        "print(y_train[1])\n",
        "\n",
        "print(\"=================\")\n",
        "print( len(X_test[0]) )\n",
        "print( len(X_test) )\n",
        "\n",
        "print(X_test[0])\n",
        "print(X_test[1])\n",
        "print(X_test[2])\n",
        "print(\"=================\")\n",
        "print(y_test[0])\n",
        "print(y_test[1])"
      ],
      "execution_count": null,
      "outputs": []
    },
    {
      "cell_type": "code",
      "metadata": {
        "id": "BKHP_dr7Hz_r",
        "colab_type": "code",
        "colab": {}
      },
      "source": [
        "print(X_train.shape)\n",
        "print(y_train.shape)\n",
        "\n",
        "print(X_test.shape)\n",
        "print(y_test.shape)\n"
      ],
      "execution_count": null,
      "outputs": []
    },
    {
      "cell_type": "markdown",
      "metadata": {
        "id": "bX6LPWt6RZXq",
        "colab_type": "text"
      },
      "source": [
        "### dataloader メソッドで、tensorに変更してくれるから必要なし"
      ]
    },
    {
      "cell_type": "code",
      "metadata": {
        "id": "RggK0UmAkALE",
        "colab_type": "code",
        "colab": {}
      },
      "source": [
        "\"\"\"\n",
        "X_train = torch.tensor(X_train)\n",
        "y_train = torch.tensor(y_train)\n",
        "\n",
        "X_test = torch.tensor(X_test)\n",
        "y_test = torch.tensor(y_test)\n",
        "\"\"\""
      ],
      "execution_count": null,
      "outputs": []
    },
    {
      "cell_type": "markdown",
      "metadata": {
        "id": "JNe8yTqekALH",
        "colab_type": "text"
      },
      "source": [
        "## Dataを組むまでの流れ\n",
        "1. Datasetクラスを作成する \n",
        "    1. 入力データと正解データにわける tensorにすること pd->np->tensorに変換する必要がある\n",
        "    1. \\__len__と\\__getitem__を用意すること\n",
        "1. Dataloaderを準備  \n",
        "Datasetクラスで作ったやつをinputするだけなので難易度は低い\n",
        "    "
      ]
    },
    {
      "cell_type": "markdown",
      "metadata": {
        "id": "9RAc3k6_kALI",
        "colab_type": "text"
      },
      "source": [
        " ### datasetクラスを作成する"
      ]
    },
    {
      "cell_type": "code",
      "metadata": {
        "id": "W0i-tzkkkALI",
        "colab_type": "code",
        "colab": {}
      },
      "source": [
        "class Dataset(torch.utils.data.Dataset):\n",
        "    def __init__(self,  X , y , mode='train' ,transform = None):\n",
        "        self.data = X\n",
        "        self.label = y\n",
        "        self.num = len(X)\n",
        "        self.mode= mode\n",
        "        self.transform = transform\n",
        "       \n",
        "    \n",
        "    def __len__(self):                         ###データの大きさをreturn するlenメソッドを必ず作成する必要がある\n",
        "        return self.num\n",
        "    \n",
        "    def __getitem__(self, idx):           ###正解データと入力データが対となるようなgetitemメソッドを必ず作成する必要がある\n",
        "        \n",
        "        out_data = self.data[idx]\n",
        "        out_label =  self.label[idx]\n",
        "        \n",
        "        return out_data, out_label\n",
        "        "
      ],
      "execution_count": null,
      "outputs": []
    },
    {
      "cell_type": "markdown",
      "metadata": {
        "id": "rR62zoxqkALL",
        "colab_type": "text"
      },
      "source": [
        "### XとyをDatasetクラスを継承させて作った自作クラスにinput"
      ]
    },
    {
      "cell_type": "code",
      "metadata": {
        "id": "kAZCaxtCkALM",
        "colab_type": "code",
        "colab": {}
      },
      "source": [
        "trainset = Dataset( X_train , y_train )"
      ],
      "execution_count": null,
      "outputs": []
    },
    {
      "cell_type": "code",
      "metadata": {
        "id": "-gC5qcG7IdA1",
        "colab_type": "code",
        "colab": {}
      },
      "source": [
        "#trainset.shape\n",
        "X_train.shape"
      ],
      "execution_count": null,
      "outputs": []
    },
    {
      "cell_type": "code",
      "metadata": {
        "id": "K_P-EHNRkALP",
        "colab_type": "code",
        "colab": {}
      },
      "source": [
        "dataloader = torch.utils.data.DataLoader(dataset=trainset, batch_size = 32 , shuffle=True)"
      ],
      "execution_count": null,
      "outputs": []
    },
    {
      "cell_type": "markdown",
      "metadata": {
        "id": "ZJ11_PDtkALR",
        "colab_type": "text"
      },
      "source": [
        "### 中身の確認\n",
        "### dataloaderを使用したとしてもshapeは、(バッチ、timestep、説明変数次元)の順になる\n",
        "dataloaderを使用すると、勝手にnumpy型からtorch型に変更されている。"
      ]
    },
    {
      "cell_type": "code",
      "metadata": {
        "id": "BqZq7WQ6kALS",
        "colab_type": "code",
        "colab": {}
      },
      "source": [
        "dataiter = iter(dataloader)\n",
        "\n",
        "X, labal = dataiter.next()"
      ],
      "execution_count": null,
      "outputs": []
    },
    {
      "cell_type": "code",
      "metadata": {
        "id": "wSSJqtRmkALU",
        "colab_type": "code",
        "colab": {}
      },
      "source": [
        "print(X.shape)\n",
        "print(len(X_train))\n",
        "print(len(y_train))"
      ],
      "execution_count": null,
      "outputs": []
    },
    {
      "cell_type": "markdown",
      "metadata": {
        "id": "x39Y_i0TkALe",
        "colab_type": "text"
      },
      "source": [
        "# モデルの構築\n",
        "* input 層\n",
        "* middle 層\n",
        "* output 層"
      ]
    },
    {
      "cell_type": "code",
      "metadata": {
        "id": "loNbyOFrkALf",
        "colab_type": "code",
        "colab": {}
      },
      "source": [
        "import torch\n",
        "import torch.nn as nn\n",
        "\n",
        "\n",
        "class Predictor(nn.Module):\n",
        "    def __init__(self, inputDim, hiddenDim, outputDim):\n",
        "        super(Predictor, self).__init__()\n",
        "        \n",
        "        self.lstm = nn.LSTM(input_size = inputDim,\n",
        "                            hidden_size = hiddenDim,\n",
        "                            batch_first = True)\n",
        "                           \n",
        "        self.lstm_output_layer = nn.Linear(hiddenDim, outputDim)\n",
        "        #self.sigmoid_out = nn.Linear(outputDim, 4)    # labelは one hotベクトルなので outputを4クラスに分けられるようにする\n",
        "        #self.softmax = nn.LogSoftmax(dim=1)\n",
        "    \n",
        "    def forward(self, inputs, hidden0=None):\n",
        "        #print(inputs) 　　　　# このinputsには1batchが入る。サイズが4なら 4 ,50, 1 \n",
        "        output, (hidden, cell) = self.lstm(inputs, hidden0) #LSTM層\n",
        "        output = self.lstm_output_layer(output[:, -1, :]) #全結合層\n",
        "        #output = self.sigmoid_out(output)\n",
        "        return output\n"
      ],
      "execution_count": null,
      "outputs": []
    },
    {
      "cell_type": "code",
      "metadata": {
        "id": "TncCxqQ5kALh",
        "colab_type": "code",
        "colab": {}
      },
      "source": [
        "model = Predictor(4,5,4)    # inputの次元は? 株価onlyだから1次元となるのか、それとも時間を5個分とってくるから 5次元？？\n",
        "#model = Predictor(input_dim,64,4).to(device)     ### 隠れ層は50で行う必要がある\n",
        "model"
      ],
      "execution_count": null,
      "outputs": []
    },
    {
      "cell_type": "code",
      "metadata": {
        "id": "eHuV8ECbkALk",
        "colab_type": "code",
        "colab": {}
      },
      "source": [
        "# 損失関数\n",
        "#criterion = nn.MSELoss()      ### 損失化関数は二乗誤差を設定。　回帰モデルなのでOK\n",
        "#criterion = nn.CrossEntropyLoss() #ソフトマックス交差エントロピー\n",
        "\n",
        "criterion = nn.CrossEntropyLoss()\n",
        "\n",
        "\n",
        "\n",
        "# 最適化関数\n",
        "optimizer = torch.optim.SGD(model.parameters(), lr=0.01)     ### lrは学習率"
      ],
      "execution_count": null,
      "outputs": []
    },
    {
      "cell_type": "code",
      "metadata": {
        "id": "YRax5EFGE0tE",
        "colab_type": "code",
        "colab": {}
      },
      "source": [
        "loss_ = nn.CrossEntropyLoss()\n",
        "input = torch.randn(3, 5, requires_grad=True)\n",
        "target = torch.empty(3, dtype=torch.long).random_(5)\n",
        "\n",
        "print(input)\n",
        "print(input.shape)\n",
        "print(target)\n",
        "print(target.shape)\n",
        "#output_ = loss_(input, target)\n",
        "#output_.backward()\n"
      ],
      "execution_count": null,
      "outputs": []
    },
    {
      "cell_type": "markdown",
      "metadata": {
        "id": "TASWMi6ckALo",
        "colab_type": "text"
      },
      "source": [
        "# dataloaderを使った学習"
      ]
    },
    {
      "cell_type": "code",
      "metadata": {
        "id": "avAPnenCkALp",
        "colab_type": "code",
        "colab": {}
      },
      "source": [
        "ls_loss = []\n",
        "model.train()\n",
        "\n",
        "\n",
        "for epoch in range(10):\n",
        "    \n",
        "    model.train()\n",
        "    for i, (X, label) in enumerate(dataloader):\n",
        "\n",
        "        label = label.long()\n",
        "\n",
        "        X_torch = X.to(device)\n",
        "        label_torch = label.to(device)\n",
        "\n",
        "\n",
        "\n",
        "        #print(\"X shape \",X_torch.shape)\n",
        "        #print(\"label shape\",label_torch.shape)\n",
        "        #print(\"label\",label_torch)\n",
        "        \n",
        "\n",
        "        #label_torch = label_torch -1  ## なんの意味があるがよくわかっていないが、損失関数を計算するときにこれを入れないとエラーになる\n",
        "                                      ## criterion()にて、 index error Target 4 is out of bounds\n",
        "\n",
        "\n",
        "        # 勾配の初期化\n",
        "        optimizer.zero_grad()     \n",
        "        \n",
        "        y_pred = model( X_torch )          ### ニューラルネットで計算したoutputを保存\n",
        "        \n",
        "        #print(\"y_pred : \",y_pred)\n",
        "        #print(\"y_pred shape: \",y_pred.shape)\n",
        "        #print(\"label_torch\" ,label_torch)\n",
        "        #print(\"label_torch shape\" ,label_torch.shape)\n",
        "\n",
        "        loss = criterion(y_pred, label_torch) ###教師データとoutputから損失関数を計算\n",
        "        #break\n",
        "\n",
        "        # バッチごとのロスを記録する\n",
        "        ls_loss.append(loss)\n",
        "        \n",
        "        # 勾配の計算\n",
        "        loss.backward()           ### 損失関数を微分 = 勾配の計算\n",
        "        \n",
        "        # パラメータの更新\n",
        "        optimizer.step()           \n",
        "        \n",
        "        #print('*** by optimizer.step()')\n",
        "    "
      ],
      "execution_count": null,
      "outputs": []
    },
    {
      "cell_type": "markdown",
      "metadata": {
        "id": "RpLr2cdtkALs",
        "colab_type": "text"
      },
      "source": [
        "### ロスの確認 dataloader"
      ]
    },
    {
      "cell_type": "code",
      "metadata": {
        "id": "8yEzoyfNkALs",
        "colab_type": "code",
        "colab": {}
      },
      "source": [
        "plt.figure()\n",
        "plt.plot(ls_loss,label=\"loss\")\n",
        "plt.title('Optimization function error') # 最適化関数の誤差\n",
        "plt.legend()\n",
        "plt.grid()"
      ],
      "execution_count": null,
      "outputs": []
    },
    {
      "cell_type": "markdown",
      "metadata": {
        "id": "FiupQO8OkALx",
        "colab_type": "text"
      },
      "source": [
        "## できあがったmodelでテストを行ってみる"
      ]
    },
    {
      "cell_type": "code",
      "metadata": {
        "id": "EoCnpLAUkALx",
        "colab_type": "code",
        "colab": {}
      },
      "source": [
        "testset = Dataset( X_test , y_test )\n",
        "dataloader = torch.utils.data.DataLoader(dataset=testset, batch_size = 1, shuffle=True)"
      ],
      "execution_count": null,
      "outputs": []
    },
    {
      "cell_type": "code",
      "metadata": {
        "id": "No4-WpTDkALz",
        "colab_type": "code",
        "colab": {}
      },
      "source": [
        "dataiter = iter(dataloader)\n",
        "\n",
        "X, labal = dataiter.next()"
      ],
      "execution_count": null,
      "outputs": []
    },
    {
      "cell_type": "code",
      "metadata": {
        "id": "iWNJCxT2kAL1",
        "colab_type": "code",
        "colab": {}
      },
      "source": [
        "\n",
        "y_testresult = []\n",
        "model.eval()\n",
        "#t = np.arange(50, 58)\n",
        "\n",
        "\n",
        "\n",
        "for i, (X, label) in enumerate(dataloader):\n",
        "\n",
        "    #print(\"@@@@@@@@@@@@\", i)\n",
        "    \n",
        "    #print(X)\n",
        "    optimizer.zero_grad()\n",
        "    \n",
        "    y = model(X)\n",
        "    l = label\n",
        "    \n",
        "    #print(\"label\",label)\n",
        "    #print(y)\n",
        "    \n",
        "    y = y.to('cpu').detach().numpy().copy()\n",
        "    l = l.to('cpu').detach().numpy().copy()\n",
        "    \n",
        "    y_flat = y.flatten()\n",
        "    l_flat = l.flatten()\n",
        "    \n",
        "  \n",
        "    plt.plot(t,y_flat, marker = 'o')\n",
        "    plt.plot(t,l_flat, marker = 'x')\n",
        "    plt.show()\n"
      ],
      "execution_count": null,
      "outputs": []
    },
    {
      "cell_type": "code",
      "metadata": {
        "id": "xYbmR9KskAL6",
        "colab_type": "code",
        "colab": {}
      },
      "source": [
        "y = model(X)"
      ],
      "execution_count": null,
      "outputs": []
    },
    {
      "cell_type": "code",
      "metadata": {
        "id": "crnYG_U6nNgw",
        "colab_type": "code",
        "colab": {}
      },
      "source": [
        "print(X)\n",
        "print(y)\n",
        "print(l)"
      ],
      "execution_count": null,
      "outputs": []
    },
    {
      "cell_type": "code",
      "metadata": {
        "id": "n73CglU9nOMN",
        "colab_type": "code",
        "colab": {}
      },
      "source": [
        ""
      ],
      "execution_count": null,
      "outputs": []
    }
  ]
}